{
 "cells": [
  {
   "cell_type": "markdown",
   "metadata": {},
   "source": [
    "## Config"
   ]
  },
  {
   "cell_type": "markdown",
   "metadata": {},
   "source": [
    "tiny change to test git auth"
   ]
  },
  {
   "cell_type": "code",
   "execution_count": 1,
   "metadata": {},
   "outputs": [],
   "source": [
    "import os\n",
    "from dotenv import load_dotenv\n",
    "\n",
    "load_dotenv(override=True)\n",
    "\n",
    "OPENAI_API_KEY = os.environ.get(\"OPENAI_API_KEY\")"
   ]
  },
  {
   "cell_type": "code",
   "execution_count": 16,
   "metadata": {},
   "outputs": [],
   "source": [
    "\"\"\"\n",
    "import logging\n",
    "import sys\n",
    "\n",
    "logging.basicConfig(stream=sys.stdout, level=logging.DEBUG)\n",
    "logging.getLogger().addHandler(logging.StreamHandler(stream=sys.stdout))\n",
    "import openai\n",
    "\n",
    "openai.log = \"None\"\n",
    "\"\"\""
   ]
  },
  {
   "cell_type": "code",
   "execution_count": null,
   "metadata": {},
   "outputs": [],
   "source": []
  },
  {
   "cell_type": "markdown",
   "metadata": {},
   "source": [
    "# ServiceContext  (high level)\n",
    "Service context is a container that contains the following objects that are commonly used:\n",
    "- LLMPredictor (class for configuring the LLM)\n",
    "- PromptHelper (For configuring input size/chucking)\n",
    "- BaseEmbedding (For configuring the embedding)\n",
    "- Node_parser"
   ]
  },
  {
   "cell_type": "markdown",
   "metadata": {},
   "source": [
    "**PARAMETERS:**\n",
    "- llm_predictor (Optional[BaseLLMPredictor]) – LLMPredictor\n",
    "- prompt_helper (Optional[PromptHelper]) – PromptHelper\n",
    "- embed_model (Optional[BaseEmbedding]) – BaseEmbedding or “local” (use local model)\n",
    "- node_parser (Optional[NodeParser]) – NodeParser\n",
    "- llama_logger (Optional[LlamaLogger]) – LlamaLogger (deprecated)\n",
    "- chunk_size (Optional[int]) – chunk_size\n",
    "- callback_manager (Optional[CallbackManager]) – CallbackManager\n",
    "- system_prompt (Optional[str]) – System-wide prompt to be prepended to all input prompts, used to guide system “decision making”\n",
    "- query_wrapper_prompt (Optional[BasePromptTemplate]) – A format to wrap passed-in input queries."
   ]
  },
  {
   "cell_type": "markdown",
   "metadata": {},
   "source": [
    "## embed_model, Embeddings"
   ]
  },
  {
   "cell_type": "markdown",
   "metadata": {},
   "source": [
    "### OpenAI"
   ]
  },
  {
   "cell_type": "markdown",
   "metadata": {},
   "source": [
    "\n",
    "PARAMETERS\n",
    "mode (str) – Mode for embedding. Defaults to OpenAIEmbeddingMode.TEXT_SEARCH_MODE. Options are:\n",
    "\n",
    "- OpenAIEmbeddingMode.SIMILARITY_MODE\n",
    "\n",
    "- OpenAIEmbeddingMode.TEXT_SEARCH_MODE\n",
    "\n",
    "OpenAI specifically has a \"text-embedding-ada-002\" model (their default) which is simply what TEXT_SEARCH_MODE selects"
   ]
  },
  {
   "cell_type": "code",
   "execution_count": 14,
   "metadata": {},
   "outputs": [],
   "source": [
    "from llama_index.embeddings.openai import OpenAIEmbedding\n",
    "from llama_index import ServiceContext\n",
    "\n",
    "embed_model_oai= OpenAIEmbedding(\n",
    "    mode=\"text_search\",  # default, alternatively set to \"similarity\"\n",
    "    model=\"text-embedding-ada-002\"  # default\n",
    ")"
   ]
  },
  {
   "cell_type": "code",
   "execution_count": 15,
   "metadata": {},
   "outputs": [],
   "source": [
    "service_context = ServiceContext.from_defaults(\n",
    "  #Default openai settings via\n",
    "  #embed_model=openai\n",
    "  \n",
    "  #Or loading the detailed embed_model\n",
    "  embed_model=embed_model_oai\n",
    ")"
   ]
  },
  {
   "cell_type": "markdown",
   "metadata": {},
   "source": [
    "### Hugging face"
   ]
  },
  {
   "cell_type": "code",
   "execution_count": 4,
   "metadata": {},
   "outputs": [],
   "source": [
    "from llama_index.embeddings.huggingface import HuggingFaceEmbedding\n",
    "\n",
    "embed_model_hf = HuggingFaceEmbedding(\n",
    "    model_name='intfloat/multilingual-e5-small',\n",
    "    normalize=True,\n",
    "    #Instruction to prepend query\n",
    "    query_instruction='query:',\n",
    "    #Instruction to prepend text\n",
    "    text_instruction='passage:'\n",
    "    \n",
    "    #Or loading default values via\n",
    "    #embed_model=\"local:intfloat/multilingual-e5-small\"\n",
    ")"
   ]
  },
  {
   "cell_type": "code",
   "execution_count": 5,
   "metadata": {},
   "outputs": [],
   "source": [
    "from llama_index import ServiceContext\n",
    "\n",
    "service_context = ServiceContext.from_defaults(\n",
    "  embed_model=\"local:intfloat/multilingual-e5-small\"\n",
    ")"
   ]
  },
  {
   "cell_type": "markdown",
   "metadata": {},
   "source": [
    "## llm "
   ]
  },
  {
   "cell_type": "markdown",
   "metadata": {},
   "source": [
    "(llm_predictor function apparently about to be depreciated)\n",
    "\n",
    "**llm classes to change LLM related parameters**\n",
    "For example, to set The number of output tokens is usually set to some low number by default (for instance, with OpenAI the default is 256). Not true, just tested with default, it makes no difference!"
   ]
  },
  {
   "cell_type": "code",
   "execution_count": 44,
   "metadata": {},
   "outputs": [
    {
     "name": "stdout",
     "output_type": "stream",
     "text": [
      "The meaning of life is a philosophical question that has been debated by scholars, theologians, and individuals for centuries. Different perspectives and beliefs offer various interpretations of life's purpose. Some may find meaning in religious or spiritual beliefs, while others may seek fulfillment through personal relationships, achievements, or contributing to society. Ultimately, the meaning of life is subjective and can vary from person to person.\n"
     ]
    }
   ],
   "source": [
    "from llama_index.llms import OpenAI\n",
    "\n",
    "# define LLM\n",
    "llm = OpenAI(temperature=0.1, model=\"gpt-3.5-turbo\")\n",
    "\n",
    "resp = llm.complete('What is the meaning of life?')\n",
    "print(resp)"
   ]
  },
  {
   "cell_type": "code",
   "execution_count": 76,
   "metadata": {},
   "outputs": [
    {
     "name": "stdout",
     "output_type": "stream",
     "text": [
      "The meaning of life is a philosophical question that has been debated by scholars, theologians, and individuals for centuries. Different perspectives and beliefs offer various interpretations of life's purpose. Some may find meaning in religious or spiritual beliefs, while others may seek fulfillment through personal relationships, achievements, or contributing to society. Ultimately, the meaning of life is subjective and can vary from person to person.\n"
     ]
    }
   ],
   "source": [
    "# define LLM\n",
    "llm = OpenAI(temperature=0.0,\n",
    "             model=\"gpt-3.5-turbo\",\n",
    "             max_tokens=1024)\n",
    "\n",
    "resp = llm.complete('What is the meaning of life?')\n",
    "print(resp)"
   ]
  },
  {
   "cell_type": "markdown",
   "metadata": {},
   "source": [
    "Add to **service context** as argument,"
   ]
  },
  {
   "cell_type": "code",
   "execution_count": 37,
   "metadata": {},
   "outputs": [],
   "source": [
    "service_context = ServiceContext.from_defaults(llm=llm,\n",
    "                                               embed_model= embed_model_hf)"
   ]
  },
  {
   "cell_type": "markdown",
   "metadata": {},
   "source": [
    "#### **Or use LLM directly**"
   ]
  },
  {
   "cell_type": "code",
   "execution_count": 33,
   "metadata": {},
   "outputs": [
    {
     "name": "stdout",
     "output_type": "stream",
     "text": [
      "Hello! I am an AI language model developed by OpenAI, and I don't have a personal name. You can simply refer to me as OpenAI Assistant. How can I assist you today?\n"
     ]
    }
   ],
   "source": [
    "resp = OpenAI().complete('Paul Graham is ') \n",
    "print(resp)"
   ]
  },
  {
   "cell_type": "code",
   "execution_count": 35,
   "metadata": {},
   "outputs": [
    {
     "name": "stdout",
     "output_type": "stream",
     "text": [
      "assistant: Ahoy there, matey! The name's Captain Crimsonbeard, the most colorful pirate to sail the seven seas!\n"
     ]
    }
   ],
   "source": [
    "from llama_index.llms import ChatMessage\n",
    "\n",
    "messages = [\n",
    "    ChatMessage(role=\"system\", content=\"You are a pirate with a colorful personality\"),\n",
    "    ChatMessage(role=\"user\", content=\"What is your name\"),\n",
    "]\n",
    "resp = OpenAI().chat(messages)\n",
    "print(resp)"
   ]
  },
  {
   "cell_type": "markdown",
   "metadata": {},
   "source": [
    "## PromptHelper"
   ]
  },
  {
   "cell_type": "markdown",
   "metadata": {},
   "source": [
    "Helper function to deal with LLM Context window limitations.\n",
    "\n",
    "Calculates available context size by starting with the max context size and reserving space for the prompt template and the ouput.\n",
    "\n",
    "ALso provides utility for 'repacking' text chunks retrieved from index to fit the LLM context window."
   ]
  },
  {
   "cell_type": "code",
   "execution_count": 49,
   "metadata": {},
   "outputs": [],
   "source": [
    "from llama_index import PromptHelper\n",
    "\n",
    "#Default room left for output, DEFAULT_NUM_OUTPUTS = 256 (tokens)\n",
    "prompt_helper = PromptHelper(num_output=256)"
   ]
  },
  {
   "cell_type": "code",
   "execution_count": 50,
   "metadata": {},
   "outputs": [],
   "source": [
    "service_context = ServiceContext.from_defaults(llm=llm,\n",
    "                                               embed_model= embed_model_hf,\n",
    "                                                prompt_helper=prompt_helper)"
   ]
  },
  {
   "cell_type": "markdown",
   "metadata": {},
   "source": [
    "## Nodeparser"
   ]
  },
  {
   "cell_type": "code",
   "execution_count": 51,
   "metadata": {},
   "outputs": [],
   "source": [
    "from llama_index.text_splitter import TokenTextSplitter\n",
    "from llama_index.node_parser import SimpleNodeParser\n",
    "\n",
    "node_parser_512 = SimpleNodeParser.from_defaults(\n",
    "    text_splitter=TokenTextSplitter(chunk_size=512, chunk_overlap=20)\n",
    ")"
   ]
  },
  {
   "cell_type": "markdown",
   "metadata": {},
   "source": [
    "## Using ServiceContext"
   ]
  },
  {
   "cell_type": "code",
   "execution_count": 54,
   "metadata": {},
   "outputs": [],
   "source": [
    "service_context = ServiceContext.from_defaults(llm=llm,\n",
    "                                               embed_model= embed_model_hf,\n",
    "                                                prompt_helper=prompt_helper,\n",
    "                                                node_parser=node_parser_512\n",
    "                                                )"
   ]
  },
  {
   "cell_type": "markdown",
   "metadata": {},
   "source": [
    "**Local configuration**"
   ]
  },
  {
   "cell_type": "code",
   "execution_count": 60,
   "metadata": {},
   "outputs": [
    {
     "data": {
      "text/plain": [
       "'\\nquery_engine = index.as_query_engine(service_context=service_context)\\nresponse = query_engine.query(\"What did the author do growing up?\")\\nprint(response)\\n'"
      ]
     },
     "execution_count": 60,
     "metadata": {},
     "output_type": "execute_result"
    }
   ],
   "source": [
    "\"\"\"\n",
    "query_engine = index.as_query_engine(service_context=service_context)\n",
    "response = query_engine.query(\"What did the author do growing up?\")\n",
    "print(response)\n",
    "\"\"\""
   ]
  },
  {
   "cell_type": "markdown",
   "metadata": {},
   "source": [
    "**Global configuration> Default pipeline for entire llamaindex pipeline**"
   ]
  },
  {
   "cell_type": "code",
   "execution_count": 59,
   "metadata": {},
   "outputs": [],
   "source": [
    "from llama_index import set_global_service_context\n",
    "set_global_service_context(service_context)"
   ]
  },
  {
   "cell_type": "markdown",
   "metadata": {},
   "source": [
    "# Load data & create nodes"
   ]
  },
  {
   "cell_type": "code",
   "execution_count": null,
   "metadata": {},
   "outputs": [],
   "source": [
    "from llama_index import SimpleDirectoryReader\n",
    "\n",
    "documents = SimpleDirectoryReader(input_files=['./data/dagpengeguide-2023-clean.docx']).load_data()"
   ]
  },
  {
   "cell_type": "code",
   "execution_count": null,
   "metadata": {},
   "outputs": [
    {
     "data": {
      "application/vnd.jupyter.widget-view+json": {
       "model_id": "80949dd6b7ff4d98b0a583f755b6555d",
       "version_major": 2,
       "version_minor": 0
      },
      "text/plain": [
       "Parsing documents into nodes:   0%|          | 0/1 [00:00<?, ?it/s]"
      ]
     },
     "metadata": {},
     "output_type": "display_data"
    }
   ],
   "source": [
    "from llama_index.node_parser import SimpleNodeParser\n",
    "\n",
    "node_parser = SimpleNodeParser.from_defaults(chunk_size=512, chunk_overlap=20)\n",
    "nodes = node_parser.get_nodes_from_documents(documents, show_progress=True)"
   ]
  },
  {
   "cell_type": "markdown",
   "metadata": {},
   "source": [
    "# Creating indexes"
   ]
  },
  {
   "cell_type": "markdown",
   "metadata": {},
   "source": [
    "- Summary Index: Stores Nodes as a sequential chain, and during query time, all Nodes are loaded into the Response Synthesis module if no other query parameters are specified.\n",
    "- Vector Store Index: Stores each Node and a corresponding embedding in a Vector Store, and queries involve fetching the top-k most similar Nodes.\n",
    "- Tree Index: Builds a hierarchical tree from a set of Nodes, and queries involve traversing from root nodes down to leaf nodes.\n",
    "- Keyword Table Index: Extracts keywords from each Node to build a mapping, and queries extract relevant keywords to fetch corresponding Nodes."
   ]
  },
  {
   "cell_type": "markdown",
   "metadata": {},
   "source": [
    "### Vectore Store Index"
   ]
  },
  {
   "cell_type": "code",
   "execution_count": 58,
   "metadata": {},
   "outputs": [
    {
     "data": {
      "application/vnd.jupyter.widget-view+json": {
       "model_id": "33de549a5434426e8bedecee99992fab",
       "version_major": 2,
       "version_minor": 0
      },
      "text/plain": [
       "Generating embeddings:   0%|          | 0/48 [00:00<?, ?it/s]"
      ]
     },
     "metadata": {},
     "output_type": "display_data"
    }
   ],
   "source": [
    "from llama_index import VectorStoreIndex\n",
    "\n",
    "index = VectorStoreIndex(nodes, service_context=service_context, show_progress=True)"
   ]
  },
  {
   "cell_type": "markdown",
   "metadata": {},
   "source": [
    "### Summary index\n",
    "Using LLM calls to generate keywords"
   ]
  },
  {
   "cell_type": "markdown",
   "metadata": {},
   "source": [
    "Not working , context window error, and seems overly complicated?"
   ]
  },
  {
   "cell_type": "code",
   "execution_count": 85,
   "metadata": {},
   "outputs": [
    {
     "data": {
      "text/plain": [
       "'\\nfrom llama_index.indices.document_summary import DocumentSummaryIndex\\nfrom llama_index import get_response_synthesizer\\n\\n\\nchatgpt = OpenAI(temperature=0.0,\\n             model=\"gpt-3.5-turbo\")\\n\\nprompt_helper = PromptHelper(num_output=256)\\n\\nservice_context = ServiceContext.from_defaults(llm=chatgpt,\\n                                               chunk_size=512,\\n                                               prompt_helper=prompt_helper,\\n)\\n\\nresponse_synthesizer = get_response_synthesizer(\\n    response_mode=\"compact\", use_async=True\\n)\\ndoc_summary_index = DocumentSummaryIndex.from_documents(\\n    documents=documents,\\n    service_context=service_context,\\n    response_synthesizer=response_synthesizer,\\n    show_progress=True,\\n)'"
      ]
     },
     "execution_count": 85,
     "metadata": {},
     "output_type": "execute_result"
    }
   ],
   "source": [
    "\"\"\"\n",
    "from llama_index.indices.document_summary import DocumentSummaryIndex\n",
    "from llama_index import get_response_synthesizer\n",
    "\n",
    "\n",
    "chatgpt = OpenAI(temperature=0.0,\n",
    "             model=\"gpt-3.5-turbo\")\n",
    "\n",
    "prompt_helper = PromptHelper(num_output=256)\n",
    "\n",
    "service_context = ServiceContext.from_defaults(llm=chatgpt,\n",
    "                                               chunk_size=512,\n",
    "                                               prompt_helper=prompt_helper,\n",
    ")\n",
    "\n",
    "response_synthesizer = get_response_synthesizer(\n",
    "    response_mode=\"compact\", use_async=True\n",
    ")\n",
    "doc_summary_index = DocumentSummaryIndex.from_documents(\n",
    "    documents=documents,\n",
    "    service_context=service_context,\n",
    "    response_synthesizer=response_synthesizer,\n",
    "    show_progress=True,\n",
    ")\"\"\""
   ]
  },
  {
   "cell_type": "markdown",
   "metadata": {},
   "source": [
    "# Storage Context "
   ]
  },
  {
   "cell_type": "markdown",
   "metadata": {},
   "source": [
    "**For vectorstores**\n",
    "- Document Stores: The repositories for storing ingested documents represented as Node objects.\n",
    "- Index Stores: The places where index metadata are kept.\n",
    "- Vector Stores: The storages for holding embedding vectors."
   ]
  },
  {
   "cell_type": "code",
   "execution_count": 61,
   "metadata": {},
   "outputs": [],
   "source": [
    "# Persisting to disk\n",
    "index.storage_context.persist(persist_dir=\"db/\")"
   ]
  },
  {
   "cell_type": "markdown",
   "metadata": {},
   "source": [
    "**Loading from disk**"
   ]
  },
  {
   "cell_type": "code",
   "execution_count": null,
   "metadata": {},
   "outputs": [],
   "source": [
    "import os\n",
    "from llama_index import StorageContext, load_index_from_storage\n",
    "\n",
    "#Check if db exists, if it does, load from db using the below code\n",
    "if os.path.exists(\"db/\"):\n",
    "    storage_context = StorageContext.from_defaults(persist_dir=\"db/\")\n",
    "    index = load_index_from_storage(storage_context)"
   ]
  },
  {
   "cell_type": "markdown",
   "metadata": {},
   "source": [
    "# Query"
   ]
  },
  {
   "cell_type": "code",
   "execution_count": 86,
   "metadata": {},
   "outputs": [],
   "source": [
    "query_engine = index.as_query_engine(service_context=service_context)"
   ]
  },
  {
   "cell_type": "code",
   "execution_count": 7,
   "metadata": {},
   "outputs": [],
   "source": [
    "from llama_index import set_global_service_context\n",
    "set_global_service_context(service_context)"
   ]
  },
  {
   "cell_type": "code",
   "execution_count": 87,
   "metadata": {},
   "outputs": [],
   "source": [
    "# Query index\n",
    "query_engine = index.as_query_engine(verbose=True)\n",
    "response = query_engine.query(\"Hvordan påvirker det mine dagpenge hvis jeg arbejder deltid?\")"
   ]
  },
  {
   "cell_type": "code",
   "execution_count": 88,
   "metadata": {},
   "outputs": [
    {
     "data": {
      "text/plain": [
       "'Hvis du arbejder deltid, kan det påvirke dine dagpenge. Hver time, du arbejder, sættes ind på en beskæftigelseskonto, som du kan bruge til enten at forlænge din dagpengeperiode eller gemme til du har optjent nok timer til en ny toårig dagpengeperiode. Du kan også kombinere, så du bruger en del af timerne til at forlænge din dagpengeperiode og samtidig arbejder på at opnå en ny periode. Det er vigtigt at bemærke, at timerne kun kan anvendes én gang, så hvis du bruger dem til at forlænge din nuværende periode, kan du ikke også bruge dem til at genoptjene en ny periode.'"
      ]
     },
     "execution_count": 88,
     "metadata": {},
     "output_type": "execute_result"
    }
   ],
   "source": [
    "response.response"
   ]
  },
  {
   "cell_type": "markdown",
   "metadata": {},
   "source": [
    "## Inspecting prompts [new feature]"
   ]
  },
  {
   "cell_type": "code",
   "execution_count": 10,
   "metadata": {},
   "outputs": [],
   "source": [
    "prompts_dict = query_engine.get_prompts()"
   ]
  },
  {
   "cell_type": "code",
   "execution_count": 13,
   "metadata": {},
   "outputs": [
    {
     "data": {
      "text/plain": [
       "dict_keys(['response_synthesizer:text_qa_template', 'response_synthesizer:refine_template'])"
      ]
     },
     "execution_count": 13,
     "metadata": {},
     "output_type": "execute_result"
    }
   ],
   "source": [
    "prompts_dict.keys()"
   ]
  },
  {
   "cell_type": "code",
   "execution_count": 20,
   "metadata": {},
   "outputs": [],
   "source": [
    "# define prompt viewing function\n",
    "def display_prompt_dict(prompts_dict):\n",
    "    for k, p in prompts_dict.items():\n",
    "        text_md = f\"**Prompt Key**: {k}<br>\" f\"**Text:** <br>\"\n",
    "        display(Markdown(text_md))\n",
    "        print(p.get_template())\n",
    "        display(Markdown(\"<br><br>\"))"
   ]
  },
  {
   "cell_type": "code",
   "execution_count": 21,
   "metadata": {},
   "outputs": [
    {
     "data": {
      "text/markdown": [
       "**Prompt Key**: response_synthesizer:text_qa_template<br>**Text:** <br>"
      ],
      "text/plain": [
       "<IPython.core.display.Markdown object>"
      ]
     },
     "metadata": {},
     "output_type": "display_data"
    },
    {
     "name": "stdout",
     "output_type": "stream",
     "text": [
      "Context information is below.\n",
      "---------------------\n",
      "{context_str}\n",
      "---------------------\n",
      "Given the context information and not prior knowledge, answer the query.\n",
      "Query: {query_str}\n",
      "Answer: \n"
     ]
    },
    {
     "data": {
      "text/markdown": [
       "<br><br>"
      ],
      "text/plain": [
       "<IPython.core.display.Markdown object>"
      ]
     },
     "metadata": {},
     "output_type": "display_data"
    },
    {
     "data": {
      "text/markdown": [
       "**Prompt Key**: response_synthesizer:refine_template<br>**Text:** <br>"
      ],
      "text/plain": [
       "<IPython.core.display.Markdown object>"
      ]
     },
     "metadata": {},
     "output_type": "display_data"
    },
    {
     "name": "stdout",
     "output_type": "stream",
     "text": [
      "The original query is as follows: {query_str}\n",
      "We have provided an existing answer: {existing_answer}\n",
      "We have the opportunity to refine the existing answer (only if needed) with some more context below.\n",
      "------------\n",
      "{context_msg}\n",
      "------------\n",
      "Given the new context, refine the original answer to better answer the query. If the context isn't useful, return the original answer.\n",
      "Refined Answer: \n"
     ]
    },
    {
     "data": {
      "text/markdown": [
       "<br><br>"
      ],
      "text/plain": [
       "<IPython.core.display.Markdown object>"
      ]
     },
     "metadata": {},
     "output_type": "display_data"
    }
   ],
   "source": [
    "from IPython.display import Markdown, display\n",
    "\n",
    "display_prompt_dict(prompts_dict)"
   ]
  },
  {
   "cell_type": "markdown",
   "metadata": {},
   "source": [
    "### Updating prompts"
   ]
  },
  {
   "cell_type": "code",
   "execution_count": 11,
   "metadata": {},
   "outputs": [],
   "source": [
    "from llama_index.prompts import PromptTemplate\n",
    "\n",
    "# reset\n",
    "query_engine = index.as_query_engine(response_mode=\"tree_summarize\")\n",
    "\n",
    "# shakespeare!\n",
    "new_summary_tmpl_str = (\n",
    "    \"Context information is below.\\n\"\n",
    "    \"---------------------\\n\"\n",
    "    \"{context_str}\\n\"\n",
    "    \"---------------------\\n\"\n",
    "    \"Given the context information and not prior knowledge, \"\n",
    "    \"answer the query in the style of a Shakespeare play.\\n\"\n",
    "    \"Query: {query_str}\\n\"\n",
    "    \"Answer: \"\n",
    ")\n",
    "new_summary_tmpl = PromptTemplate(new_summary_tmpl_str)"
   ]
  },
  {
   "cell_type": "markdown",
   "metadata": {},
   "source": [
    "## Retriver / Query engines"
   ]
  },
  {
   "cell_type": "code",
   "execution_count": 22,
   "metadata": {},
   "outputs": [
    {
     "name": "stdout",
     "output_type": "stream",
     "text": [
      "Hvis du arbejder deltid, vil det påvirke dine dagpenge. Alle former for arbejde medfører fradrag i dagpengene, både lønnet og ulønnet arbejde. Dette gælder også arbejde uden for normal arbejdstid, i weekenden og på helligdage. Hvis du får løn for flere timer, end du arbejder, skal du også oplyse om disse timer. Det kan for eksempel være forberedelse til undervisning, tillæg for helligdage, løn under sygdom og lignende. Der vil være en fast omregningssats for at beregne fradraget i dine dagpenge baseret på din indtægt.\n"
     ]
    }
   ],
   "source": [
    "from llama_index import (\n",
    "    VectorStoreIndex,\n",
    "    get_response_synthesizer,\n",
    ")\n",
    "from llama_index.retrievers import VectorIndexRetriever\n",
    "from llama_index.query_engine import RetrieverQueryEngine\n",
    "\n",
    "# configure retriever\n",
    "retriever = VectorIndexRetriever(\n",
    "    index=index,\n",
    "    similarity_top_k=4,\n",
    ")\n",
    "\n",
    "# configure response synthesizer\n",
    "response_synthesizer = get_response_synthesizer(\n",
    "    response_mode=\"tree_summarize\",\n",
    ")\n",
    "\n",
    "# assemble query engine\n",
    "query_engine = RetrieverQueryEngine(\n",
    "    retriever=retriever,\n",
    "    response_synthesizer=response_synthesizer,\n",
    ")\n",
    "\n",
    "# query\n",
    "response = query_engine.query(\"Hvordan påvirker det mine dagpenge hvis jeg arbejder deltid?\")\n",
    "print(response)"
   ]
  },
  {
   "cell_type": "markdown",
   "metadata": {},
   "source": [
    "# Q generation\n"
   ]
  },
  {
   "cell_type": "code",
   "execution_count": null,
   "metadata": {},
   "outputs": [],
   "source": [
    "llm = OpenAI(temperature=0.0,\n",
    "             model=\"gpt-3.5-turbo\")\n",
    "\n",
    "#Make a f string template with {input} \n",
    "tmlp_dagpenge = \"\"\" Nedenfor er et uddrag af en tekst. Din opgave er at stille 1 spørgsmål, hvor svaret kan findes i denne tekst.\n",
    "Du må KUN stille spørgsmål, hvor svaret kan findes direkte i teksten. Returner 1 og kun 1 spørgsmål og intet andet.\n",
    "\n",
    "TEKST: Dagpenge udbetales for en måned ad gangen med et fast timetal på 160,33 timer for fuldtidsforsikrede og på 130 timer for deltidsforsikrede medlemmer. Der kan således maksimalt udbetales dagpenge for 160,33 henholdsvis 130 timer for en måned. Udbetalingen sker bagud for en måned.\n",
    "=========\n",
    "SPØRGSMÅL: Hvor mange timer kan der maksimalt udbetales dagpenge for?\n",
    "\\n\n",
    "TEKST: Udbetalingen af dagpenge sker på baggrund af et dagpengekort (månedsoplysninger), som medlemmet udfylder og indsender til a-kassen tidligst en uge før en måned udgang.\n",
    "=========\n",
    "SPØRGSMÅL: Hvor tidligt kan et medlem indsende dagpengekortet?\n",
    "\\n\n",
    "TEKST: {sektion}\n",
    "=========\n",
    "SPØRGSMÅL:\n",
    "\"\"\"\n",
    "\n",
    "\n",
    "paragrah = 'Medlemmet skal efter bekendtgørelsens § 2, stk. 3 oplyse om forventede løntimer, indkomst og andre forhold af betydning for ret til dagpenge fra tidspunktet for indsendelsen af dagpengekortet og frem til månedens udgang. Der er dermed tale om, at medlemmet angiver et forventet antal arbejdstimer m.v. i de sidste dage i måneden.'\n",
    "\n",
    "resp = llm.complete(tmlp_dagpenge.format(sektion=paragrah))\n",
    "print(resp)\n"
   ]
  },
  {
   "cell_type": "code",
   "execution_count": 111,
   "metadata": {},
   "outputs": [
    {
     "name": "stdout",
     "output_type": "stream",
     "text": [
      "Hvornår skal jeg oplyse om de forventede løntimer og indkomst?\n"
     ]
    }
   ],
   "source": [
    "llm = OpenAI(temperature=1.0,\n",
    "             model=\"gpt-3.5-turbo\")\n",
    "\n",
    "#Make a f string template with {input} \n",
    "tmlp_dagpenge = \"\"\" Nedenfor er et uddrag af en tekst. Din opgave er at stille 1 spørgsmål i jeg person, hvor svaret kan findes i denne tekst\n",
    "Du må KUN stille spørgsmål, formuler spørgsmålet som var du en person der stiller et personligt spørgsmål til reglerne.\n",
    "Svaret skal kunne findes findes direkte i teksten. Returner 1 og kun 1 spørgsmål og intet andet.\n",
    "\n",
    "TEKST: Dagpenge udbetales for en måned ad gangen med et fast timetal på 160,33 timer for fuldtidsforsikrede og på 130 timer for deltidsforsikrede medlemmer. Der kan således maksimalt udbetales dagpenge for 160,33 henholdsvis 130 timer for en måned. Udbetalingen sker bagud for en måned.\n",
    "=========\n",
    "SPØRGSMÅL: Hvor mange timer kan man maksimalt få udbetalt dagepnge for?\n",
    "\\n\n",
    "TEKST: Udbetalingen af dagpenge sker på baggrund af et dagpengekort (månedsoplysninger), som medlemmet udfylder og indsender til a-kassen tidligst en uge før en måned udgang.\n",
    "=========\n",
    "SPØRGSMÅL: Hvor tidligt kan jeg indsende dagpengekortet?\n",
    "\\n\n",
    "TEKST: {sektion}\n",
    "=========\n",
    "SPØRGSMÅL:\n",
    "\"\"\"\n",
    "\n",
    "\n",
    "paragrah = 'Medlemmet skal efter bekendtgørelsens § 2, stk. 3 oplyse om forventede løntimer, indkomst og andre forhold af betydning for ret til dagpenge fra tidspunktet for indsendelsen af dagpengekortet og frem til månedens udgang. Der er dermed tale om, at medlemmet angiver et forventet antal arbejdstimer m.v. i de sidste dage i måneden.'\n",
    "\n",
    "resp = llm.complete(tmlp_dagpenge.format(sektion=paragrah))\n",
    "print(resp)\n"
   ]
  },
  {
   "cell_type": "code",
   "execution_count": 144,
   "metadata": {},
   "outputs": [],
   "source": [
    "para_list = ['Medlemmet skal efter bekendtgørelsens § 2, stk. 3 oplyse om forventede løntimer, indkomst og andre forhold af betydning for ret til dagpenge fra tidspunktet for indsendelsen af dagpengekortet og frem til månedens udgang. Der er dermed tale om, at medlemmet angiver et forventet antal arbejdstimer m.v. i de sidste dage i måneden.','Efter § 4 kan medlemmet i perioden frem til samkøringstidspunktet supplere afgivne oplysninger for hele udbetalingsperioden, og a-kassen skal behandle medlemmets oplysninger i forbindelse med samkøringen. Medlemmet kan supplere afgivne oplysninger om fx antallet af arbejdstimer, som ikke fremgår af indkomstregisteret, oplysninger om afholdt ferie, sygdom og fx, at medlemmet har været afmeldt som aktivt arbejdssøgende. De supplerende oplysninger vil herefter indgå i efterreguleringen efter bekendtgørelsens § 11. Oplysninger, som a-kassen modtager fra DFDG om medlemmets ferie, sygdom og afmelding fra jobcenteret, sidestilles med oplysninger modtaget fra medlemmet.','Medlemmet har efter lovens § 65 a, stk. 3, pligt til at give a-kassen oplysning om ethvert forhold, der kan have betydning for medlemmets ret til ydelser. Medlemmet skal derfor give a-kassen de supplerende oplysninger for udbetalingsperioden og kan derfor ikke som udgangspunkt forlade sig på, at a-kassen må forventes at få oplysningerne fra andre. Modtager a-kassen oplysningerne fra DFDG, sidestilles disse dog med oplysninger modtaget fra medlemmet, jf. ovenfor.','Kommer oplysningen til a-kassen som fx en anmeldelse fra en myndighed, en henvendelse fra jobcenteret eller fra STAR’s tilsynsmyndighed, uden at medlemmet selv har henvendt sig til a-kassen om forholdet, er den supplerende oplysning ikke omfattet af bestemmelsen.']"
   ]
  },
  {
   "cell_type": "code",
   "execution_count": 145,
   "metadata": {},
   "outputs": [],
   "source": [
    "para_list2 = ['Når et ansættelsesforhold er afsluttet, indberetter arbejdsgiveren oplysninger til indkomstregisteret om feriegodtgørelse, overarbejde m.v., som relaterer sig til det afsluttede ansættelsesforhold. Oplysningerne indberettes i mange tilfælde i måneden efter, at ansættelsesforholdet er afsluttet, men hvor der i måneden i øvrigt ikke er andre forhold, som kan have betydning for udbetalingen af dagpenge. For perioden efter arbejdsophøret vil medlemmet oplyse om 0 (nul) timer. I den periode vil arbejdsgiveren ofte foretage den nævnte slutindberetning med det resultat, at sagen falder ud til kontrol blot for at konstatere, at arbejdsgiverens indberetning vedrører en periode forud for arbejdsophøret. Bestemmelsen omfatter også efterlønsmodtagere i den første måned efter overgangen.','Denne undtagelse afgrænses til kun at gælde én gang pr. dagpengeperiode/efterlønsperiode og kun for den første måned (indplaceringsmåneden henholdsvis overgangsmåneden). Hvis medlemmet opnår ny ansættelse hos den samme arbejdsgiver i indplaceringsperioden og herefter ophører anden gang hos denne arbejdsgiver, vil der som hidtil blive foretaget en månedskontrol. Dette vil særligt være relevant ved vikararbejde.', 'Hvis der i ophørsmåneden også foreligger indberetninger for en anden arbejdsgiver foretages en fuld månedskontrol i forhold til denne anden arbejdsgiver. Undtagelsen omfatter således kun i forhold til den arbejdsgiver, medlemmet er ophørt med at arbejde for.', 'Bestemmelsen omfatter ikke situationer, hvor der er tale om en ny arbejdsgiver eller ved arbejdsophør i udbetalingsperioden. I de tilfælde skal der fortsat foretages en samkøring efter stk. 1.']"
   ]
  },
  {
   "cell_type": "code",
   "execution_count": 149,
   "metadata": {},
   "outputs": [],
   "source": [
    "para_list3 = ['§ 10 finder anvendelse i den måned, hvor medlemmet opbruger de 481 timer med et beskæftigelsestillæg efter lovens § 48, stk. 8, eller de 481 timer med 71,5 % af højeste dagpenge til dimittender efter lovens § 49, stk. 5, 1. og 2. pkt. I den måned sker udbetalingen af dagpenge med mere end en sats.','Ved regulering efter bestemmelsen forstås den proces, hvor a-kassen efter samkøring, jf. lovens § 46, stk. 6, genberegner antallet af timer for måneden. Bestemmelsen dækker såvel reguleringer som følge af lovens § 85 e og senere ændringer som følge af en a-kasses afgørelse om tilbagebetaling og sanktion, jf. lovens § 86.','Reguleringen af måneden med mere end én sats sker ved, at der først sker regulering i de timer, der er udbetalt med den senest anvendte sats. Den senest anvendte sats er den sats, der er gældende på udbetalingstidspunktet. Først hvis den samlede regulering for måneden overstiger det antal timer, som der er udbetalt med den senest anvendte sats, skal der også ske regulering i timer udbetalt med den tidligere anvendte sats.','Det afgørende for, om der skal ske regulering i timer med den ene eller begge satser er, om det samlede antal timer, der skal reguleres for, overstiger antallet af timer udbetalt med den senest anvendte sats. Hvis det samlede antal timer, der skal reguleres for, overstiger antallet af timer udbetalt med den senest anvendte sats betyder det, at den tidligere anvendte sats alligevel ikke var opbrugt, hvorfor der også skal ske regulering i disse timer.']"
   ]
  },
  {
   "cell_type": "code",
   "execution_count": 151,
   "metadata": {},
   "outputs": [],
   "source": [
    "para_list4 = ['A-kassen skal i forbindelse med den udbetaling, der foretages den sidste bankdag i måneden, sende medlemmet en udbetalingsspecifikation med klagevejledning, jf. § 23, stk. 1, i bekendtgørelse om kravene til a-kassernes sagsbehandling og afgørelse. I de tilfælde hvor a-kassen har sendt medlemmet en meddelelse om en forventet efterregulering, som medlemmet ikke har reageret på, kan udbetalingsspecifikationen henvise til meddelelsen om den forventede efterregulering.','Hvis efterreguleringen af ydelser kun delvist kan dække efterreguleringen, skal a-kassen i forbindelse med udbetalingsspecifikationen oplyse medlemmet om, hvor mange timer, der er til \"rest\" og at medlemmet skal betale et beløb svarende til reguleringen, såfremt reguleringen ikke kan gennemføres inden for 3 måneder, jf. § 23, stk. 2 i bekendtgørelse om kravene til a-kassernes sagsbehandling og afgørelser.','Hvis en efterregulering ikke kan foretages i den førstkommende udbetaling af ydelser, fordi der ikke udbetales ydelser, skal a-kassen sende medlemmet en meddelelse med angivelse af det antal timer, medlemmet skulle have været efterreguleret for. Meddelelsen skal oplyse om reguleringens størrelse og at medlemmet skal tilbagebetale et beløb svarende til reguleringen, såfremt reguleringen ikke kan gennemføres inden for 3 måneder, jf. § 23, stk. 2, i bekendtgørelse om kravene til a-kassernes sagsbehandling og afgørelser.','En udbetaling er at betragte som endelig, selvom efterreguleringen konkret ikke kan gennemføres, fordi medlemmet ikke modtager en ydelse i måneden, eller ydelsen ikke er tilstrækkelig til at dække det beløb, medlemmet skal reguleres for.']"
   ]
  },
  {
   "cell_type": "code",
   "execution_count": 152,
   "metadata": {},
   "outputs": [
    {
     "name": "stdout",
     "output_type": "stream",
     "text": [
      "4\n"
     ]
    }
   ],
   "source": [
    "#Para_list contains a list of strings, count the total number of items (that is, 1 string = 1 item) in the list:\n",
    "print(len(para_list4))"
   ]
  },
  {
   "cell_type": "code",
   "execution_count": 113,
   "metadata": {},
   "outputs": [],
   "source": [
    "resp_list = []\n",
    "for pararaph in para_list:\n",
    "    resp = llm.complete(tmlp_dagpenge.format(sektion=pararaph))\n",
    "    resp_list.append(resp)"
   ]
  },
  {
   "cell_type": "code",
   "execution_count": 118,
   "metadata": {},
   "outputs": [],
   "source": [
    "resp_list2 = []\n",
    "for pararaph in para_list2:\n",
    "    resp = llm.complete(tmlp_dagpenge.format(sektion=pararaph))\n",
    "    resp_list2.append(resp)"
   ]
  },
  {
   "cell_type": "code",
   "execution_count": 153,
   "metadata": {},
   "outputs": [],
   "source": [
    "resp_list3 = []\n",
    "for pararaph in para_list3:\n",
    "    resp = llm.complete(tmlp_dagpenge.format(sektion=pararaph))\n",
    "    resp_list3.append(resp)"
   ]
  },
  {
   "cell_type": "code",
   "execution_count": 154,
   "metadata": {},
   "outputs": [],
   "source": [
    "resp_list4 = []\n",
    "for pararaph in para_list4:\n",
    "    resp = llm.complete(tmlp_dagpenge.format(sektion=pararaph))\n",
    "    resp_list4.append(resp)"
   ]
  },
  {
   "cell_type": "code",
   "execution_count": 114,
   "metadata": {},
   "outputs": [
    {
     "name": "stdout",
     "output_type": "stream",
     "text": [
      "Teskst: Medlemmet skal efter bekendtgørelsens § 2, stk. 3 oplyse om forventede løntimer, indkomst og andre forhold af betydning for ret til dagpenge fra tidspunktet for indsendelsen af dagpengekortet og frem til månedens udgang. Der er dermed tale om, at medlemmet angiver et forventet antal arbejdstimer m.v. i de sidste dage i måneden.  \n",
      "\n",
      "Spørgsmål: Hvad skal medlemmet oplyse om i dagpengekortet?\n",
      "\n",
      "\n",
      "Teskst: Efter § 4 kan medlemmet i perioden frem til samkøringstidspunktet supplere afgivne oplysninger for hele udbetalingsperioden, og a-kassen skal behandle medlemmets oplysninger i forbindelse med samkøringen. Medlemmet kan supplere afgivne oplysninger om fx antallet af arbejdstimer, som ikke fremgår af indkomstregisteret, oplysninger om afholdt ferie, sygdom og fx, at medlemmet har været afmeldt som aktivt arbejdssøgende. De supplerende oplysninger vil herefter indgå i efterreguleringen efter bekendtgørelsens § 11. Oplysninger, som a-kassen modtager fra DFDG om medlemmets ferie, sygdom og afmelding fra jobcenteret, sidestilles med oplysninger modtaget fra medlemmet.  \n",
      "\n",
      "Spørgsmål: Hvilke oplysninger kan medlemmet supplere a-kassen med?\n",
      "\n",
      "\n",
      "Teskst: Medlemmet har efter lovens § 65 a, stk. 3, pligt til at give a-kassen oplysning om ethvert forhold, der kan have betydning for medlemmets ret til ydelser. Medlemmet skal derfor give a-kassen de supplerende oplysninger for udbetalingsperioden og kan derfor ikke som udgangspunkt forlade sig på, at a-kassen må forventes at få oplysningerne fra andre. Modtager a-kassen oplysningerne fra DFDG, sidestilles disse dog med oplysninger modtaget fra medlemmet, jf. ovenfor.  \n",
      "\n",
      "Spørgsmål: Skal jeg selv give a-kassen supplerende oplysninger for udbetalingsperioden?\n",
      "\n",
      "\n",
      "Teskst: Kommer oplysningen til a-kassen som fx en anmeldelse fra en myndighed, en henvendelse fra jobcenteret eller fra STAR’s tilsynsmyndighed, uden at medlemmet selv har henvendt sig til a-kassen om forholdet, er den supplerende oplysning ikke omfattet af bestemmelsen.  \n",
      "\n",
      "Spørgsmål: Hvilke oplysninger er ikke omfattet af bestemmelsen, hvis de kommer fra en myndighed, jobcenteret eller STAR's tilsynsmyndighed uden at medlemmet selv har henvendt sig til a-kassen?\n",
      "\n",
      "\n"
     ]
    }
   ],
   "source": [
    "for i, resp in enumerate(resp_list):\n",
    "    print(f'Teskst: {para_list[i]}  \\n')\n",
    "    print(f'Spørgsmål: {resp}')\n",
    "    print('\\n')"
   ]
  },
  {
   "cell_type": "code",
   "execution_count": 142,
   "metadata": {},
   "outputs": [
    {
     "name": "stdout",
     "output_type": "stream",
     "text": [
      "Teskst: Når et ansættelsesforhold er afsluttet, indberetter arbejdsgiveren oplysninger til indkomstregisteret om feriegodtgørelse, overarbejde m.v., som relaterer sig til det afsluttede ansættelsesforhold. Oplysningerne indberettes i mange tilfælde i måneden efter, at ansættelsesforholdet er afsluttet, men hvor der i måneden i øvrigt ikke er andre forhold, som kan have betydning for udbetalingen af dagpenge. For perioden efter arbejdsophøret vil medlemmet oplyse om 0 (nul) timer. I den periode vil arbejdsgiveren ofte foretage den nævnte slutindberetning med det resultat, at sagen falder ud til kontrol blot for at konstatere, at arbejdsgiverens indberetning vedrører en periode forud for arbejdsophøret. Bestemmelsen omfatter også efterlønsmodtagere i den første måned efter overgangen.  \n",
      "\n",
      "Spørgsmål: Hvordan indberettes oplysninger om feriegodtgørelse og overarbejde efter et ansættelsesforhold er afsluttet?\n",
      "\n",
      "\n",
      "Teskst: Denne undtagelse afgrænses til kun at gælde én gang pr. dagpengeperiode/efterlønsperiode og kun for den første måned (indplaceringsmåneden henholdsvis overgangsmåneden). Hvis medlemmet opnår ny ansættelse hos den samme arbejdsgiver i indplaceringsperioden og herefter ophører anden gang hos denne arbejdsgiver, vil der som hidtil blive foretaget en månedskontrol. Dette vil særligt være relevant ved vikararbejde.  \n",
      "\n",
      "Spørgsmål: Hvor mange gange kan undtagelsen gælde i løbet af en dagpengeperiode/efterlønsperiode?\n",
      "\n",
      "\n",
      "Teskst: Hvis der i ophørsmåneden også foreligger indberetninger for en anden arbejdsgiver foretages en fuld månedskontrol i forhold til denne anden arbejdsgiver. Undtagelsen omfatter således kun i forhold til den arbejdsgiver, medlemmet er ophørt med at arbejde for.  \n",
      "\n",
      "Spørgsmål: Hvem vil en fuld månedskontrol blive foretaget i forhold til, hvis der er indberetninger for en anden arbejdsgiver i ophørsmåneden?\n",
      "\n",
      "\n",
      "Teskst: Bestemmelsen omfatter ikke situationer, hvor der er tale om en ny arbejdsgiver eller ved arbejdsophør i udbetalingsperioden. I de tilfælde skal der fortsat foretages en samkøring efter stk. 1.  \n",
      "\n",
      "Spørgsmål: Hvad skal der gøres i tilfælde af en ny arbejdsgiver eller arbejdsophør i udbetalingsperioden?\n",
      "\n",
      "\n"
     ]
    }
   ],
   "source": [
    "for i, resp in enumerate(resp_list2):\n",
    "    print(f'Teskst: {para_list2[i]}  \\n')\n",
    "    print(f'Spørgsmål: {resp}')\n",
    "    print('\\n')"
   ]
  },
  {
   "cell_type": "code",
   "execution_count": 124,
   "metadata": {},
   "outputs": [],
   "source": [
    "llm = OpenAI(temperature=1.0,\n",
    "             model=\"gpt-3.5-turbo\")\n",
    "\n",
    "#Make a f string template with {input} \n",
    "tmlp_check = \"\"\" Nedenfor er et uddrag af en tekst og et tilhørende spørgsmål. Din opgave er at vurdere om svaret på spørgsmålet kan findes i teksten.\n",
    "Du må KUN svare TRUE eller FALSE. Returner 1 og kun 1 svar og intet andet.\n",
    "\n",
    "TEKST: Dagpenge udbetales for en måned ad gangen med et fast timetal på 160,33 timer for fuldtidsforsikrede og på 130 timer for deltidsforsikrede medlemmer. Der kan således maksimalt udbetales dagpenge for 160,33 henholdsvis 130 timer for en måned. Udbetalingen sker bagud for en måned.\n",
    "SPØRGSMÅL: Hvor mange timer kan man maksimalt få udbetalt dagepnge for?\n",
    "=========\n",
    "SVAR: TRUE\n",
    "\\n\n",
    "TEKST: Hvis der i ophørsmåneden også foreligger indberetninger for en anden arbejdsgiver foretages en fuld månedskontrol i forhold til denne anden arbejdsgiver. Undtagelsen omfatter således kun i forhold til den arbejdsgiver, medlemmet er ophørt med at arbejde for.\n",
    "SPØRGSMÅL: Hvad skal der gøres i tilfælde af en ny arbejdsgiver eller arbejdsophør i udbetalingsperioden?\n",
    "=========\n",
    "SVAR: FALSE\n",
    "\\n\n",
    "TEKST: {sektion}\n",
    "SPØRGSMÅL: {spørgsmål}\n",
    "=========\n",
    "SVAR:\n",
    "\"\"\""
   ]
  },
  {
   "cell_type": "code",
   "execution_count": null,
   "metadata": {},
   "outputs": [],
   "source": [
    "#Mixed list"
   ]
  },
  {
   "cell_type": "code",
   "execution_count": 146,
   "metadata": {},
   "outputs": [
    {
     "name": "stdout",
     "output_type": "stream",
     "text": [
      "Hvad skal medlemmet oplyse om i dagpengekortet?\n",
      "TRUE\n",
      "Hvilke oplysninger kan medlemmet supplere a-kassen med?\n",
      "TRUE\n",
      "Skal jeg selv give a-kassen supplerende oplysninger for udbetalingsperioden?\n",
      "TRUE\n",
      "Hvilke oplysninger er ikke omfattet af bestemmelsen, hvis de kommer fra en myndighed, jobcenteret eller STAR's tilsynsmyndighed uden at medlemmet selv har henvendt sig til a-kassen?\n",
      "TRUE\n"
     ]
    }
   ],
   "source": [
    "for i, question in enumerate(resp_list):\n",
    "    print(question)\n",
    "    resp = llm.complete(tmlp_check.format(sektion=para_list[i], spørgsmål=question))\n",
    "    print(resp)"
   ]
  },
  {
   "cell_type": "code",
   "execution_count": 155,
   "metadata": {},
   "outputs": [
    {
     "name": "stdout",
     "output_type": "stream",
     "text": [
      "Teskst: A-kassen skal i forbindelse med den udbetaling, der foretages den sidste bankdag i måneden, sende medlemmet en udbetalingsspecifikation med klagevejledning, jf. § 23, stk. 1, i bekendtgørelse om kravene til a-kassernes sagsbehandling og afgørelse. I de tilfælde hvor a-kassen har sendt medlemmet en meddelelse om en forventet efterregulering, som medlemmet ikke har reageret på, kan udbetalingsspecifikationen henvise til meddelelsen om den forventede efterregulering.  \n",
      "\n",
      "Spørgsmål: Hvad sker der i den måned, hvor medlemmet opbruger 481 timer med et beskæftigelsestillæg eller 481 timer med 71,5 % af højeste dagpenge til dimittender?\n",
      "FALSE\n",
      "\n",
      "\n",
      "Teskst: Hvis efterreguleringen af ydelser kun delvist kan dække efterreguleringen, skal a-kassen i forbindelse med udbetalingsspecifikationen oplyse medlemmet om, hvor mange timer, der er til \"rest\" og at medlemmet skal betale et beløb svarende til reguleringen, såfremt reguleringen ikke kan gennemføres inden for 3 måneder, jf. § 23, stk. 2 i bekendtgørelse om kravene til a-kassernes sagsbehandling og afgørelser.  \n",
      "\n",
      "Spørgsmål: Hvad dækker bestemmelsen om regulering?\n",
      "TRUE\n",
      "\n",
      "\n",
      "Teskst: Hvis en efterregulering ikke kan foretages i den førstkommende udbetaling af ydelser, fordi der ikke udbetales ydelser, skal a-kassen sende medlemmet en meddelelse med angivelse af det antal timer, medlemmet skulle have været efterreguleret for. Meddelelsen skal oplyse om reguleringens størrelse og at medlemmet skal tilbagebetale et beløb svarende til reguleringen, såfremt reguleringen ikke kan gennemføres inden for 3 måneder, jf. § 23, stk. 2, i bekendtgørelse om kravene til a-kassernes sagsbehandling og afgørelser.  \n",
      "\n",
      "Spørgsmål: Hvordan sker flere satser i reguleringen af måneden?\n",
      "FALSE\n",
      "\n",
      "\n",
      "Teskst: En udbetaling er at betragte som endelig, selvom efterreguleringen konkret ikke kan gennemføres, fordi medlemmet ikke modtager en ydelse i måneden, eller ydelsen ikke er tilstrækkelig til at dække det beløb, medlemmet skal reguleres for.  \n",
      "\n",
      "Spørgsmål: Hvad er afgørende for, om der skal ske regulering i timer med den ene eller begge satser?\n",
      "TRUE\n",
      "\n",
      "\n"
     ]
    }
   ],
   "source": [
    "for i, question in enumerate(resp_list3):\n",
    "    print(f'Teskst: {para_list4[i]}  \\n')\n",
    "    print(f'Spørgsmål: {question}')\n",
    "    resp = llm.complete(tmlp_check.format(sektion=para_list4[i], spørgsmål=question))\n",
    "    print(resp)\n",
    "    print('\\n')"
   ]
  },
  {
   "cell_type": "code",
   "execution_count": null,
   "metadata": {},
   "outputs": [],
   "source": []
  }
 ],
 "metadata": {
  "kernelspec": {
   "display_name": "llm",
   "language": "python",
   "name": "python3"
  },
  "language_info": {
   "codemirror_mode": {
    "name": "ipython",
    "version": 3
   },
   "file_extension": ".py",
   "mimetype": "text/x-python",
   "name": "python",
   "nbconvert_exporter": "python",
   "pygments_lexer": "ipython3",
   "version": "3.11.5"
  }
 },
 "nbformat": 4,
 "nbformat_minor": 2
}
