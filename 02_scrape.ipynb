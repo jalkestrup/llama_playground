{
 "cells": [
  {
   "cell_type": "code",
   "execution_count": 9,
   "metadata": {},
   "outputs": [],
   "source": [
    "import requests\n",
    "from bs4 import BeautifulSoup"
   ]
  },
  {
   "cell_type": "code",
   "execution_count": 2,
   "metadata": {},
   "outputs": [],
   "source": [
    "url = \"https://www.retsinformation.dk/eli/retsinfo/2023/9750\"\n",
    "response = requests.get(url)\n",
    "html_content = response.text"
   ]
  },
  {
   "cell_type": "code",
   "execution_count": 4,
   "metadata": {},
   "outputs": [
    {
     "data": {
      "text/plain": [
       "'\\r\\n\\r\\n<!DOCTYPE html>\\r\\n<html lang=\"da\"\\r\\n      prefix=\"\\r\\n    og: http://ogp.me/ns#\\r\\n    eli: http://data.europa.eu/eli/ontology#\\r\\n    iana: http://www.iana.org/\">\\r\\n<!-- for a list of additionally recognized default prefixes in RDFa see: https://www.w3.org/2011/rdfa-context/rdfa-1.1 -->\\r\\n<head>\\r\\n    <meta charset=\"utf-8\" />\\r\\n    <meta name=\"viewport\" content=\"width=device-width, initial-scale=1, shrink-to-fit=no\" />\\r\\n    <base href=\"/\"/><link rel=\"shortcut icon\" href=\"/favicon.ico\"/><link rel=\"apple-touch-icon\" sizes=\"57x57\" href=\"/apple-touch-icon-57x57.png\"/><link rel=\"apple-touch-icon\" sizes=\"60x60\" href=\"/apple-touch-icon-60x60.png\"/><link rel=\"apple-touch-icon\" sizes=\"72x72\" href=\"/apple-touch-icon-72x72.png\"/><link rel=\"apple-touch-icon\" sizes=\"76x76\" href=\"/apple-touch-icon-76x76.png\"/><link rel=\"apple-touch-icon\" sizes=\"114x114\" href=\"/apple-touch-icon-114x114.png\"/><link rel=\"apple-touch-icon\" sizes=\"120x120\" href=\"/apple-touch-icon-120x120.png\"/><link rel=\"apple-touch-icon\" sizes=\"144x144\" href=\"/apple-touch-icon-144x144.png\"/><link rel=\"apple-touch-icon\" sizes=\"152x152\" href=\"/apple-touch-icon-152x152.png\"/><link rel=\"apple-touch-icon\" sizes=\"180x180\" href=\"/apple-touch-icon-180x180.png\"/><link rel=\"icon\" type=\"image/png\" sizes=\"192x192\" href=\"/android-icon-192x192.png\"/><link rel=\"icon\" type=\"image/png\" sizes=\"32x32\" href=\"/favicon-32x32.png\"/><link rel=\"icon\" type=\"image/png\" sizes=\"96x96\" href=\"/favicon-96x96.png\"/><link rel=\"icon\" type=\"image/png\" sizes=\"16x16\" href=\"/favicon-16x16.png\"/><link rel=\"manifest\" href=\"/manifest.json\"/><meta name=\"msapplication-TileColor\" content=\"#ffffff\"/><meta name=\"msapplication-TileImage\" content=\"/ms-icon-144x144.png\"/><script defer=\"defer\" src=\"/static/js/main.3ab5332f.js\"></script><link href=\"/static/css/main.70023ad3.css\" rel=\"stylesheet\">\\r\\n    <meta property=\"og:url\" content=\"http://www.retsinformation.dk/eli/retsinfo/2023/9750\" />\\r\\n    <meta property=\"og:site_name\" content=\"Retsinformation\" />\\r\\n    <meta property=\"og:title\" content=\"VEJ nr 9750 af 26/09/2023, Besk&#xE6;ftigelsesministeriet\" />\\r\\n    <meta property=\"og:image\" content=\"http://www.retsinformation.dk/ms-icon-310x310.png\" />\\r\\n    <meta property=\"og:type\" content=\"article\" />\\r\\n    <meta property=\"og:author\" content=\"Besk&#xE6;ftigelsesministeriet\" />\\r\\n    <meta property=\"og:description\" content=\"Vejledning om selvst&#xE6;ndig virksomhed i dagpengesystemet\" />\\r\\n    <meta name=\"description\" content=\"Retsinformation.dk er indgangen til det fælles statslige retsinformationssystem, der giver adgang til alle gældende love, bekendtgørelser og cirkulærer\\r\\n          m.v. Der er også adgang til Folketingets dokumenter og beretninger fra Folketingets Ombudsmand.\" />\\r\\n    <meta name=\"theme-color\" content=\"#f9f9fb\" />\\r\\n    <meta name=\"google-site-verification\" content=\"_2HNkmPtogIXF9YwHTNLc3bvBDb_Btz3c1gfM2qNflQ\" />\\r\\n    <title>Retsinformation</title>\\r\\n    <script type=\"application/ld+json\">\\r\\n        {\"@context\":\"https://schema.org\",\"@type\":\"Organization\",\"@id\":\"https://civilstyrelsen.dk/\",\"address\":{\"@type\":\"PostalAddress\",\"addressCountry\":\"Danmark\",\"addressLocality\":\"Viborg\",\"postalCode\":\"8800\",\"streetAddress\":\"Toldboden 2, 2. sal\"},\"url\":\"https://civilstyrelsen.dk/\",\"name\":\"Civilstyrelsen\",\"telephone\":\"\\\\u002B45-33923334\",\"contactPoint\":{\"@type\":\"ContactPoint\",\"contactType\":\"Customer Service\",\"telephone\":\"\\\\u002B45-35203040\"}}\\r\\n    </script>\\r\\n</head>\\r\\n<body class=\"\">\\r\\n    <noscript>You need to enable JavaScript to run this app.</noscript><div id=\"root\"></div>\\r\\n</body>\\r\\n\\r\\n</html>\\r\\n<!-- Server: 01 -->\\r\\n'"
      ]
     },
     "execution_count": 4,
     "metadata": {},
     "output_type": "execute_result"
    }
   ],
   "source": [
    "html_content"
   ]
  },
  {
   "cell_type": "markdown",
   "metadata": {},
   "source": [
    "### Does not work, because website is in java"
   ]
  },
  {
   "cell_type": "code",
   "execution_count": 2,
   "metadata": {},
   "outputs": [],
   "source": [
    "from selenium import webdriver\n",
    "\n",
    "url = \"https://www.retsinformation.dk/eli/retsinfo/2023/9750\"\n",
    "driver = webdriver.Chrome()\n",
    "\n",
    "driver.get(url)"
   ]
  },
  {
   "cell_type": "code",
   "execution_count": 3,
   "metadata": {},
   "outputs": [],
   "source": [
    "html_content = driver.page_source"
   ]
  },
  {
   "cell_type": "code",
   "execution_count": 7,
   "metadata": {},
   "outputs": [
    {
     "data": {
      "text/plain": [
       "'<html lang=\"da\" prefix=\"\\n    og: http://ogp.me/ns#\\n    eli: http://data.europa.eu/eli/ontology#\\n    iana: http://www.iana.org/\"><!-- for a list of additionally recognized default prefixes in RDFa see: https://www.w3.org/2011/rdfa-context/rdfa-1.1 --><head>\\n    <meta charset=\"utf-8\">\\n    <meta name=\"viewport\" content=\"width=device-width, initial-scale=1, shrink-to-fit=no\">\\n    <base href=\"/\"><style type=\"text/css\">svg:not(:root).svg-inline--fa {\\n  overflow: visible;\\n}\\n\\n.svg-inline--fa {\\n  display: inline-block;\\n  font-size: inherit;\\n  height: 1em;\\n  overflow: visible;\\n  vertical-align: -0.125em;\\n}\\n.svg-inline--fa.fa-lg {\\n  vertical-align: -0.225em;\\n}\\n.svg-inline--fa.fa-w-1 {\\n  width: 0.0625em;\\n}\\n.svg-inline--fa.fa-w-2 {\\n  width: 0.125em;\\n}\\n.svg-inline--fa.fa-w-3 {\\n  width: 0.1875em;\\n}\\n.svg-inline--fa.fa-w-4 {\\n  width: 0.25em;\\n}\\n.svg-inline--fa.fa-w-5 {\\n  width: 0.3125em;\\n}\\n.svg-inline--fa.fa-w-6 {\\n  width: 0.375em;\\n}\\n.svg-inline--fa.fa-w-7 {\\n  width: 0.4375em;\\n}\\n.svg-inline--fa.fa-w-8 {\\n  width: 0.5em;\\n}\\n.svg-inline--fa.fa-w-9 {\\n  width: 0.5625em;\\n}\\n.svg-inline--fa.fa-w-10 {\\n  width: 0.625em;\\n}\\n.svg-inline--fa.fa-w-11 {\\n  width: 0.6875em;\\n}\\n.svg-inline--fa.fa-w-12 {\\n  width: 0.75em;\\n}\\n.svg-inline--fa.fa-w-13 {\\n  width: 0.8125em;\\n}\\n.svg-inline--fa.fa-w-14 {\\n  width: 0.875em;\\n}\\n.svg-inline--fa.fa-w-15 {\\n  width: 0.9375em;\\n}\\n.svg-inline--fa.fa-w-16 {\\n  width: 1em;\\n}\\n.svg-inline--fa.fa-w-17 {\\n  width: 1.0625em;\\n}\\n.svg-inline--fa.fa-w-18 {\\n  width: 1.125em;\\n}\\n.svg-inline--fa.fa-w-19 {\\n  width: 1.1875em;\\n}\\n.svg-inline--fa.fa-w-20 {\\n  width: 1.25em;\\n}\\n.svg-inline--fa.fa-pull-left {\\n  margin-right: 0.3em;\\n  width: auto;\\n}\\n.svg-inline--fa.fa-pull-right {\\n  margin-left: 0.3em;\\n  width: auto;\\n}\\n.svg-inline--fa.fa-border {\\n  height: 1.5em;\\n}\\n.svg-inline--fa.fa-li {\\n  width: 2em;\\n}\\n.svg-inline--fa.fa-fw {\\n  width: 1.25em;\\n}\\n\\n.fa-layers svg.svg-inline--fa {\\n  bottom: 0;\\n  left: 0;\\n  margin: auto;\\n  position: absolute;\\n  right: 0;\\n  top: 0;\\n}\\n\\n.fa-layers {\\n  display: inline-block;\\n  height: 1em;\\n  position: relative;\\n  text-align: center;\\n  vertical-align: -0.125em;\\n  width: 1em;\\n}\\n.fa-layers svg.svg-inline--fa {\\n  -webkit-transform-origin: center center;\\n          transform-origin: center center;\\n}\\n\\n.fa-layers-counter, .fa-layers-text {\\n  display: inline-block;\\n  position: absolute;\\n  text-align: center;\\n}\\n\\n.fa-layers-text {\\n  left: 50%;\\n  top: 50%;\\n  -webkit-transform: translate(-50%, -50%);\\n          transform: translate(-50%, -50%);\\n  -webkit-transform-origin: center center;\\n          transform-origin: center center;\\n}\\n\\n.fa-layers-counter {\\n  background-color: #ff253a;\\n  border-radius: 1em;\\n  -webkit-box-sizing: border-box;\\n          box-sizing: border-box;\\n  color: #fff;\\n  height: 1.5em;\\n  line-height: 1;\\n  max-width: 5em;\\n  min-width: 1.5em;\\n  overflow: hidden;\\n  padding: 0.25em;\\n  right: 0;\\n  text-overflow: ellipsis;\\n  top: 0;\\n  -webkit-transform: scale(0.25);\\n          transform: scale(0.25);\\n  -webkit-transform-origin: top right;\\n          transform-origin: top right;\\n}\\n\\n.fa-layers-bottom-right {\\n  bottom: 0;\\n  right: 0;\\n  top: auto;\\n  -webkit-transform: scale(0.25);\\n          transform: scale(0.25);\\n  -webkit-transform-origin: bottom right;\\n          transform-origin: bottom right;\\n}\\n\\n.fa-layers-bottom-left {\\n  bottom: 0;\\n  left: 0;\\n  right: auto;\\n  top: auto;\\n  -webkit-transform: scale(0.25);\\n          transform: scale(0.25);\\n  -webkit-transform-origin: bottom left;\\n          transform-origin: bottom left;\\n}\\n\\n.fa-layers-top-right {\\n  right: 0;\\n  top: 0;\\n  -webkit-transform: scale(0.25);\\n          transform: scale(0.25);\\n  -webkit-transform-origin: top right;\\n          transform-origin: top right;\\n}\\n\\n.fa-layers-top-left {\\n  left: 0;\\n  right: auto;\\n  top: 0;\\n  -webkit-transform: scale(0.25);\\n          transform: scale(0.25);\\n  -webkit-transform-origin: top left;\\n          transform-origin: top left;\\n}\\n\\n.fa-lg {\\n  font-size: 1.3333333333em;\\n  line-height: 0.75em;\\n  vertical-align: -0.0667em;\\n}\\n\\n.fa-xs {\\n  font-size: 0.75em;\\n}\\n\\n.fa-sm {\\n  font-size: 0.875em;\\n}\\n\\n.fa-1x {\\n  font-size: 1em;\\n}\\n\\n.fa-2x {\\n  font-size: 2em;\\n}\\n\\n.fa-3x {\\n  font-size: 3em;\\n}\\n\\n.fa-4x {\\n  font-size: 4em;\\n}\\n\\n.fa-5x {\\n  font-size: 5em;\\n}\\n\\n.fa-6x {\\n  font-size: 6em;\\n}\\n\\n.fa-7x {\\n  font-size: 7em;\\n}\\n\\n.fa-8x {\\n  font-size: 8em;\\n}\\n\\n.fa-9x {\\n  font-size: 9em;\\n}\\n\\n.fa-10x {\\n  font-size: 10em;\\n}\\n\\n.fa-fw {\\n  text-align: center;\\n  width: 1.25em;\\n}\\n\\n.fa-ul {\\n  list-style-type: none;\\n  margin-left: 2.5em;\\n  padding-left: 0;\\n}\\n.fa-ul > li {\\n  position: relative;\\n}\\n\\n.fa-li {\\n  left: -2em;\\n  position: absolute;\\n  text-align: center;\\n  width: 2em;\\n  line-height: inherit;\\n}\\n\\n.fa-border {\\n  border: solid 0.08em #eee;\\n  border-radius: 0.1em;\\n  padding: 0.2em 0.25em 0.15em;\\n}\\n\\n.fa-pull-left {\\n  float: left;\\n}\\n\\n.fa-pull-right {\\n  float: right;\\n}\\n\\n.fa.fa-pull-left,\\n.fas.fa-pull-left,\\n.far.fa-pull-left,\\n.fal.fa-pull-left,\\n.fab.fa-pull-left {\\n  margin-right: 0.3em;\\n}\\n.fa.fa-pull-right,\\n.fas.fa-pull-right,\\n.far.fa-pull-right,\\n.fal.fa-pull-right,\\n.fab.fa-pull-right {\\n  mar'"
      ]
     },
     "execution_count": 7,
     "metadata": {},
     "output_type": "execute_result"
    }
   ],
   "source": [
    "html_content[:5000]"
   ]
  },
  {
   "cell_type": "markdown",
   "metadata": {},
   "source": [
    "## Extract vejledning\n",
    "Simpelt script til at scrape data fra vejledning og gemme det i en dict med vejledninges navn som key"
   ]
  },
  {
   "cell_type": "code",
   "execution_count": 58,
   "metadata": {},
   "outputs": [],
   "source": [
    "soup = BeautifulSoup(html_content, 'html.parser')\n",
    "from bs4 import BeautifulSoup\n",
    "\n",
    "content_div = soup.find(\"div\", class_=\"document-content\")\n",
    "\n",
    "if content_div:\n",
    "    title = content_div.find(\"p\", class_=\"Titel2\").get_text(strip=True) if content_div.find(\"p\", class_=\"Titel2\") else \"Default Title\"\n",
    "    content = content_div  # This will store the entire HTML content within 'document-content'\n",
    "\n",
    "    data = {title: content}\n",
    "else:\n",
    "    print(\"Content not found!\")\n"
   ]
  },
  {
   "cell_type": "code",
   "execution_count": 65,
   "metadata": {},
   "outputs": [
    {
     "name": "stdout",
     "output_type": "stream",
     "text": [
      "dict_keys(['Vejledning om efterlønsbevis, udskydelsesreglen og skattefri præmie m.v.', 'Vejledning om ret til fravær med barselsdagpenge for forældre til et barn, der er født eller modtaget fra den 2. august 2022', 'Vejledning om betaling af medlems- og efterlønsbidrag til en a-kasse'])\n"
     ]
    }
   ],
   "source": [
    "import time\n",
    "\n",
    "def scrape_content(urls):\n",
    "    # Dictionary to store results\n",
    "    driver = webdriver.Chrome()\n",
    "    result_dict = {}\n",
    "\n",
    "    for url in urls:\n",
    "        driver.get(url)\n",
    "        \n",
    "        # Wait for the page to load completely\n",
    "        time.sleep(5)\n",
    "\n",
    "        # Get the page source and parse it with BeautifulSoup\n",
    "        soup = BeautifulSoup(driver.page_source, \"html.parser\")\n",
    "        content_div = soup.find(\"div\", class_=\"document-content\")\n",
    "\n",
    "        if content_div:\n",
    "            title = content_div.find(\"p\", class_=\"Titel2\").get_text(strip=True) if content_div.find(\"p\", class_=\"Titel2\") else \"Default Title\"\n",
    "            result_dict[title] = content_div\n",
    "        else:\n",
    "            print(\"Content not found for URL:\", url)\n",
    "\n",
    "    # Close the WebDriver\n",
    "    driver.quit()\n",
    "\n",
    "    return result_dict\n",
    "\n",
    "# List of URLs to scrape\n",
    "urls = [\"https://www.retsinformation.dk/eli/retsinfo/2023/9751\", \"https://www.retsinformation.dk/eli/retsinfo/2023/9816\", \"https://www.retsinformation.dk/eli/retsinfo/2023/9788\"]\n",
    "result = scrape_content(urls)\n",
    "print(result.keys())  # To check the titles of the scraped contents"
   ]
  },
  {
   "cell_type": "code",
   "execution_count": 83,
   "metadata": {},
   "outputs": [],
   "source": [
    "from bs4 import BeautifulSoup\n",
    "import re\n",
    "\n",
    "def extract_text(bs_obj):\n",
    "    # Find all <p> tags and get their text content\n",
    "    paragraphs = bs_obj.find_all(\"p\")\n",
    "    \n",
    "    # Concatenate the text content of each <p> tag, separated by a line break\n",
    "    text = \"\\n\".join(p.get_text(strip=True) for p in paragraphs)\n",
    "    \n",
    "    return text\n",
    "\n",
    "def clean_text(text):\n",
    "    # Replace two or more line breaks in a row with a double line break\n",
    "    cleaned_text = re.sub(r'\\n{2,}', '\\n\\n', text)\n",
    "    return cleaned_text\n",
    "\n",
    "text_dict = {}\n",
    "for title, bs_obj in result.items():\n",
    "    text = extract_text(bs_obj)\n",
    "    cleaned_text = clean_text(text)\n",
    "    text_dict[title] = cleaned_text"
   ]
  },
  {
   "cell_type": "code",
   "execution_count": 84,
   "metadata": {},
   "outputs": [],
   "source": [
    "#Save the text_dict as a csv file with title as key and content as value\n",
    "import csv\n",
    "with open('data/text_dict_spaces_clean.csv', 'w') as f:\n",
    "    for key in text_dict.keys():\n",
    "        f.write(\"%s,%s\\n\"%(key,text_dict[key]))"
   ]
  },
  {
   "cell_type": "markdown",
   "metadata": {},
   "source": [
    "### Downloading all URLs for gaeldende vejledninger"
   ]
  },
  {
   "cell_type": "code",
   "execution_count": null,
   "metadata": {},
   "outputs": [],
   "source": [
    "from selenium import webdriver\n",
    "\n",
    "url_list = 'https://www.retsinformation.dk/documents?dt=180&h=false&page={page}&ps=100&r=30'\n"
   ]
  },
  {
   "cell_type": "code",
   "execution_count": null,
   "metadata": {},
   "outputs": [],
   "source": [
    "def extract_unique_urls(url_list):\n",
    "    driver = webdriver.Chrome()\n",
    "    driver.get(url_list)\n",
    "    time.sleep(5)\n",
    "    \n",
    "    soup = BeautifulSoup(driver.page_source, \"html.parser\")\n",
    "    soup = soup.find(\"div\", class_=\"search-result-list\")\n",
    "    \n",
    "    urls = set()  # Using a set to store URLs to avoid duplicates\n",
    "    for div in soup.find_all('div', class_='document-entry'):\n",
    "        url = div.get('about')\n",
    "        if url:\n",
    "            urls.add(url)\n",
    "    \n",
    "    driver.quit()\n",
    "    \n",
    "    return urls\n",
    "\n",
    "url_set = set()\n",
    "url_list = 'https://www.retsinformation.dk/documents?dt=180&h=false&page={page}&ps=100&r=30'\n",
    "url_prefix = 'https://www.retsinformation.dk'\n",
    "\n",
    "for page_no in range(0, 5):\n",
    "    vejledninger = extract_unique_urls(url_list.format(page=page_no))\n",
    "    complete_url = [url_prefix + url for url in vejledninger]\n",
    "    url_set = url_set.union(complete_url)\n"
   ]
  },
  {
   "cell_type": "code",
   "execution_count": null,
   "metadata": {},
   "outputs": [],
   "source": [
    "#Save the url_set as a csv file\n",
    "import csv\n",
    "with open('url_gaeldende_vejledninger_30-10-2023.csv', 'w') as f:\n",
    "    for url in url_set:\n",
    "        f.write(\"%s\\n\"%(url))"
   ]
  },
  {
   "cell_type": "markdown",
   "metadata": {},
   "source": [
    "## Download all vejledninger"
   ]
  },
  {
   "cell_type": "code",
   "execution_count": 97,
   "metadata": {},
   "outputs": [],
   "source": [
    "vejledninger = scrape_content(list(url_set))"
   ]
  },
  {
   "cell_type": "markdown",
   "metadata": {},
   "source": [
    "### Obs problem\n",
    "Nogle vejledninger har tilsynedeladende ikke title i \"Titel2\" format, men derimod bare \"Titel' feks tilfældet for pulverlakering vejledning"
   ]
  },
  {
   "cell_type": "code",
   "execution_count": 115,
   "metadata": {},
   "outputs": [],
   "source": [
    "vejledninger_html_dict = {}\n",
    "for title, bs_obj in vejledninger.items():\n",
    "    html = str(bs_obj)\n",
    "    vejledninger_html_dict[title] = html\n",
    "    \n",
    "csv_file_path = 'data/vejledninger_html_2-11-2023.csv'\n",
    "\n",
    "with open(csv_file_path, 'w', newline='', encoding='utf-8') as f:\n",
    "    writer = csv.writer(f, quoting=csv.QUOTE_ALL)  # QUOTE_ALL will quote all fields\n",
    "    # Write the header\n",
    "    writer.writerow(['Key', 'Value'])\n",
    "    # Write the dictionary items\n",
    "    for key, value in vejledninger_html_dict.items():\n",
    "        writer.writerow([key, value])"
   ]
  },
  {
   "cell_type": "code",
   "execution_count": 117,
   "metadata": {},
   "outputs": [],
   "source": [
    "import csv\n",
    "\n",
    "vejledninger_dict = {}\n",
    "for title, bs_obj in vejledninger.items():\n",
    "    text = extract_text(bs_obj)\n",
    "    cleaned_text = clean_text(text)\n",
    "    vejledninger_dict[title] = cleaned_text\n",
    "    \n",
    "csv_file_path = 'data/vejledninger_tekst_2-11-2023.csv'\n",
    "\n",
    "with open(csv_file_path, 'w', newline='', encoding='utf-8') as f:\n",
    "    writer = csv.writer(f, quoting=csv.QUOTE_ALL)  # QUOTE_ALL will quote all fields\n",
    "    # Write the header\n",
    "    writer.writerow(['Key', 'Value'])\n",
    "    # Write the dictionary items\n",
    "    for key, value in vejledninger_dict.items():\n",
    "        writer.writerow([key, value])"
   ]
  },
  {
   "cell_type": "code",
   "execution_count": 113,
   "metadata": {},
   "outputs": [
    {
     "data": {
      "text/plain": [
       "'PulverlakeringAt-vejledning D.2.4August 2001\\n\\nPulverlakering kan foregå manuelt eller automatisk  \\n\\n eller begge dele i de tilfælde, hvor den automatiske sprøjtning skal  \\n\\n suppleres  \\n\\n med manuel eftersprøjtning.\\nVed pulverlakering oplades pulverpartiklerne elektrostatisk  \\n\\n ved en elektrode, der er placeret i sprøjtepistolen. Herefter sprøjtes  \\n\\n pulveret  \\n\\n på det jordede, ophængte metalemne, hvor det danner et jævnt lag. Malingen  \\n\\n hærdes ved efterfølgende opvarmning i ovn til 140-  \\n\\n 200 °C.\\nVed større produktioner bruges ofte conveyorsystemer  \\n\\n med ophæng, kroge m.m., som føres gennem male- og tørreanlæg. Ophængning og  \\n\\n nedtagning af emner foregår som regel manuelt, afhængigt af emnernes  \\n\\n størrelse.\\nPulvermaling\\nDer findes forskellige typer af pulvermaling:\\n–  \\n\\n \\t  \\n\\n Epoxypulvermaling,  \\n\\n der indeholder højmolekylær epoxyharpiks og en hærder.\\n–  \\n\\n \\t  \\n\\n Polyesterpulvermaling  \\n\\n med triglycidylisocyanurat (TGIC) som hærder. TGIC er en epoxyforbindelse.\\n–  \\n\\n \\t  \\n\\n Polyesterpulvermaling  \\n\\n med andre hærdere.\\n–  \\n\\n \\t  \\n\\n Epoxy-polyesterpulvermaling  \\n\\n (mix-pulver), hvor epoxy- og polyesterharpiks reagerer med hinanden ved  \\n\\n opvarmningen.\\n–  \\n\\n \\t  \\n\\n Polyurethanpulvermaling,  \\n\\n der indeholder isocyanatgrupper, der er blokeret med et stof, som fraspaltes  \\n\\n ved opvarmning.\\n–  \\n\\n \\t  \\n\\n Polyakrylpulvermaling.\\nPulvermaling er ofte tilsat pigmenter.\\nPulvermaling skal forsynes med et kodenummer.\\nSprøjtekabine\\nEn sprøjtekabine er et lukket rum med vægge og loft  \\n\\n (samt eventuel bund) af ubrændbare materialer, hvori der foretages  \\n\\n sprøjtemaling. Operatøren eller robotten befinder sig i sprøjtekabinen under  \\n\\n arbejdet.\\nSprøjteboks\\nEn sprøjteboks er et skab med åben forside, og med  \\n\\n vægge og loft (samt eventuel bund) af ubrændbare materialer. Operatøren eller  \\n\\n robotten befinder sig uden for sprøjteboksen under arbejdet.\\n1. Sundhedsfarer\\nPulverlakering indebærer risiko for sundhedsskadelig  \\n\\n påvirkning ved\\n–  \\n\\n \\t  \\n\\n indånding af støv  \\n\\n fra pulvermalingen\\n–  \\n\\n \\t  \\n\\n hudkontakt med  \\n\\n støvet.\\nDet finkornede pulver kan forårsage en støveksplosion  \\n\\n ved ophobning af store pulvermængder samt gnistdannelse og selvantændelse.\\nDer kan være hyppig gentagelse af samme bevægelse ved  \\n\\n manuel ophængning og nedtagning af mindre emner. Der kan også være tale om  \\n\\n håndtering af tunge og store emner.\\n2. Foranstaltninger\\n2.1. Planlægning af arbejdet\\nArbejde med pulverlakering skal planlægges og  \\n\\n tilrettelægges, så det kan udføres sikkerheds- og sundhedsmæssigt fuldt  \\n\\n forsvarligt.\\nPulverlakering er omfattet af bestemmelserne om arbejde  \\n\\n med kodenummererede produkter. På faste arbejdssteder må pulverlakering kun  \\n\\n udføres i lukkede anlæg, sprøjtebokse eller sprøjtekabiner.\\nProdukter, der bruges til pulverlakering, kan indeholde  \\n\\n kræftfremkaldende stoffer. Brugen er derfor også reguleret af  \\n\\n kræftbekendtgørelsen, der fastsætter særlige regler om  \\n\\n anmeldelse/godkendelse,  \\n\\n begrænsning i brug og foranstaltninger.\\nMan skal være opmærksom på, om de produkter, der skal  \\n\\n arbejdes med, er omfattet af de særlige bestemmelser om epoxyharpikser og  \\n\\n isocyanater  \\n\\n (1).\\nDer findes ikke særlige regler om indretning af  \\n\\n sprøjtebokse og kabiner til pulverlakering. Kravene til sprøjtebokse og  \\n\\n kabiner, der bruges til manuel vådmaling, kan bruges som vejledning.  \\n\\n Lufthastighederne  \\n\\n i boks eller kabine skal afpasses, så luftforureningen fjernes effektivt,  \\n\\n uden  \\n\\n at pulveret falder af emnet.\\nAnlægget bør være konstrueret til at dæmpe virkningerne  \\n\\n af en eventuel eksplosion.\\nUnødigt spild af pulver skal undgås.\\nBoksen eller kabinen skal have glatte vægge og være nem  \\n\\n at rengøre. Rør og ledninger til anlægget bør ikke placeres i åbne bakker,  \\n\\n som  \\n\\n kan samle støv.\\nConveyorbaner skal vedligeholdes, så bump, der kan få  \\n\\n pulveret til at falde ned af emnerne, undgås.\\nDer skal træffes foranstaltninger, som nedsætter  \\n\\n risikoen for overbelastning af kroppen mest muligt (2, 3).\\n2.2. Substitution\\nEt stof eller materiale, der kan være farligt for eller  \\n\\n i øvrigt forringe sikkerhed eller sundhed, må ikke bruges, hvis det kan  \\n\\n erstattes med et ufarligt, mindre farligt eller mindre generende stof eller  \\n\\n materiale.\\nDer skal derfor normalt bruges produkter med så lavt  \\n\\n kodenummer som muligt.\\n2.3. Ventilation\\nPulverlakering skal normalt foregå i en sprøjteboks  \\n\\n eller sprøjtekabine, der er indrettet til formålet.\\nBoksen/kabinen skal være forsynet med effektiv mekanisk  \\n\\n ventilation, der er indrettet, så\\n–  \\n\\n \\t  \\n\\n pulverlakering kun  \\n\\n kan foregå, når ventilationen er i drift\\n–  \\n\\n \\t  \\n\\n de generelle krav  \\n\\n til procesventilation er opfyldt  \\n\\n (4).\\nUnødig påvirkning ved pulverskift og rengøring af  \\n\\n sugerør mv. skal undgås. Det kan fx ske ved, at der etableres procesudsugning  \\n\\n ved pulvermagasinet og/eller ved at bruge en pulverlak, der er emballeret, så  \\n\\n den kan monteres direkte på sugeanordningen.\\nPulvermalingen skal påfyldes, så støvet ikke spredes.  \\n\\n Det kan fx ske ved at bruge en vakuumpumpe til påfyldning.\\n2.4. Statisk elektricitet\\nDer kan dannes gnister ved elektrostatisk sprøjtning på  \\n\\n grund af den elektrostatiske opladning. Brandlovgivningens krav hertil skal  \\n\\n følges. Det indebærer bl.a., at personer og metalgenstande skal være  \\n\\n jordforbundne, hvis de befinder sig inden for en afstand af  \\n\\n 3 m  \\n\\n fra sprøjtepistolen.\\n2.5. Varme\\nOvnens placering i forhold til pulversprøjteboksen kan  \\n\\n have betydning for ventilationsforholdene i boksen. Ovnens udformning kan  \\n\\n endvidere forårsage varme- og ventilationsproblemer.\\nDer skal træffes foranstaltninger, så varmeafgivelse  \\n\\n fra ovne nedsættes mest muligt, fx ved isolering, afskærmning og/eller  \\n\\n ventilation.\\n2.6. Personlige værnemidler mv.\\nAlle personer, der arbejder eller opholder sig i  \\n\\n områder, hvor der sprøjtes med pulvermaling, skal bære følgende beskyttelse,  \\n\\n også selv om opholdet er kortvarigt:\\n–  \\n\\n \\t  \\n\\n Egnet  \\n\\n beskyttelsestøj, der består af tætsluttende heldragt i et materiale, der  \\n\\n hindrer, at elektrostatisk støv trænger igennem.\\n–  \\n\\n \\t  \\n\\n Ikke-isolerende,  \\n\\n støvtæt fodtøj.\\n–  \\n\\n \\t  \\n\\n Egnede handsker.  \\n\\n Handskerne må ikke være isolerende, hvis pulveret påføres med manuel  \\n\\n elektrostatisk  \\n\\n sprøjte.\\n–  \\n\\n \\t  \\n\\n Øjenbeskyttelse,  \\n\\n hvis der er risiko for at få pulverstøv i øjnene.\\n–  \\n\\n \\t  \\n\\n Egnet åndedrætsværn  \\n\\n i forhold til pulvertype og forureningens størrelse.\\nEgnet åndedrætsværn er normalt en støvmaske med  \\n\\n støvfilter af klasse P2 (5).\\nBeskyttelsestøjet skal rengøres eller skiftes hyppigt,  \\n\\n alt efter arbejdets art. Der må ikke bæres beskyttelsestøj i spisepauser.\\nOperatør eller andre personer må kun opholde sig i en  \\n\\n pulverlakeringskabine uden åndedrætsværn, hvis der er sikkerhed for, at det  \\n\\n er  \\n\\n forsvarligt at arbejde der.\\nDer skal være en øjenskylleflaske i umiddelbar nærhed  \\n\\n af det sted, hvor der pulverlakeres.\\nArbejdsgiveren skal sørge for, at de personlige  \\n\\n værnemidler er egnede til brug under de eksisterende forhold på  \\n\\n arbejdsstedet.\\n2.7. Personlige værnemidler mv.\\nUnødig påvirkning ved rengøring skal så vidt muligt undgås.\\nDet kan fx ske ved\\n–  \\n\\n \\t  \\n\\n at man  \\n\\n tilrettelægger arbejdet, så der køres størst mulige serier af samme farve,  \\n\\n det  \\n\\n vil sige så få farveskift som muligt\\n–  \\n\\n \\t  \\n\\n at rengøring af  \\n\\n pulverkabiner automatiseres mest muligt\\n–  \\n\\n \\t  \\n\\n at der bruges løse  \\n\\n pulvermagasiner (eventuelt et magasin til hver farve, så rengøringen  \\n\\n minimeres  \\n\\n ved farveskift)\\n–  \\n\\n \\t  \\n\\n at der bruges  \\n\\n beskyttelsesdragt, handsker og filtrerende åndedrætsværn, hvis der foretages  \\n\\n manuel rengøring af sprøjtekabinen.\\nPulverspild skal hurtigst muligt fjernes på en måde,  \\n\\n der sikrer mindst mulig udvikling af støv, fx ved støvsugning (gnistfri)  \\n\\n eller  \\n\\n vådvask. Pulverspild må ikke fjernes med fejning eller trykluft.\\nBoksens/kabinens ventilation skal være i drift under  \\n\\n rengøringen.\\nDet kan anbefales, at kabinens gulv holdes ensfarvet og  \\n\\n rent, så pulverspildet tydeligt kan ses.\\nKrogene på transportbåndet skal rengøres for gammel  \\n\\n maling for at sikre, at nye emner, som hænges på transportbåndet, er  \\n\\n ordentligt  \\n\\n jordet.\\nKrogene kan fx sandblæses eller renses ved afbrænding  \\n\\n af pulverlakken. Der kan i stedet bruges éngangskroge.\\nHvis krogene afrenses med strippervæske med  \\n\\n dichlormethan, skal man være opmærksom på, at stoffer og materialer, der  \\n\\n indeholder dichlormethan er omfattet af kræftbekendtgørelsen. Det betyder, at  \\n\\n brugen af dichlormethan som malingfjerner kræver godkendelse af  \\n\\n Arbejdstilsynet.\\n2.8. Affald\\nAffald skal håndteres afhængigt af indholdet.  \\n\\n Virksomheden kan få vejledning om bortskaffelse af affald hos kommunen.\\nLæs også Arbejdstilsynets vejledninger om:\\n(1)  \\n\\n \\t  \\n\\n Epoxyharpikser og isocyanater\\n(2)  \\n\\n \\t  \\n\\n Ensidigt, gentaget  \\n\\n arbejde\\n(3)  \\n\\n \\t  \\n\\n Vurdering af løft\\n(4)  \\n\\n \\t  \\n\\n Ventilation\\n(5)  \\n\\n \\t  \\n\\n Åndedrætsværn\\nLæs også branchearbejdsmiljørådenes vejledninger mv.\\nBranchearbejdsmiljørådenes vejledninger kan findes på  \\n\\n Arbejdstilsynets hjemmeside www.at.dk.\\nArbejdstilsynet, den 1. august 2001\\nJens Jensen'"
      ]
     },
     "execution_count": 113,
     "metadata": {},
     "output_type": "execute_result"
    }
   ],
   "source": [
    "vejledninger_dict['Default Title']"
   ]
  },
  {
   "cell_type": "code",
   "execution_count": 111,
   "metadata": {},
   "outputs": [
    {
     "data": {
      "text/plain": [
       "329"
      ]
     },
     "execution_count": 111,
     "metadata": {},
     "output_type": "execute_result"
    }
   ],
   "source": [
    "len(vejledninger_html_dict.keys())"
   ]
  },
  {
   "cell_type": "code",
   "execution_count": 112,
   "metadata": {},
   "outputs": [
    {
     "data": {
      "text/plain": [
       "432"
      ]
     },
     "execution_count": 112,
     "metadata": {},
     "output_type": "execute_result"
    }
   ],
   "source": [
    "len(url_set)"
   ]
  },
  {
   "cell_type": "code",
   "execution_count": null,
   "metadata": {},
   "outputs": [],
   "source": []
  }
 ],
 "metadata": {
  "kernelspec": {
   "display_name": "llm",
   "language": "python",
   "name": "python3"
  },
  "language_info": {
   "codemirror_mode": {
    "name": "ipython",
    "version": 3
   },
   "file_extension": ".py",
   "mimetype": "text/x-python",
   "name": "python",
   "nbconvert_exporter": "python",
   "pygments_lexer": "ipython3",
   "version": "3.11.4"
  }
 },
 "nbformat": 4,
 "nbformat_minor": 2
}
