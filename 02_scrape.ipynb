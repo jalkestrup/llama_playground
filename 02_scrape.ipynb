{
 "cells": [
  {
   "cell_type": "code",
   "execution_count": 19,
   "metadata": {},
   "outputs": [],
   "source": [
    "import requests\n",
    "from bs4 import BeautifulSoup"
   ]
  },
  {
   "cell_type": "code",
   "execution_count": 2,
   "metadata": {},
   "outputs": [],
   "source": [
    "url = \"https://www.retsinformation.dk/eli/retsinfo/2023/9750\"\n",
    "response = requests.get(url)\n",
    "html_content = response.text"
   ]
  },
  {
   "cell_type": "code",
   "execution_count": 4,
   "metadata": {},
   "outputs": [
    {
     "data": {
      "text/plain": [
       "'\\r\\n\\r\\n<!DOCTYPE html>\\r\\n<html lang=\"da\"\\r\\n      prefix=\"\\r\\n    og: http://ogp.me/ns#\\r\\n    eli: http://data.europa.eu/eli/ontology#\\r\\n    iana: http://www.iana.org/\">\\r\\n<!-- for a list of additionally recognized default prefixes in RDFa see: https://www.w3.org/2011/rdfa-context/rdfa-1.1 -->\\r\\n<head>\\r\\n    <meta charset=\"utf-8\" />\\r\\n    <meta name=\"viewport\" content=\"width=device-width, initial-scale=1, shrink-to-fit=no\" />\\r\\n    <base href=\"/\"/><link rel=\"shortcut icon\" href=\"/favicon.ico\"/><link rel=\"apple-touch-icon\" sizes=\"57x57\" href=\"/apple-touch-icon-57x57.png\"/><link rel=\"apple-touch-icon\" sizes=\"60x60\" href=\"/apple-touch-icon-60x60.png\"/><link rel=\"apple-touch-icon\" sizes=\"72x72\" href=\"/apple-touch-icon-72x72.png\"/><link rel=\"apple-touch-icon\" sizes=\"76x76\" href=\"/apple-touch-icon-76x76.png\"/><link rel=\"apple-touch-icon\" sizes=\"114x114\" href=\"/apple-touch-icon-114x114.png\"/><link rel=\"apple-touch-icon\" sizes=\"120x120\" href=\"/apple-touch-icon-120x120.png\"/><link rel=\"apple-touch-icon\" sizes=\"144x144\" href=\"/apple-touch-icon-144x144.png\"/><link rel=\"apple-touch-icon\" sizes=\"152x152\" href=\"/apple-touch-icon-152x152.png\"/><link rel=\"apple-touch-icon\" sizes=\"180x180\" href=\"/apple-touch-icon-180x180.png\"/><link rel=\"icon\" type=\"image/png\" sizes=\"192x192\" href=\"/android-icon-192x192.png\"/><link rel=\"icon\" type=\"image/png\" sizes=\"32x32\" href=\"/favicon-32x32.png\"/><link rel=\"icon\" type=\"image/png\" sizes=\"96x96\" href=\"/favicon-96x96.png\"/><link rel=\"icon\" type=\"image/png\" sizes=\"16x16\" href=\"/favicon-16x16.png\"/><link rel=\"manifest\" href=\"/manifest.json\"/><meta name=\"msapplication-TileColor\" content=\"#ffffff\"/><meta name=\"msapplication-TileImage\" content=\"/ms-icon-144x144.png\"/><script defer=\"defer\" src=\"/static/js/main.3ab5332f.js\"></script><link href=\"/static/css/main.70023ad3.css\" rel=\"stylesheet\">\\r\\n    <meta property=\"og:url\" content=\"http://www.retsinformation.dk/eli/retsinfo/2023/9750\" />\\r\\n    <meta property=\"og:site_name\" content=\"Retsinformation\" />\\r\\n    <meta property=\"og:title\" content=\"VEJ nr 9750 af 26/09/2023, Besk&#xE6;ftigelsesministeriet\" />\\r\\n    <meta property=\"og:image\" content=\"http://www.retsinformation.dk/ms-icon-310x310.png\" />\\r\\n    <meta property=\"og:type\" content=\"article\" />\\r\\n    <meta property=\"og:author\" content=\"Besk&#xE6;ftigelsesministeriet\" />\\r\\n    <meta property=\"og:description\" content=\"Vejledning om selvst&#xE6;ndig virksomhed i dagpengesystemet\" />\\r\\n    <meta name=\"description\" content=\"Retsinformation.dk er indgangen til det fælles statslige retsinformationssystem, der giver adgang til alle gældende love, bekendtgørelser og cirkulærer\\r\\n          m.v. Der er også adgang til Folketingets dokumenter og beretninger fra Folketingets Ombudsmand.\" />\\r\\n    <meta name=\"theme-color\" content=\"#f9f9fb\" />\\r\\n    <meta name=\"google-site-verification\" content=\"_2HNkmPtogIXF9YwHTNLc3bvBDb_Btz3c1gfM2qNflQ\" />\\r\\n    <title>Retsinformation</title>\\r\\n    <script type=\"application/ld+json\">\\r\\n        {\"@context\":\"https://schema.org\",\"@type\":\"Organization\",\"@id\":\"https://civilstyrelsen.dk/\",\"address\":{\"@type\":\"PostalAddress\",\"addressCountry\":\"Danmark\",\"addressLocality\":\"Viborg\",\"postalCode\":\"8800\",\"streetAddress\":\"Toldboden 2, 2. sal\"},\"url\":\"https://civilstyrelsen.dk/\",\"name\":\"Civilstyrelsen\",\"telephone\":\"\\\\u002B45-33923334\",\"contactPoint\":{\"@type\":\"ContactPoint\",\"contactType\":\"Customer Service\",\"telephone\":\"\\\\u002B45-35203040\"}}\\r\\n    </script>\\r\\n</head>\\r\\n<body class=\"\">\\r\\n    <noscript>You need to enable JavaScript to run this app.</noscript><div id=\"root\"></div>\\r\\n</body>\\r\\n\\r\\n</html>\\r\\n<!-- Server: 01 -->\\r\\n'"
      ]
     },
     "execution_count": 4,
     "metadata": {},
     "output_type": "execute_result"
    }
   ],
   "source": [
    "html_content"
   ]
  },
  {
   "cell_type": "markdown",
   "metadata": {},
   "source": [
    "### Does not work, because website is in java"
   ]
  },
  {
   "cell_type": "code",
   "execution_count": 20,
   "metadata": {},
   "outputs": [],
   "source": [
    "from selenium import webdriver\n",
    "\n",
    "url = \"https://www.retsinformation.dk/eli/retsinfo/2023/9750\"\n",
    "driver = webdriver.Chrome()\n",
    "\n",
    "driver.get(url)"
   ]
  },
  {
   "cell_type": "code",
   "execution_count": 3,
   "metadata": {},
   "outputs": [],
   "source": [
    "html_content = driver.page_source"
   ]
  },
  {
   "cell_type": "code",
   "execution_count": 7,
   "metadata": {},
   "outputs": [
    {
     "data": {
      "text/plain": [
       "'<html lang=\"da\" prefix=\"\\n    og: http://ogp.me/ns#\\n    eli: http://data.europa.eu/eli/ontology#\\n    iana: http://www.iana.org/\"><!-- for a list of additionally recognized default prefixes in RDFa see: https://www.w3.org/2011/rdfa-context/rdfa-1.1 --><head>\\n    <meta charset=\"utf-8\">\\n    <meta name=\"viewport\" content=\"width=device-width, initial-scale=1, shrink-to-fit=no\">\\n    <base href=\"/\"><style type=\"text/css\">svg:not(:root).svg-inline--fa {\\n  overflow: visible;\\n}\\n\\n.svg-inline--fa {\\n  display: inline-block;\\n  font-size: inherit;\\n  height: 1em;\\n  overflow: visible;\\n  vertical-align: -0.125em;\\n}\\n.svg-inline--fa.fa-lg {\\n  vertical-align: -0.225em;\\n}\\n.svg-inline--fa.fa-w-1 {\\n  width: 0.0625em;\\n}\\n.svg-inline--fa.fa-w-2 {\\n  width: 0.125em;\\n}\\n.svg-inline--fa.fa-w-3 {\\n  width: 0.1875em;\\n}\\n.svg-inline--fa.fa-w-4 {\\n  width: 0.25em;\\n}\\n.svg-inline--fa.fa-w-5 {\\n  width: 0.3125em;\\n}\\n.svg-inline--fa.fa-w-6 {\\n  width: 0.375em;\\n}\\n.svg-inline--fa.fa-w-7 {\\n  width: 0.4375em;\\n}\\n.svg-inline--fa.fa-w-8 {\\n  width: 0.5em;\\n}\\n.svg-inline--fa.fa-w-9 {\\n  width: 0.5625em;\\n}\\n.svg-inline--fa.fa-w-10 {\\n  width: 0.625em;\\n}\\n.svg-inline--fa.fa-w-11 {\\n  width: 0.6875em;\\n}\\n.svg-inline--fa.fa-w-12 {\\n  width: 0.75em;\\n}\\n.svg-inline--fa.fa-w-13 {\\n  width: 0.8125em;\\n}\\n.svg-inline--fa.fa-w-14 {\\n  width: 0.875em;\\n}\\n.svg-inline--fa.fa-w-15 {\\n  width: 0.9375em;\\n}\\n.svg-inline--fa.fa-w-16 {\\n  width: 1em;\\n}\\n.svg-inline--fa.fa-w-17 {\\n  width: 1.0625em;\\n}\\n.svg-inline--fa.fa-w-18 {\\n  width: 1.125em;\\n}\\n.svg-inline--fa.fa-w-19 {\\n  width: 1.1875em;\\n}\\n.svg-inline--fa.fa-w-20 {\\n  width: 1.25em;\\n}\\n.svg-inline--fa.fa-pull-left {\\n  margin-right: 0.3em;\\n  width: auto;\\n}\\n.svg-inline--fa.fa-pull-right {\\n  margin-left: 0.3em;\\n  width: auto;\\n}\\n.svg-inline--fa.fa-border {\\n  height: 1.5em;\\n}\\n.svg-inline--fa.fa-li {\\n  width: 2em;\\n}\\n.svg-inline--fa.fa-fw {\\n  width: 1.25em;\\n}\\n\\n.fa-layers svg.svg-inline--fa {\\n  bottom: 0;\\n  left: 0;\\n  margin: auto;\\n  position: absolute;\\n  right: 0;\\n  top: 0;\\n}\\n\\n.fa-layers {\\n  display: inline-block;\\n  height: 1em;\\n  position: relative;\\n  text-align: center;\\n  vertical-align: -0.125em;\\n  width: 1em;\\n}\\n.fa-layers svg.svg-inline--fa {\\n  -webkit-transform-origin: center center;\\n          transform-origin: center center;\\n}\\n\\n.fa-layers-counter, .fa-layers-text {\\n  display: inline-block;\\n  position: absolute;\\n  text-align: center;\\n}\\n\\n.fa-layers-text {\\n  left: 50%;\\n  top: 50%;\\n  -webkit-transform: translate(-50%, -50%);\\n          transform: translate(-50%, -50%);\\n  -webkit-transform-origin: center center;\\n          transform-origin: center center;\\n}\\n\\n.fa-layers-counter {\\n  background-color: #ff253a;\\n  border-radius: 1em;\\n  -webkit-box-sizing: border-box;\\n          box-sizing: border-box;\\n  color: #fff;\\n  height: 1.5em;\\n  line-height: 1;\\n  max-width: 5em;\\n  min-width: 1.5em;\\n  overflow: hidden;\\n  padding: 0.25em;\\n  right: 0;\\n  text-overflow: ellipsis;\\n  top: 0;\\n  -webkit-transform: scale(0.25);\\n          transform: scale(0.25);\\n  -webkit-transform-origin: top right;\\n          transform-origin: top right;\\n}\\n\\n.fa-layers-bottom-right {\\n  bottom: 0;\\n  right: 0;\\n  top: auto;\\n  -webkit-transform: scale(0.25);\\n          transform: scale(0.25);\\n  -webkit-transform-origin: bottom right;\\n          transform-origin: bottom right;\\n}\\n\\n.fa-layers-bottom-left {\\n  bottom: 0;\\n  left: 0;\\n  right: auto;\\n  top: auto;\\n  -webkit-transform: scale(0.25);\\n          transform: scale(0.25);\\n  -webkit-transform-origin: bottom left;\\n          transform-origin: bottom left;\\n}\\n\\n.fa-layers-top-right {\\n  right: 0;\\n  top: 0;\\n  -webkit-transform: scale(0.25);\\n          transform: scale(0.25);\\n  -webkit-transform-origin: top right;\\n          transform-origin: top right;\\n}\\n\\n.fa-layers-top-left {\\n  left: 0;\\n  right: auto;\\n  top: 0;\\n  -webkit-transform: scale(0.25);\\n          transform: scale(0.25);\\n  -webkit-transform-origin: top left;\\n          transform-origin: top left;\\n}\\n\\n.fa-lg {\\n  font-size: 1.3333333333em;\\n  line-height: 0.75em;\\n  vertical-align: -0.0667em;\\n}\\n\\n.fa-xs {\\n  font-size: 0.75em;\\n}\\n\\n.fa-sm {\\n  font-size: 0.875em;\\n}\\n\\n.fa-1x {\\n  font-size: 1em;\\n}\\n\\n.fa-2x {\\n  font-size: 2em;\\n}\\n\\n.fa-3x {\\n  font-size: 3em;\\n}\\n\\n.fa-4x {\\n  font-size: 4em;\\n}\\n\\n.fa-5x {\\n  font-size: 5em;\\n}\\n\\n.fa-6x {\\n  font-size: 6em;\\n}\\n\\n.fa-7x {\\n  font-size: 7em;\\n}\\n\\n.fa-8x {\\n  font-size: 8em;\\n}\\n\\n.fa-9x {\\n  font-size: 9em;\\n}\\n\\n.fa-10x {\\n  font-size: 10em;\\n}\\n\\n.fa-fw {\\n  text-align: center;\\n  width: 1.25em;\\n}\\n\\n.fa-ul {\\n  list-style-type: none;\\n  margin-left: 2.5em;\\n  padding-left: 0;\\n}\\n.fa-ul > li {\\n  position: relative;\\n}\\n\\n.fa-li {\\n  left: -2em;\\n  position: absolute;\\n  text-align: center;\\n  width: 2em;\\n  line-height: inherit;\\n}\\n\\n.fa-border {\\n  border: solid 0.08em #eee;\\n  border-radius: 0.1em;\\n  padding: 0.2em 0.25em 0.15em;\\n}\\n\\n.fa-pull-left {\\n  float: left;\\n}\\n\\n.fa-pull-right {\\n  float: right;\\n}\\n\\n.fa.fa-pull-left,\\n.fas.fa-pull-left,\\n.far.fa-pull-left,\\n.fal.fa-pull-left,\\n.fab.fa-pull-left {\\n  margin-right: 0.3em;\\n}\\n.fa.fa-pull-right,\\n.fas.fa-pull-right,\\n.far.fa-pull-right,\\n.fal.fa-pull-right,\\n.fab.fa-pull-right {\\n  mar'"
      ]
     },
     "execution_count": 7,
     "metadata": {},
     "output_type": "execute_result"
    }
   ],
   "source": [
    "html_content[:5000]"
   ]
  },
  {
   "cell_type": "markdown",
   "metadata": {},
   "source": [
    "## Extract vejledning\n",
    "Simpelt script til at scrape data fra vejledning og gemme det i en dict med vejledninges navn som key"
   ]
  },
  {
   "cell_type": "code",
   "execution_count": 58,
   "metadata": {},
   "outputs": [],
   "source": [
    "soup = BeautifulSoup(html_content, 'html.parser')\n",
    "from bs4 import BeautifulSoup\n",
    "\n",
    "content_div = soup.find(\"div\", class_=\"document-content\")\n",
    "\n",
    "if content_div:\n",
    "    title = content_div.find(\"p\", class_=\"Titel2\").get_text(strip=True) if content_div.find(\"p\", class_=\"Titel2\") else \"Default Title\"\n",
    "    content = content_div  # This will store the entire HTML content within 'document-content'\n",
    "\n",
    "    data = {title: content}\n",
    "else:\n",
    "    print(\"Content not found!\")\n"
   ]
  },
  {
   "cell_type": "code",
   "execution_count": 65,
   "metadata": {},
   "outputs": [
    {
     "name": "stdout",
     "output_type": "stream",
     "text": [
      "dict_keys(['Vejledning om efterlønsbevis, udskydelsesreglen og skattefri præmie m.v.', 'Vejledning om ret til fravær med barselsdagpenge for forældre til et barn, der er født eller modtaget fra den 2. august 2022', 'Vejledning om betaling af medlems- og efterlønsbidrag til en a-kasse'])\n"
     ]
    }
   ],
   "source": [
    "import time\n",
    "\n",
    "def scrape_content(urls):\n",
    "    # Dictionary to store results\n",
    "    driver = webdriver.Chrome()\n",
    "    result_dict = {}\n",
    "\n",
    "    for url in urls:\n",
    "        driver.get(url)\n",
    "        \n",
    "        # Wait for the page to load completely\n",
    "        time.sleep(5)\n",
    "\n",
    "        # Get the page source and parse it with BeautifulSoup\n",
    "        soup = BeautifulSoup(driver.page_source, \"html.parser\")\n",
    "        content_div = soup.find(\"div\", class_=\"document-content\")\n",
    "\n",
    "        if content_div:\n",
    "            title = content_div.find(\"p\", class_=\"Titel2\").get_text(strip=True) if content_div.find(\"p\", class_=\"Titel2\") else str(url)\n",
    "            result_dict[title] = content_div\n",
    "        else:\n",
    "            print(\"Content not found for URL:\", url)\n",
    "\n",
    "    # Close the WebDriver\n",
    "    driver.quit()\n",
    "\n",
    "    return result_dict\n",
    "\n",
    "# List of URLs to scrape\n",
    "urls = [\"https://www.retsinformation.dk/eli/retsinfo/2023/9751\", \"https://www.retsinformation.dk/eli/retsinfo/2023/9816\", \"https://www.retsinformation.dk/eli/retsinfo/2023/9788\"]\n",
    "result = scrape_content(urls)\n",
    "print(result.keys())  # To check the titles of the scraped contents"
   ]
  },
  {
   "cell_type": "markdown",
   "metadata": {},
   "source": [
    "**OBS**\n",
    "Nogle vejledninger har tilsynedeladende ikke title i \"Titel2\" format, men derimod bare \"Titel' feks tilfældet for pulverlakering vejledning, andre har class TITLE, og andre igen har ingen men blot font size = 5...."
   ]
  },
  {
   "cell_type": "code",
   "execution_count": 51,
   "metadata": {},
   "outputs": [],
   "source": [
    "import time\n",
    "\n",
    "def scrape_content(urls):\n",
    "    # Dictionary to store results\n",
    "    driver = webdriver.Chrome()\n",
    "    result_dict = {}\n",
    "\n",
    "    for url in urls:\n",
    "        driver.get(url)\n",
    "        \n",
    "        # Wait for the page to load completely\n",
    "        time.sleep(2)\n",
    "\n",
    "        # Get the page source and parse it with BeautifulSoup\n",
    "        soup = BeautifulSoup(driver.page_source, \"html.parser\")\n",
    "        content_div = soup.find(\"div\", class_=\"document-content\")\n",
    "\n",
    "        if content_div:\n",
    "            if content_div.find(\"p\", class_=\"Titel2\"):\n",
    "                title = content_div.find(\"p\", class_=\"Titel2\").get_text(strip=True).replace(\"\\n\", \"\")\n",
    "            elif content_div.find(\"p\", class_=\"Titel\"):\n",
    "                title = content_div.find(\"p\", class_=\"Titel\").get_text(strip=True).replace(\"\\n\", \"\")\n",
    "            elif content_div.find(\"h1\", class_=\"TITLE\"):\n",
    "                title = content_div.find(\"h1\", class_=\"TITLE\").get_text(strip=True).replace(\"\\n\", \"\")\n",
    "            elif content_div.find(\"font\", {\"size\": \"5\"}):\n",
    "                title = content_div.find(\"font\", {\"size\": \"5\"}).get_text(strip=True).replace(\"\\n\", \"\")\n",
    "            else:\n",
    "                title = str(url)\n",
    "                \n",
    "            result_dict[title] = content_div\n",
    "        else:\n",
    "            print(\"Content not found for URL:\", url)\n",
    "\n",
    "    # Close the WebDriver\n",
    "    driver.quit()\n",
    "\n",
    "    return result_dict\n",
    "        "
   ]
  },
  {
   "cell_type": "code",
   "execution_count": 83,
   "metadata": {},
   "outputs": [],
   "source": [
    "from bs4 import BeautifulSoup\n",
    "import re\n",
    "\n",
    "def extract_text(bs_obj):\n",
    "    # Find all <p> tags and get their text content\n",
    "    paragraphs = bs_obj.find_all(\"p\")\n",
    "    \n",
    "    # Concatenate the text content of each <p> tag, separated by a line break\n",
    "    text = \"\\n\".join(p.get_text(strip=True) for p in paragraphs)\n",
    "    \n",
    "    return text\n",
    "\n",
    "def clean_text(text):\n",
    "    # Replace two or more line breaks in a row with a double line break\n",
    "    cleaned_text = re.sub(r'\\n{2,}', '\\n\\n', text)\n",
    "    return cleaned_text\n",
    "\n",
    "text_dict = {}\n",
    "for title, bs_obj in result.items():\n",
    "    text = extract_text(bs_obj)\n",
    "    cleaned_text = clean_text(text)\n",
    "    text_dict[title] = cleaned_text"
   ]
  },
  {
   "cell_type": "code",
   "execution_count": 84,
   "metadata": {},
   "outputs": [],
   "source": [
    "#Save the text_dict as a csv file with title as key and content as value\n",
    "import csv\n",
    "with open('data/text_dict_spaces_clean.csv', 'w') as f:\n",
    "    for key in text_dict.keys():\n",
    "        f.write(\"%s,%s\\n\"%(key,text_dict[key]))"
   ]
  },
  {
   "cell_type": "markdown",
   "metadata": {},
   "source": [
    "### Downloading all URLs for gaeldende vejledninger"
   ]
  },
  {
   "cell_type": "code",
   "execution_count": null,
   "metadata": {},
   "outputs": [],
   "source": [
    "from selenium import webdriver\n",
    "\n",
    "url_list = 'https://www.retsinformation.dk/documents?dt=180&h=false&page={page}&ps=100&r=30'\n"
   ]
  },
  {
   "cell_type": "code",
   "execution_count": null,
   "metadata": {},
   "outputs": [],
   "source": [
    "def extract_unique_urls(url_list):\n",
    "    driver = webdriver.Chrome()\n",
    "    driver.get(url_list)\n",
    "    time.sleep(5)\n",
    "    \n",
    "    soup = BeautifulSoup(driver.page_source, \"html.parser\")\n",
    "    soup = soup.find(\"div\", class_=\"search-result-list\")\n",
    "    \n",
    "    urls = set()  # Using a set to store URLs to avoid duplicates\n",
    "    for div in soup.find_all('div', class_='document-entry'):\n",
    "        url = div.get('about')\n",
    "        if url:\n",
    "            urls.add(url)\n",
    "    \n",
    "    driver.quit()\n",
    "    \n",
    "    return urls\n",
    "\n",
    "url_set = set()\n",
    "url_list = 'https://www.retsinformation.dk/documents?dt=180&h=false&page={page}&ps=100&r=30'\n",
    "url_prefix = 'https://www.retsinformation.dk'\n",
    "\n",
    "for page_no in range(0, 5):\n",
    "    vejledninger = extract_unique_urls(url_list.format(page=page_no))\n",
    "    complete_url = [url_prefix + url for url in vejledninger]\n",
    "    url_set = url_set.union(complete_url)\n"
   ]
  },
  {
   "cell_type": "markdown",
   "metadata": {},
   "source": [
    "### Save URLS to CSV"
   ]
  },
  {
   "cell_type": "code",
   "execution_count": null,
   "metadata": {},
   "outputs": [],
   "source": [
    "#Save the url_set as a csv file\n",
    "import csv\n",
    "with open('url_gaeldende_vejledninger_30-10-2023.csv', 'w') as f:\n",
    "    for url in url_set:\n",
    "        f.write(\"%s\\n\"%(url))"
   ]
  },
  {
   "cell_type": "markdown",
   "metadata": {},
   "source": [
    "### Load URLS from saved CSV"
   ]
  },
  {
   "cell_type": "code",
   "execution_count": 95,
   "metadata": {},
   "outputs": [],
   "source": [
    "#Load the urls from data/url_gaeldende_vejledninger_30-10-2023.csv\n",
    "import csv\n",
    "url_set = []\n",
    "with open('data/url_gaeldende_vejledninger_30-10-2023.csv', 'r') as f:\n",
    "    for url in f:\n",
    "        url_set.append(url)"
   ]
  },
  {
   "cell_type": "markdown",
   "metadata": {},
   "source": [
    "## Modified for getting all..."
   ]
  },
  {
   "cell_type": "code",
   "execution_count": 82,
   "metadata": {},
   "outputs": [],
   "source": [
    "import time\n",
    "\n",
    "def scrape_content(urls):\n",
    "    # Dictionary to store results\n",
    "    driver = webdriver.Chrome()\n",
    "    result_dict = {}\n",
    "\n",
    "    for url in urls:\n",
    "        \n",
    "        driver.get(url)\n",
    "        \n",
    "        # Wait for the page to load completely\n",
    "        time.sleep(2)\n",
    "\n",
    "        # Get the page source and parse it with BeautifulSoup\n",
    "        soup = BeautifulSoup(driver.page_source, \"html.parser\")\n",
    "        content_div = soup.find(\"div\", class_=\"document-content\")\n",
    "\n",
    "        if content_div:\n",
    "            if content_div.find(\"p\", class_=\"Titel2\"):\n",
    "                title = content_div.find(\"p\", class_=\"Titel2\").get_text(strip=True).replace(\"\\n\", \"\")\n",
    "            elif content_div.find(\"p\", class_=\"Titel\"):\n",
    "                title = content_div.find(\"p\", class_=\"Titel\").get_text(strip=True).replace(\"\\n\", \"\")\n",
    "            elif content_div.find(\"h1\", class_=\"TITLE\"):\n",
    "                title = content_div.find(\"h1\", class_=\"TITLE\").get_text(strip=True).replace(\"\\n\", \"\")\n",
    "            elif content_div.find(\"font\", {\"size\": \"5\"}):\n",
    "                title = content_div.find(\"font\", {\"size\": \"5\"}).get_text(strip=True).replace(\"\\n\", \"\")\n",
    "            else:\n",
    "                title = str(url)\n",
    "                \n",
    "            result_dict[title] = content_div\n",
    "        else:\n",
    "            print(\"Content not found for URL:\", url)\n",
    "\n",
    "    # Close the WebDriver\n",
    "    driver.quit()\n",
    "\n",
    "    return result_dict\n",
    "        "
   ]
  },
  {
   "cell_type": "markdown",
   "metadata": {},
   "source": [
    "## Download all vejledninger"
   ]
  },
  {
   "cell_type": "code",
   "execution_count": 83,
   "metadata": {},
   "outputs": [],
   "source": [
    "vejledninger = scrape_content(list(url_set))"
   ]
  },
  {
   "cell_type": "code",
   "execution_count": 85,
   "metadata": {},
   "outputs": [],
   "source": [
    "vejledninger_html_dict = {}\n",
    "for title, bs_obj in vejledninger.items():\n",
    "    html = str(bs_obj)\n",
    "    vejledninger_html_dict[title] = html\n",
    "    \n",
    "csv_file_path = 'data/vejledninger_html_8-11-2023.csv'\n",
    "\n",
    "with open(csv_file_path, 'w', newline='', encoding='utf-8') as f:\n",
    "    writer = csv.writer(f, quoting=csv.QUOTE_ALL)  # QUOTE_ALL will quote all fields\n",
    "    # Write the header\n",
    "    writer.writerow(['Key', 'Value'])\n",
    "    # Write the dictionary items\n",
    "    for key, value in vejledninger_html_dict.items():\n",
    "        writer.writerow([key, value])"
   ]
  },
  {
   "cell_type": "code",
   "execution_count": 41,
   "metadata": {},
   "outputs": [],
   "source": [
    "#vejledninger_html_dict.keys()"
   ]
  },
  {
   "cell_type": "code",
   "execution_count": 86,
   "metadata": {},
   "outputs": [],
   "source": [
    "import csv\n",
    "\n",
    "vejledninger_dict = {}\n",
    "for title, bs_obj in vejledninger.items():\n",
    "    text = extract_text(bs_obj)\n",
    "    cleaned_text = clean_text(text)\n",
    "    vejledninger_dict[title] = cleaned_text\n",
    "    \n",
    "csv_file_path = 'data/vejledninger_tekst_8-11-2023.csv'\n",
    "\n",
    "with open(csv_file_path, 'w', newline='', encoding='utf-8') as f:\n",
    "    writer = csv.writer(f, quoting=csv.QUOTE_ALL)  # QUOTE_ALL will quote all fields\n",
    "    # Write the header\n",
    "    writer.writerow(['Key', 'Value'])\n",
    "    # Write the dictionary items\n",
    "    for key, value in vejledninger_dict.items():\n",
    "        writer.writerow([key, value])"
   ]
  },
  {
   "cell_type": "code",
   "execution_count": 30,
   "metadata": {},
   "outputs": [],
   "source": [
    "#vejledninger_dict.keys()"
   ]
  },
  {
   "cell_type": "code",
   "execution_count": 96,
   "metadata": {},
   "outputs": [
    {
     "data": {
      "text/plain": [
       "432"
      ]
     },
     "execution_count": 96,
     "metadata": {},
     "output_type": "execute_result"
    }
   ],
   "source": [
    "len(vejledninger_html_dict.keys())"
   ]
  },
  {
   "cell_type": "code",
   "execution_count": 97,
   "metadata": {},
   "outputs": [
    {
     "data": {
      "text/plain": [
       "432"
      ]
     },
     "execution_count": 97,
     "metadata": {},
     "output_type": "execute_result"
    }
   ],
   "source": [
    "len(url_set)"
   ]
  },
  {
   "cell_type": "markdown",
   "metadata": {},
   "source": [
    "## Loading the csvs back"
   ]
  },
  {
   "cell_type": "code",
   "execution_count": 89,
   "metadata": {},
   "outputs": [],
   "source": [
    "# Reload vejledninger_html_2-11-2023.csv into vejledninger_html_dict as key,value pairs\n",
    "import csv\n",
    "import sys\n",
    "csv.field_size_limit(sys.maxsize)\n",
    "\n",
    "vejledninger_html_dict = {}\n",
    "csv_file_path = 'data/vejledninger_html_8-11-2023.csv'\n",
    "with open(csv_file_path, 'r', newline='', encoding='utf-8') as f:\n",
    "    reader = csv.reader(f)\n",
    "\n",
    "    for row in reader:\n",
    "        key = row[0]\n",
    "        value = row[1]\n",
    "        vejledninger_html_dict[key] = value\n"
   ]
  },
  {
   "cell_type": "code",
   "execution_count": 91,
   "metadata": {},
   "outputs": [],
   "source": [
    "soup = BeautifulSoup(vejledninger_html_dict['Vejledning om dagpengeperioden'], \"html.parser\")"
   ]
  },
  {
   "cell_type": "code",
   "execution_count": 92,
   "metadata": {},
   "outputs": [],
   "source": [
    "import re\n",
    "\n",
    "def extract_text(bs_obj):\n",
    "    # Find all <p> tags and get their text content\n",
    "    paragraphs = bs_obj.find_all(\"p\")\n",
    "    \n",
    "    # Concatenate the text content of each <p> tag, separated by a line break\n",
    "    text = \"\\n\".join(p.get_text(strip=True) for p in paragraphs)\n",
    "    \n",
    "    return text\n",
    "\n",
    "def clean_text(text):\n",
    "    # Replace two or more line breaks in a row with a double line break\n",
    "    cleaned_text = re.sub(r'\\n{2,}', '\\n\\n', text)\n",
    "    return cleaned_text"
   ]
  },
  {
   "cell_type": "code",
   "execution_count": 93,
   "metadata": {},
   "outputs": [],
   "source": [
    "text = extract_text(soup)"
   ]
  },
  {
   "cell_type": "code",
   "execution_count": 94,
   "metadata": {},
   "outputs": [
    {
     "name": "stdout",
     "output_type": "stream",
     "text": [
      "Vejledning om dagpengeperioden\n",
      "Indledning\n",
      "I bekendtgørelse nr. 109 af 30. januar 2023 om dagpengeperioden, er reglerne om længde og forbrug af dagpengeperioden angivet.\n",
      "Bekendtgørelsen fastsætter regler om dagpengeperiodens længde, indplacering, forbrug af ydelsesperioden, referenceperioden og forlængelse af denne samt afkortning af dagpengeperioden ved omfattende brug af dagpengesystemet. Der henvises til §§ 55 og 56 b i lov om arbejdsløshedsforsikring m.v. (loven).\n",
      "I denne vejledning, som erstatter vejledning nr. 9804 af 26. september 2018 om dagpengeperioden, beskrives og uddybes bekendtgørelsens regler.\n",
      "Den ordinære dagpengeperiode udgør 2 år inden for 3 år. For medlemmer, der har opnået ret til dagpenge efter § 54 i loven (dimittender), udgør dagpengeperioden dog 1 år inden for 2 år. Dagpengeperioden kan forlænges med 1 år inden for 1,5 år.\n",
      "Den samlede maksimale dagpengeperiode kan således udgøre 3 år (svarende til i alt 5.772 timer for fuldtidsforsikrede og 4.680 timer for deltidsforsikrede) inden for en periode på 4 år og 6 måneder (svarende til i alt 54 måneder). For dimittender kan den samlede maksimale dagpengeperiode udgøre 2 år (svarende til 3.848 timer for fuldtidsforsikrede og 3.120 timer for deltidsforsikrede) inden for en periode på 3,5 år (svarende til 42 måneder).\n",
      "\n",
      "Til § 2\n",
      "\n",
      "Område og begreber\n",
      "Til nr. 1\n",
      "\"Dagpengeperioden\" er den periode, hvor der er ret til dagpenge. Dagpengeperioden består af en ydelsesperiode og en referenceperiode.\n",
      "\n",
      "Til nr. 2\n",
      "”Ydelsesperioden” er den periode, hvori medlemmet sammenlagt kan modtage dagpenge m.v. For fuldtidsforsikrede udgør ydelsesperioden 3.848 timer, mens den for deltidsforsikrede udgør 3.120 timer.\n",
      "For dimittender – altså medlemmer, der har opnået ret til dagpenge på baggrund af en afsluttet uddannelse efter § 54 i loven – udgør ydelsesperioden 1.924 timer for fuldtidsforsikrede, mens den for deltidsforsikrede udgør 1.560 timer.\n",
      "\n",
      "Til nr. 3\n",
      "”Referenceperioden” er den periode, inden for hvilken medlemmet længst kan modtage dagpenge mv. Referenceperioden udgør 36 måneder. Dog udgør referenceperioden 24 måneder for dimittender.\n",
      "\n",
      "Til nr. 4\n",
      "”Indplaceringstidspunktet” er den 1. i den måned, hvor et medlem af en arbejdsløshedskasse begynder at bruge af dagpengeperioden.\n",
      "Det vil sige, at såfremt et medlem fx begynder at bruge af dagpengeperioden den 12. marts, er indplaceringstidspunktet den 1. marts.\n",
      "\n",
      "Til nr. 5\n",
      "Ved \"måneder\" forstås her kalendermåneder.\n",
      "\n",
      "Til § 3\n",
      "Dagpengeperioden\n",
      "Til stk. 1\n",
      "Dagpengeperioden for fuldtidsforsikrede er på 3.848 timer inden for en periode på 36 måneder, mens den for deltidsforsikrede er på 3.120 timer inden for 36 måneder.\n",
      "Der gælder særlige overgangsregler for personer, der er indplaceret i en dagpengeperiode forud for den 1. juli 2017. Der henvises til §§ 13 og 14 i bekendtgørelsen.\n",
      "Forbrug af ydelsesperioden fremgår af bekendtgørelsens § 8.\n",
      "\n",
      "Til stk. 2\n",
      "Dagpengeperioden for dimittender er på 1.924 timer inden for en periode på 24 måneder for fuldtidsforsikrede, og på 1.560 timer inden for en periode på 24 måneder for deltidsforsikrede.\n",
      "Den 1-årige dagpengeperiode gælder både for forsørgere og ikke-forsørgere.\n",
      "Den 1-årige dagpengeperiode gælder kun for medlemmer, der har opnået ret til dagpenge på baggrund af en dimittendgivende uddannelse efter § 54 i loven.\n",
      "Det betyder, at den 1-årige dagpengeperiode ikke gælder for medlemmer, der har opnået ret til dagpenge ved at sammenlægge arbejde og måneder med uddannelse, jf. § 53, stk. 3, nr. 4, og § 53, stk. 9, nr. 4, i loven.\n",
      "Dimittender har ret til fleksibel forlængelse af dagpengeperioden i op til 1 år efter lovens § 55, stk. 2.\n",
      "\n",
      "Til stk. 3\n",
      "Efter udløbet af dagpengeperioden på 3.848 timer for fuldtidsforsikrede/3.120 timer for deltidsforsikrede inden for en periode på 36 måneder og på 1924 timer for fuldtidsforsikrede dimittender og 1.560 timer for deltidsforsikrede dimittender inden for en periode på 24 måneder, kan dagpengeperioden forlænges på grundlag af beskæftigelse i dagpengeperioden. Der henvises til bekendtgørelse om indkomst- og beskæftigelseskravet for ret til dagpenge.\n",
      "Det betyder, at et medlem, som ikke har genoptjent retten til en ny dagpengeperiode efter § 55, stk. 1, når den ordinære dagpengeperiode er opbrugt, det vil sige når enten ydelsesperioden er opbrugt eller referenceperioden er udløbet, har mulighed for at forlænge dagpengeperioden på baggrund af løntimer, som er registreret på beskæftigelseskontoen siden seneste indplacering.\n",
      "Et medlem, hvis forlængede dagpengeperiode er udløbet, har ret til yderligere forlængelse af dagpengeperioden på baggrund af løntimer, som er registreret siden seneste opgørelse af den forlængede dagpengeperiode og frem til det tidspunkt, hvor den forlængede dagpengeperiode er udløbet. Beskæftigede timer i den forlængede dagpengeperiode kan således også konverteres til yderligere forlængelse af dagpengeperioden. Dagpengeperioden kan højst forlænges med 1.924 timer inden for 18 måneder for fuldtidsforsikrede og med 1.560 timer inden for 18 måneder for deltidsforsikrede.\n",
      "Når forlængelsen sker på baggrund af løntimer betyder det, at perioder med drift af selvstændig virksomhed ikke kan medregnes til opgørelsen af forlængelsen af dagpengeperioden.\n",
      "Forlængelse af ret til dagpenge, herunder en eventuel yderligere forlængelse på baggrund af beskæftigede timer i forlængelsesperioden, opgøres ved udløbet af den forlængede dagpengeperiode og efter samme principper, som ved udløbet af den ordinære dagpengeperiode. Det vil sige ved udløbet af enten den forlængede ydelses- eller referenceperiode.\n",
      "Det er kun løntimer frem til det tidspunkt, hvor medlemmet ikke længere har ret til dagpenge, fordi den ordinære dagpengeperiode eller den forlængede dagpengeperiode er udløbet, som kan medregnes ved forlængelse af dagpengeperioden.\n",
      "\n",
      "Til stk. 4\n",
      "Overgår et medlem fra en forsikringsstatus som fuldtidsforsikret til deltidsforsikret, jf. bekendtgørelse om medlemskab af en a-kasse, skal pågældendes dagpengeperiode reguleres i forhold til den nye forsikringsstatus som deltidsforsikret. Det gælder både, hvis der er tale om den 2-årige dagpengeperiode og den 1-årige dagpengeperiode for dimittender.\n",
      "Dette sker som forholdet mellem dagpengeperiodens længde som deltidsforsikret divideret med dagpengeperiodens længde som fuldtidsforsikret.\n",
      "3.120 timer: 3.848 timer = 0,81 (afrundet).\n",
      "Til § 4\n",
      "\n",
      "Indplacering i dagpengeperioden\n",
      "\n",
      "Til stk. 1\n",
      "Fra den 1. juli 2017 sker indplacering i en dagpengeperiode altid med virkning fra den 1. i den måned, hvor medlemmet begynder at bruge af dagpengeperioden.\n",
      "Indplacering i dagpengeperioden sker for medlemmer, der ikke er indplaceret, fra den 1. i den måned, hvor medlemmet anmoder om og herefter får udbetalt arbejdsløshedsdagpenge eller i øvrigt forbruger af ydelsesperioden. Medlemmer, som modtager sygedagpenge, skal ikke indplaceres, da sygdomsperioder kun forbruger af ydelsesperioden ved ledighed, herunder aktivering, jf. bekendtgørelsens § 8, stk. 1, nr. 4.\n",
      "Medlemmer, der har ret til arbejdsløshedsdagpenge på grundlag af blanket PD U1 (Personbåret Dokument U1), indplaceres som udgangspunkt fra den 1. i den måned, hvor medlemmet får ret til ydelse efter PD U1.\n",
      "\n",
      "Til stk. 2\n",
      "Et medlem, som indplaceres i en dagpengeperiode, og som er udelukket fra ret til dagpenge som følge af en effektiv karantæne, indplaceres fra den 1. i den måned, hvor medlemmet ville have været berettiget til ydelse, hvis medlemmet ikke var udelukket fra ret til dagpenge på grund af karantænen.\n",
      "Det bemærkes, at et medlem, der er ophørt med at udøve selvstændig virksomhed, ikke kan få dagpenge for de første 3 uger efter ophøret, dog kun for den første uge ved konkurs eller tvangsauktion, jf. lovens § 63, stk. 2. I en sådan situation er der ikke tale om en effektiv karantæne, men en venteperiode. Et medlem, der er ophørt med at udøve selvstændig virksomhed på tro og love efter lovens § 57 b, stk. 2, nr. 2, men som ikke har fået et ophørsbevis endnu, har en venteperiode på 2 måneder, jf. lovens § 63, stk. 2, 3. pkt.\n",
      "Et medlem kan derfor først indplaceres den første i den måned, hvor venteperioderne, jf. lovens § 63, stk. 2, er udløbet.\n",
      "\n",
      "Til stk. 3\n",
      "Et medlem, der udtræder af efterlønsordningen og anmoder om dagpenge, kan fortsætte i den indplacering, som medlemmet havde forud for overgang til efterløn, idet perioden med efterløn dog skal medregnes ved forbruget af ydelsesperioden, jf. bekendtgørelsens § 8, stk. 1, nr. 7.\n",
      "Hvis medlemmet ikke er indplaceret i en dagpengeperiode forud for sin overgang til efterløn, indplaceres medlemmet med virkning fra den 1. i den måned, hvor medlemmet er overgået til efterløn.\n",
      "\n",
      "Fortsættelse i en tidligere indplacering efter afbrudt medlemsperiode\n",
      "\n",
      "Der er ikke fastsat særlige regler om ret til dagpenge for medlemmer, der har en afbrudt medlemsperiode, fordi medlemmet har meldt sig ud eller blevet slettet som medlem, og derefter melder sig ind igen. Retten til dagpenge er betinget af, at medlemmet opfylder indkomst- eller beskæftigelseskravet. I den forbindelse kan der kun medregnes beskæftigelse, der ligger i en medlemsperiode, og som ikke er udført forud for en tidligere indplacering.\n",
      "Der stilles ikke krav om, at et medlem, der anmoder om dagpenge efter en afbrudt medlemsperiode, skal have ret til en ny indplacering. I det omfang medlemmet har en tidligere indplacering – uden efterfølgende på ny at opfylde indkomst- eller beskæftigelseskravet - vil medlemmet dermed kunne fortsætte i den tidligere indplacering. Der stilles dog krav om, at medlemmet har været uafbrudt medlem i mindst ét år, jf. § 53, stk. 1, i loven. Det bemærkes, at referenceperioden ikke kan forlænges med den periode, hvor medlemskabet er afbrudt.\n",
      "\n",
      "Til § 5\n",
      "\n",
      "Genindplacering\n",
      "\n",
      "Til stk. 1\n",
      "Et medlem kan genoptjene retten til dagpenge på grundlag af løntimer indberettet til indkomstregisteret, jf. bekendtgørelse om indkomst- og beskæftigelseskravet for ret til dagpenge. Et medlem, der fortsat har ret til dagpenge på det tidspunkt, hvor det konstateres, at retten til dagpenge er optjent på ny, bliver indplaceret i en ny dagpengeperiode fra den første i måneden efter den måned, hvori de sidste løntimer til brug for opfyldelse af beskæftigelseskravet er indberettet til indkomstregisteret, eller resultatet af den selvstændige virksomhed fremgår af medlemmets årsopgørelse fra Skatteforvaltningen. Det betyder, at medlemmet forbliver i den aktuelle dagpengeperiode i resten af den måned, hvor det konstateres, at retten til dagpenge er genoptjent.\n",
      "Hvis genoptjening sker på baggrund af B-indkomst, der ikke skal indberettes til indkomstregisteret og som ikke indgår i resultatet af en selvstændig virksomhed, sker indplacering fra den første i måneden efter den måned, hvori arbejdet er udført.\n",
      "Der skal ikke ske en ny indplacering i forbindelse med, at medlemmet overgår fra deltids- til fuldtidsforsikring, eller i forbindelse med, at der ved udbetaling af supplerende dagpenge skal ske en opgørelse efter lovens § 60, stk. 1, idet der i disse tilfælde ikke sker en egentlig opgørelse af beskæftigelseskravet, jf. lovens § 53, stk. 8.\n",
      "Et medlem, der efter indplacering i en dagpengeperiode overgår fra fuldtids- til deltidsforsikring, skal ved efterfølgende opgørelse af beskæftigelseskravet alene opfylde beskæftigelseskravet for deltidsforsikrede, jf. lovens § 53, stk. 5, nr. 2, for at få ret til en ny dagpengeperiode.\n",
      "\n",
      "Til stk. 2\n",
      "Medlemmer, som ikke har ret til dagpenge i hele den måned, hvori dagpengeretten genoptjenes, jf. stk. 1, indplaceres i en ny dagpengeperiode med virkning fra den første i den måned, hvori ny dagpengeret er optjent. Der er tale om en ”teknisk indplacering”, som sikrer, at den nye dagpengeperiode starter i forlængelse af afslutningen på den forudgående dagpengeperiode. Der er således tale om, at man opbruger den indeværende dagpengeperiode, før man forbruger af den nye dagpengeperiode. Der er således ikke tale om ”dobbeltforbrug” af både den gamle og den nye dagpengeperiode.\n",
      "\n",
      "Til § 6\n",
      "\n",
      "Indplacering i den forlængede dagpengeperiode\n",
      "\n",
      "Til stk. 1 og 2\n",
      "Indplacering i den forlængede dagpengeperiode, jf. bekendtgørelsens § 3, stk. 3, sker såvel for ydelses- som referenceperioden fra den 1. i den måned, hvor medlemmets ret til dagpenge efter bekendtgørelsens § 3, stk. 1 og 2, er udløbet.\n",
      "For opgørelse af den forlængede dagpengeperiode henvises til bekendtgørelse om indkomst- og beskæftigelseskravet for ret til dagpenge med tilhørende vejledning. Det fremgår blandt andet heraf, at første gang et medlem forlænger retten til dagpenge, når dagpengeperioden på henholdsvis 2 år og 1 år er udløbet, tillægges den opgjorte referenceperiode 1 måned.\n",
      "\n",
      "Til § 7\n",
      "\n",
      "Fastlæggelse af ydelses- og referenceperioden for personer, der medregner forsikrings- og beskæftigelsesperioder fra et andet EØS-land, Schweiz, Færøerne eller Storbritannien\n",
      "\n",
      "Til stk. 1\n",
      "En person, der har ret til dagpenge efter bekendtgørelse om arbejdsløshedsforsikring ved arbejde inden for EØS, Færøerne og i det øvrige udland, skal indplaceres i en dagpengeperiode.\n",
      "Bestemmelsen finder anvendelse dels på personer, der er umiddelbart dagpengeberettigede i Danmark på baggrund af medregning af perioder fra andre EØS-lande, Schweiz, Færøerne eller Storbritannien, dels på personer, der skal opfylde et krav om beskæftigelse i Danmark for at kunne medregne forsikringsperioder fra andre EØS-lande, Schweiz, Færøerne eller Storbritannien. Der henvises til §§ 2 og 3 i bekendtgørelse om arbejdsløshedsforsikring mv. inden for EØS og i det øvrige udland.\n",
      "Det betyder, at disse personer ved ledighed i Danmark skal opfylde det almindelige beskæftigelseskrav efter lovens § 53 for at være berettiget til dagpenge.\n",
      "Hvis pågældende forud for ledigheden i Danmark har haft ledighedsperioder i et andet EØS-land, Schweiz, Færøerne eller Storbritannien, skal der tages højde herfor.\n",
      "Det sker ved, at der teknisk sker en indplacering i det danske arbejdsløshedsforsikringssystem med virkning fra den 1. i den måned, hvor der er udbetalt arbejdsløshedsydelser i et andet EØS-land, Schweiz, Færøerne eller Storbritannien.\n",
      "\n",
      "Til stk. 2\n",
      "I forhold til fastlæggelse af såvel ydelses- som referenceperioden, jf. bekendtgørelsens § 3, skal der ved indplaceringen ske et fradrag for forbrug af perioderne i et andet EØS-land, Schweiz, Færøerne eller Storbritannien.\n",
      "Beregningen af ledighedsanciennitet med arbejdsløshedsydelser sker efter samme regler, som hvis ledigheden var tilbagelagt i Danmark. Det vil sige, at opgørelsen sker på baggrund af timer, i hvilke der er modtaget arbejdsløshedsydelser.\n",
      "Dokumentation af forbrug af ydelse i et andet EØS-land, Schweiz eller Storbritannien skal som udgangspunkt ske på grundlag af oplysninger om ledighedsperioder på dokument PD U1 eller SED U 002/U 017, som er givet af det andet lands myndighed i medfør af artikel 61 i EF-forordning nr. 883/2004, når medlemmet skal medregne perioder for at opnå ret til danske dagpenge.\n",
      "Der er tale om en teknisk indplacering, som fastlægger forbrug af ydelses- og referenceperioderne. Beskæftigelse efter denne indplacering kan derfor indgå i opgørelsen af et nyt efterfølgende beskæftigelseskrav, uanset om timerne indgår til opfyldelsen af beskæftigelseskravet, der kvalificerede pågældende til at blive dagpengeberettiget efter danske regler, jf. stk. 1.\n",
      "Eksempel:\n",
      "Et medlem har haft ret til en udenlandsk arbejdsløshedsforsikringsydelse og har modtaget denne i 3 måneder – perioden 2. januar 2017 til 31. marts 2017.Medlemmet har efterfølgende haft 962 timers beskæftigelse (26 ugers fuldtidsbeskæftigelse) frem til og med den 30. september 2017.Pågældende flytter herefter til Danmark og anmoder den 1. oktober 2017 om arbejdsløshedsdagpenge.Pågældende opfylder på dette tidspunkt betingelserne i bekendtgørelse om arbejdsløshedsforsikring mv. inden for EØS og i det øvrige udland.Pågældende vil derfor kunne indplaceres i det danske arbejdsløshedsforsikringssystem med virkning fra 1. oktober 2017.\n",
      "Indplaceringen sker imidlertid med virkning fra tidspunktet for modtagelse af arbejdsløshedsydelsen i det andet EØS-land, Schweiz eller Færøerne, dvs. den 2. januar 2017.Ved den faktiske indplacering i den danske arbejdsløshedsforsikring er der brugt 481 timer af ydelsesperioden og 9 måneder af referenceperioden.\n",
      "Beskæftigelsesperioden fra den 1. april 2017 til den 30. september 2017 kan medregnes til opgørelsen af et senere beskæftigelseskrav, forudsat betingelserne i øvrigt er opfyldt.\n",
      "Til stk. 3\n",
      "Beskæftigelse efter indplaceringen efter stk. 2, kan medregnes til opfyldelse af et senere beskæftigelseskrav, jf. ovenstående eksempel.\n",
      "Til stk. 4\n",
      "Reglen i stk. 2 finder ikke anvendelse på personer, som er indplaceret i en dagpengeperiode i Danmark.\n",
      "\n",
      "Til § 8\n",
      "\n",
      "Forbrug af ydelsesperioden\n",
      "\n",
      "Til stk. 1\n",
      "Den periode, hvor et medlem kan modtage dagpenge, både den ordinære 2-årige og evt. forlængede dagpengeperiode, tilbud mm. (ydelsesperioden), opgøres i timer.\n",
      "Ydelsesperioden på 2 år svarer til 3.848 timer for fuldtidsforsikrede. For deltidsforsikrede er ydelsesperioden 3.120 timer. Ydelsesperioden for dimittender på 1 år svarer til 1924 timer for fuldtidsforsikrede og 1560 timer for deltidsforsikrede.\n",
      "Ved opgørelse af ydelsesperioden indgår:\n",
      "1)Timer, hvor der er udbetalt dagpenge,\n",
      "2)timer, hvor der er udbetalt feriedagpenge, medmindre medlemmet på tidspunktet for afholdelse af ferie med feriedagpenge ikke er indplaceret i en dagpengeperiode, og medlemmet efterfølgende har optjent indkomst- og beskæftigelseskravet efter lovens § 53, stk. 2 og 8,\n",
      "3)timer, hvor medlemmet deltager i tilbud efter kapitel 12 i lov om en aktiv beskæftigelsesindsats hos private arbejdsgivere, medmindre medlemmet deltager i tilbuddet efter reglerne for personer, der modtager sygedagpenge, eller medlemmet er sygt eller på barsel, og der udbetales fuld løn under sygdommen eller barselsorloven,\n",
      "4)timer, hvor medlemmet deltager i tilbud efter kapitel 12 i lov om en aktiv beskæftigelsesindsats hos offentlige arbejdsgivere, medmindre medlemmet deltager i tilbuddet efter reglerne for personer, der modtager sygedagpenge, eller medlemmet er sygt eller på barsel, og der udbetales fuld løn under sygdommen eller barselsorloven. Forbruget opgøres for fuldtidsforsikrede med 7,4 timer pr. dag, dog højest 160,33 timer pr. måned, og for deltidsforsikrede med 6 timer pr. dag, dog højest 130 timer pr. måned,\n",
      "5)timer, hvor medlemmet under ledighed modtager sygedagpenge efter lov om sygedagpenge med den del af en sammenhængende periode, der er på 6 uger eller derunder,\n",
      "6)timer, hvor medlemmet helt eller delvist er udelukket fra ret til dagpenge som følge af effektiv karantæne, og\n",
      "7)timer, hvor medlemmet har modtaget efterløn.\n",
      "\n",
      "Særligt om perioder, hvor medlemmet modtager sygedagpenge\n",
      "Perioder med sygedagpenge forbruger kun af ydelsesperioden under ledighed, herunder aktivering, for så vidt angår den del af perioden, der er på 6 uger eller derunder. Perioden opgøres i kalenderdage regnet fra første sygedag. Forbruget i 6-ugers perioden opgøres på baggrund af indberetninger til indkomstregisteret om hvor mange timer, der er udbetalt sygedagpenge for i perioden. Sygedagpenge har således kun betydning for medlemmer, der er indplaceret i en dagpengeperiode, jf. bekendtgørelsens § 4.\n",
      "Et medlem er ledigt, hvis pågældende umiddelbart forud for sygdommen har modtaget ydelser, der forbruger af ydelsesperioderne. Perioder med sygedagpenge forbruger derfor af ydelsesperioden i følgende tilfælde:\n",
      "1)Hvis medlemmet for dagen før sygeperioden (dog fredagen før, hvis sygeperioden begynder en mandag) af arbejdsløshedskassen får udbetalt en ydelse, der forbruger af ydelsesperioden.\n",
      "2)Hvis medlemmet for dagen før sygeperioden (dog fredagen før, hvis sygeperioden begynder en mandag) har afviklet effektiv karantæne.\n",
      "3)Hvis medlemmet er i tilbud efter lov om en aktiv beskæftigelsesindsats, når sygeperioden begynder.\n",
      "4)Hvis medlemmet arbejder på fast nedsat tid og modtager supplerende dagpenge, når sygeperioden begynder.\n",
      "Perioder med sygedagpenge forbruger endvidere af ydelsesperioden i tilfælde, hvor et medlem, der er indplaceret, hverken er i beskæftigelse dagen før sygeperioden begynder eller er omfattet af nr. 1-4 ovenfor. Dette kan fx være tilfældet, hvis medlemmet forud for sygeperioden har holdt fri for egen regning.\n",
      "Der forbruges dog kun af ydelsesperioden, hvis medlemmet i tidsrummet mellem det tidspunkt, hvor medlemmet senest har været i ordinær beskæftigelse, har afholdt egen optjent ferie med feriegodtgørelse eller der har været forhold, der kan forlænge dagpengeperioden, jf.§ 10, og det tidspunkt, hvor perioden med sygedagpenge begynder, har fået udbetalt en ydelse, der forbruger af ydelsesperioden, har afviklet effektiv karantæne, eller har deltaget i tilbud efter lov om en aktiv beskæftigelsesindsats.\n",
      "Hvis et medlem ophører i et tilbud efter lov om en aktiv beskæftigelsesindsats på et tidspunkt, hvor medlemmet får fuld løn under sygdom eller barselsorlov, og medlemmet efter ophøret får udbetalt sygedagpenge, vil perioden med sygedagpenge forbruge af ydelsesperioden.\n",
      "Hvis medlemmet dagen før sygeperioden fx har været i beskæftigelse, har afholdt egen optjent ferie med feriegodtgørelse eller har haft krav på dagpengegodtgørelse, forbruger sygeperioden således ikke af ydelsesperioden.\n",
      "\n",
      "Særligt om perioder, hvor et medlem modtager feriedagpenge\n",
      "Perioder, hvor der er modtaget feriedagpenge, forbruger kun af ydelsesperioden, hvis:\n",
      "1)Ferie med feriedagpenge er afholdt, efter at medlemmet er blevet indplaceret, eller\n",
      "2)ferie med feriedagpenge er afholdt, før medlemmet er indplaceret, og medlemmet efterfølgende har optjent beskæftigelseskravet, jf. § 8 i bekendtgørelse om indkomst- og beskæftigelseskravet for ret til dagpenge.\n",
      "Et medlem kan få udbetalt feriedagpenge, uden at der skal ske indplacering. Hvis medlemmet efterfølgende bliver ledig og anmoder om dagpenge, skal perioden med feriedagpenge fratrækkes dagpengeperioden, hvis perioden med feriedagpenge ligger inden for den periode, hvor beskæftigelseskravet senest er optjent. I sådanne tilfælde forbruger feriedagpengene af såvel ydelsesperioden som referenceperioden. Forbruget beregnes ved, at ydelsesperioden nedsættes med det antal timer, der er ydet feriedagpenge for. Hvis feriedagpengene ydes for en uge, nedsættes ydelsesperioden med 37 timer. Referenceperioden opgøres i måneder, jf. bekendtgørelsens § 3, stk. 1. Det betyder, at udbetaling af feriedagpenge svarende til en uge (37 timer) forbruger af referenceperioden med én måned. Hvis der i den pågældende måned er forbrug af såvel arbejdsløshedsdagpenge som feriedagpenge og dette forbrug højst udgør 160,33 timer, nedsættes referenceperioden i disse særlige tilfælde alene med én måned. Medlemmets dagpengeperiode regnes i øvrigt fra den 1. dag i måneden, som medlemmet får udbetalt dagpenge for.\n",
      "Det bemærkes, at et medlem, som har ret til feriedagpenge, og som har opbrugt sin 2-årige dagpengeret, jf. lovens § 55, stk. 1, kan modtage feriedagpenge, hvis pågældende har optjent ret til forlængelse af dagpengeperioden efter lovens § 56, og anmoder om forlængelse af dagpengeperioden, jf. bekendtgørelsens § 6, stk. 1, jf. § 3, stk. 2.\n",
      "Ligeledes kan et medlem, som har opbrugt sin dagpengeperiode, og som efterfølgende opfylder betingelserne for at få dagpenge, herunder beskæftigelseskravet i bekendtgørelsens § 8 i bekendtgørelse om indkomst- og beskæftigelseskravet for ret til dagpenge, får udbetalt feriedagpenge, uden at der skal ske indplacering af medlemmet. Det er en betingelse, at medlemmet ikke er eller skulle have været genindplaceret efter udløbet af dagpengeperioden. Også her gælder, at hvis medlemmet efterfølgende bliver ledig og anmoder om dagpenge, skal perioden med feriedagpenge fratrækkes dagpengeperioden, hvis perioden med feriedagpenge ligger inden for den periode, hvor beskæftigelseskravet senest er optjent.\n",
      "Et medlem, der udtræder af efterlønsordningen, kan fortsætte i sin tidligere indplacering, jf. bekendtgørelsens § 4, stk. 3, men perioden med efterløn forbruger af ydelsesperioden.\n",
      "\n",
      "Særligt om perioder, hvor medlemmet deltager i tilbud mv.\n",
      "Perioder, hvor medlemmet har deltaget i tilbud efter kapitel 10-12 i lov om en aktiv beskæftigelsesindsats, forbruger af ydelsesperioden, jf. nr. 1 og 3. Dette gælder dog ikke, hvis medlemmet under et tilbud efter kapitel 12 har været syg eller på barselorlov og har modtaget fuld løn fra arbejdsgiveren under sygdommen eller barselsorloven.\n",
      "Et fuldtidsforsikret medlem, der ansættes i et job med offentligt løntilskud efter reglerne i kapitel 12 i lov om en aktiv beskæftigelsesindsats, forbruger 37 timer om ugen/160,33 timer pr. måned og kan derfor ikke få supplerende dagpenge.\n",
      "Ved ansættelse i et job med privat løntilskud aftales arbejdstiden mellem arbejdsgiver, medlemmet og kommunen, og løntilskuddet ydes i forhold til dette antal timer. Der er derfor ret til supplerende dagpenge ud over det timetal, der konkret udbetales løntilskud for. Det betyder, at det private løntilskud kun forbruger af dagpengeperioden med det antal timer, der konkret udbetales løntilskud for.\n",
      "I forhold til vikaransættelse i jobrotationsordning efter kapitel 18 i lov om en aktiv beskæftigelsesindsats forbruger perioder i vikarjobbet ikke af ydelsesperioden, men forbruger derimod af referenceperioden. Vikaransættelsen forlænger ikke optjeningsperioden, jf. § 12, stk. 2, i bekendtgørelse om indkomst- og beskæftigelseskravet for ret til dagpenge.\n",
      "Til stk. 2\n",
      "Dagpenge efter stk. 1, som er udbetalt med urette, men som ikke skal tilbagebetales af medlemmet, indgår i de i § 3 nævnte ydelsesperioder.\n",
      "Til stk. 3\n",
      "Perioden fra udløb af de 6 måneder, der er angivet i lovens § 57 b, stk. 2, nr. 2, til medlemmet dokumenterer, at virksomhedens ophør er registreret hos Erhvervsstyrelsen, indgår i opgørelsen af medlemmets dagpengeperiode, jf. lovens § 55, stk. 4, nr. 7. Det vil sige perioden efter udløb af de 6 måneder og frem til medlemmet indleverer et ophørsbevis fra virk.dk, og dermed igen kan modtage dagpenge, forbruger af dagpengeperioden.\n",
      "Perioden opgøres som 160,33 timer pr. måned for et fuldtidsforsikret medlem og 130 timer pr. måned for deltidsforsikret medlem, uanset eventuelle faktiske arbejdstimer mv. i måneden. Forbruget kan dog højest opgøres til det antal timer, der er tilbage af den ydelsesperiode, medlemmet aktuelt er indplaceret i.\n",
      "Såfremt perioden ikke udgør en hel kalendermåned, opgøres perioden som 7,40 timer pr. hverdag i den pågældende periode for et fuldtidsforsikret medlem og som 6 timer pr. hverdag i den pågældende periode for et deltidsforsikret medlem.\n",
      "Hvis medlemmet genoptjener retten til dagpenge uden at have afleveret et ophørsbevis, vil medlemmet fortsat ikke have ret til dagpenge, og vil derfor ikke kunne genindplaceres i en ny dagpengeperiode.\n",
      "Medlemmet kan anses for ophørt af andre grunde, f.eks fordi virksomheden er omdannet til formueforvaltning eller medlemmet har haft tilstrækkelig med lønmodtagerbeskæftigelse.\n",
      "Ved en eventuel genindplacering i en ny dagpengeperiode forbruges der ikke yderligere af dagpengeperiode.\n",
      "Eksempel:\n",
      "\n",
      "Et medlem ophører den 1. december 2018 på tro og love efter lovens § 57 b, stk. 2, nr. 2, og får herefter udbetalt dagpenge efter 2 måneders karens, jf. lovens § 63, stk. 2.\n",
      "Medlemmet kan efter de 2 måneders karens få udbetalt dagpenge fra den 1. februar 2019 til og med den 31. maj 2019 (dvs. medlemmet har ret til dagpenge i op til 4 måneder, efter udløb af de 2 måneders karens), hvis pågældende i øvrigt opfylder betingelserne herfor.I perioden fra den 1. februar frem til og med den 31. maj 2019 forbruger medlemmet af sin ydelsesperiode efter § 8, stk. 1.\n",
      "På trods af, at medlemmet er ophørt på tro og love den 1. december 2018, dokumenterer pågældende først, at virksomheden er ophørt den 12. august 2019, jf. lovens § 55, stk. 4, nr. 7.Medlemmet har ikke ret til dagpenge i perioden fra den 1. juni frem til og med den 12. august 2019.Perioden fra den 1. juni til den 12. august 2019 forbruger dog af ydelsesperioden med 160,33 timer pr. måned for fuldtidsforsikrede og 130 timer pr. måned for deltidsforsikrede, jf. § 8, stk. 3.\n",
      "Det vil sige, at der for et fuldtidsforsikret medlem er forbrugt 160,33 timer for juni måned og 160,33 timer for juli måned.For så vidt angår august måned er der forbrugt 8 hverdage.Forbruget bliver derfor opgjort som 7,40 timer ganget med 8 hverdage svarende til 59,20 timer for august måned.Det vil sige, at der i alt er forbrugt 379,86 timer.For et deltidsforsikret medlem er der i ovenstående eksempel forbrugt 130 timer for juni måned og 130 timer for juli måned.For så vidt angår august måned er der forbrugt 8 hverdage.Forbruget bliver derfor opgjort som 6 timer ganget med 8 hverdage svarende til 48 timer for august måned.Det vil sige, at der i alt er forbrugt 308 timer.\n",
      "\n",
      "Til § 9\n",
      "\n",
      "Forlængelse af referenceperioden\n",
      "\n",
      "Til stk. 1\n",
      "Det følger af § 3, at referenceperioden opgøres i hele måneder, og at forlængelsen af referenceperioden tilsvarende sker i hele måneder, jf. § 10.\n",
      "Det antal måneder, referenceperioden kan forlænges med, opgøres ved, at det samlede antal timer opgjort efter § 10 divideres med 160,33 timer, og der rundes op til nærmeste antal hele måneder.\n",
      "Eksempel:\n",
      "Har en person modtaget sygedagpenge i 9 uger på fuld tid, kan referenceperioden forlænges med perioder udover 6 uger inklusiv dagpenge under de første 14 dages sygdom.Der kan derfor forlænges med 3 uger af 37 timer: 160,33 timer = 0,69 måned, som rundes op til 1 måned.\n",
      "Perioder med støtte til pasning af handicappet eller alvorligt sygt barn eller af nærtstående, der ønsker at dø i eget hjem efter lov om social service, indgår med 160,33 timer pr. måned, jf. § 10, stk. 1, nr. 3.\n",
      "Til stk. 2\n",
      "Afgørelse af, om der skal ske forlængelse af referenceperioden, sker løbende eller senest forud for det forventede udløb af en tidligere opgjort referenceperiode.\n",
      "\n",
      "Til § 10\n",
      "\n",
      "Følgende situationer kan forlænge referenceperioden:\n",
      "1)Sammenhængende perioder ud over 6 uger (opgjort som 6 uger x 37 timer = 222 timer), hvor medlemmet modtager sygedagpenge efter lov om sygedagpenge eller dagpenge under de første 14 dages sygdom, jf. § 62, stk. 3,\n",
      "2)perioder, hvor medlemmet modtager dagpenge efter lov om ret til orlov og dagpenge ved barsel, og\n",
      "3)perioder med støtte efter lov om social service til pasning af handicappet barn eller af nærtstående, der ønsker at dø i eget hjem.\n",
      "Muligheden for forlængelse af referenceperioden er et udtryk for, at det ikke skal komme medlemmet til skade, at pågældende ikke har haft mulighed for at gøre brug af dagpengeretten som følge af de situationer, der er omfattet af forlængelsesmulighederne. Tilsvarende betragtninger gør sig gældende i forhold til optjening af beskæftigelseskravet og opgørelse af beregningsperioden ved beregning af en individuel sats, jf. bekendtgørelse om indkomst- og beskæftigelseskravet for ret til dagpenge og bekendtgørelse om beregning om dagpengesatsen.\n",
      "Oplysningerne om forlængelsesmulighederne kan indhentes digitalt og dermed indgå i en automatiseret sagsbehandling i arbejdsløshedskasserne.\n",
      "Forlængelsesgrundene er harmoniseret i forhold til reglerne om forlængelse af optjeningsperioden og opgørelse af beregningsperioden i forbindelse med en individuel satsberegning. Regelsættene om forlængelse er således ens og udtryk for en forenkling af sagsbehandlingen.\n",
      "\n",
      "Til stk. 1, nr. 1\n",
      "Under de første 14 dages sygdom modtager en ledig arbejdsløshedsdagpenge under sygdom. Arbejdsløshedsdagpenge under sygdom og sygedagpenge udover 6 uger kan forlænge referenceperioden.\n",
      "\n",
      "Til stk. 1, nr. 2\n",
      "Perioder, hvor medlemmet modtager barselsdagpenge, forlænger referenceperioden. Hvis et medlem i et ordinært beskæftigelsesforhold i en periode får udbetalt løn under barsel, kan perioden medregnes til opfyldelse af beskæftigelseskravet, jf. §§ 4 og 8, i bekendtgørelse om indkomst- og beskæftigelseskravet for ret til dagpenge.\n",
      "Hvis medlemmet i et ordinært beskæftigelsesforhold i en periode får udbetalt dagpenge under barsel mm. efter lov om ret til orlov og dagpenge ved barsel eller i øvrigt har fravær på grund af barsel eller adoption efter lov om ret til orlov og dagpenge ved barsel, kan perioden ikke medregnes til opfyldelse af beskæftigelseskravet, men perioden kan forlænge den periode, inden for hvilken beskæftigelseskravet skal være opfyldt, jf. bekendtgørelsens § 12, stk. 2.\n",
      "\n",
      "Til stk. 1, nr. 3\n",
      "Perioder med støtte til pasning af handicappet eller alvorligt sygt barn eller af nærtstående, der ønsker at dø i eget hjem efter lov om social service indgår med henholdsvis 37 timer pr. uge (for et fuldtidsforsikret medlem)/ 30 timer pr. uge (for et deltidsforsikret medlem) i de tilfælde, hvor godtgørelsen udbetales ugevis og 160,33 timer (for et fuldtidsforsikret medlem)/ 130 timer (for et deltidsforsikret medlem) i de tilfælde, hvor godtgørelsen udbetales månedsvis, jf. § 10, stk. 1, nr. 3, jf. § 9, stk. 1.\n",
      "\n",
      "Til stk. 2\n",
      "Barsel mv. afholdt i et andet EØS-land, Schweiz, Færøerne eller Storbritannien forlænger referenceperioden. Der kan højest ske forlængelse i samme omfang som efter de danske regler, jf. stk. 1.\n",
      "Bestemmelserne vedrørende støtte til pasning af alvorligt sygt eller handicappet barn eller nærtstående, der ønsker at dø i eget hjem, omfatter udbetalt godtgørelse for tabt arbejdsfortjeneste efter § 42 og § 120 i lov om social service. Eventuel støtte til hjælpemidler mv. er ikke omfattet af bestemmelsen.\n",
      "\n",
      "Til § 11\n",
      "\n",
      "Afkortning af dagpengeperioden ved omfattende brug af dagpengesystemet\n",
      "\n",
      "Dagpengeperioden afkortes ved omfattende brug af dagpengesystemet.\n",
      "Medlemmer, der har haft et sammenlagt forbrug af dagpenge på fire år inden for en otte-årig periode, får reduceret dagpengeretten med én måned. For et medlem, der systematisk er beskæftiget i fire måneder efterfulgt af otte måneders ledighed, vil reduktionen dermed træde i kraft ved hver tredje nyindplacering i dagpengesystemet. Ved reduktionen nulstilles regnskabet, og et medlem kan dermed først få reduktionen igen ved yderligere fire års forbrug af dagpenge inden for en otte-årig periode.\n",
      "I praksis gennemføres det ved, at den aktuelle dagpengeret reduceres med en måned. Hvis den aktuelle dagpengeperiode har mindre end en måned tilbage, vil reduktionen blive udløst ved, at medlemmet ved efterfølgende genoptjening i stedet for to år får en dagpengeperiode på et år og elleve måneder.\n",
      "Disse regler trådte i kraft den 1. juli 2017, og finder også anvendelse på forbrug af arbejdsløshedsdagpenge forud herfor. Der henvises til § 14, stk. 1.\n",
      "Arbejdsløshedskasserne har pligt til at opbevare dokumentationsmateriale, herunder dokumentation for enhver udbetaling i 8 år, jf. § 19 i bekendtgørelse om krav til a-kassernes kontrol og administration.\n",
      "\n",
      "Til stk. 1 og 2\n",
      "Som konsekvens af, at dagpengeperioden forbruges i timer, opgøres de 4 år i timer.\n",
      "Det betyder, at 4 års forbrug af dagpenge svarer til 7.696 timer for fuldtidsforsikrede og 6.240 timer for deltidsforsikrede. Som konsekvens af, at dagpengene ydes fast for 160,33 timer pr. måned for fuldtidsforsikrede og 130 timer pr. måned for deltidsforsikrede, opgøres 4-års kravet som 7.696 timer for fuldtidsforsikrede (160,33 timer x 12 måneder x 4 år) og 6.240 timer for deltidsforsikrede (130 timer x 12 måneder x 4 år).\n",
      "Som konsekvens af, at referenceperioden opgøres i måneder, opgøres den 8-årige periode i måneder svarende til 96 måneder. 8-årsperioden kan ikke forlænges.\n",
      "\n",
      "Til stk. 3\n",
      "Opgørelsen af det samlede dagpengeforbrug skal til enhver tid ske på baggrund af den forsikringskategori, som medlemmet aktuelt har.\n",
      "\n",
      "Til stk. 4\n",
      "De perioder, som forbruger af ydelsesperioden i medfør af § 8, skal medregnes ved opgørelsen af den samlede ydelsesperiode i stk. 1 og 2. Perioder med dagpenge, som har ligget til grund for en afkortning, kan ikke medregnes ved opgørelsen af en ny periode på 4 år inden for de seneste 8 år. Regnskabet nulstilles dermed på det tidspunkt, hvor arbejdsløshedskassen har opgjort dagpengeforbruget til 4 år, og efterfølgende har truffet afgørelse om, at dagpengeperioden reduceres.\n",
      "Når et medlem har modtaget dagpenge i yderligere 4 år inden for de seneste 8 år fra opgørelsestidspunktet, skal arbejdsløshedskassen på ny træffe afgørelse om afkortning af dagpengeperioden.\n",
      "Dette betyder, at arbejdsløshedskassen skal registrere hvert enkelt medlems samlede forbrug af dagpenge inden for de seneste 8 år.\n",
      "\n",
      "Til § 12\n",
      "\n",
      "Til stk. 1\n",
      "Afkortningen på 1 måned sker i timer, således at dagpengeperioden afkortes med 160,33 timer for fuldtidsforsikrede og 130 timer for deltidsforsikrede. Det er en konsekvens af, at dagpengeretten forbruges i timer.\n",
      "Hvis et medlem rammer 4-årsgrænsen i den ordinære dagpengeperiode på 2 år, vil den ordinære dagpengeperiode afkortes med 1 måned, således at medlemmet får ret til dagpenge i 1 år og 11 måneder inden for 3 år.\n",
      "\n",
      "Til stk. 2\n",
      "Hvis et medlem rammer 4-årsgrænsen i den forlængede dagpengeperiode, jf. § 3, stk. 3, afkortes den mulige forlængede dagpengeperiode ved at beskæftigelseskontoen nedskrives med 80,16 løntimer for fuldtidsforsikrede og 65 timer for deltidsforsikrede. Dagpengeperioden kan herefter højst forlænges med 1.763,67 timer for fuldtidsforsikrede eller 1.430 timer for deltidsforsikrede, jf. dog stk. 3.\n",
      "Dette gælder uanset om medlemmet vælger at forlænge dagpengeperioden med hele den mulige periode.\n",
      "\n",
      "Til stk. 3\n",
      "Et medlem, som rammer 4-årsgrænsen med mindre end 160,33 timer tilbage af dagpengeperioden for fuldtidsforsikrede eller 130 timer for deltidsforsikrede, sker reduktionen i den efterfølgende dagpengeperiode. Det betyder, at et fuldtidsforsikret medlem, som har mindre end 160,33 timers dagpengeret (deltidsforsikret 130 timers dagpengeret) tilbage af dagpengeperioden, ikke vil få afkortet den indeværende dagpengeperiode.\n",
      "I stedet vil reduktionen ske i en eventuel efterfølgende dagpengeperiode, hvis medlemmet genoptjener retten til dagpenge. Ved genoptjening af retten til dagpenge, kan medlemmet modtage dagpenge i 1 år og 11 måneder inden for en periode på 3 år, i stedet for 2 år inden for 3 år. Dagpengeperioden for dimittender bliver tilsvarende reduceret fra 12 måneder til 11 måneder.\n",
      "Hvis det efter udløbet af den ordinære dagpengeperiode er muligt at forlænge dagpengeperioden, reduceres den forlængede dagpengeperiode med 1 måned.\n",
      "Hvis den 2-årige dagpengeperiode udløber midt i en måned, og medlemmet har ret til at forlænge dagpengeperiode med fx 4 måneder, er det ikke muligt at afkortningen foretages ved, at den sidste halve måned i den 2-årige dagpengeperiode kombineres med den første halve måned af den forlængede dagpengeperiode. Derimod skal hele afkortningen foretages i den forlængede dagpengeperiode således at denne i eksemplet nedsættes fra 4 til 3 måneder. Tilsvarende gælder for den 1-årige dagpengeperiode for dimittender.\n",
      "Hvis en reduktion ikke er effektueret inden 5 år, bortfalder reduktionen.\n",
      "\n",
      "Til § 13\n",
      "\n",
      "Ikrafttrædelses- og overgangsbestemmelser\n",
      "\n",
      "Til stk. 1\n",
      "Bekendtgørelsen træder i kraft den 1. maj 2023.\n",
      "Den 1-årige dagpengeperiode gælder for medlemmer, der opnår ret til dagpenge på baggrund af en uddannelse efter § 54 i loven og som indplaceres i en dagpengeperiode efter lovens ikrafttræden.\n",
      "Dimittender, der er indplaceret før lovens ikrafttræden, har ret til dagpenge i 2 år inden for 3 år.\n",
      "Bekendtgørelse nr. 1696 af 19. august 2021 om dagpengeperioden ophæves.\n",
      "\n",
      "Til stk. 3\n",
      "Som følge af overgangen fra et ugebaseret dagpengesystem til et månedsbaseret dagpengesystem, skal uforbrugte uger med ret til dagpenge (ydelsesperioden) omregnes til timer til brug for anvendelsen af opgørelsen af forbrug af dagpenge efter den 1. juli 2017, jf. § 55, stk. 4, 1. pkt.\n",
      "Medlemmer, der er indplaceret i en dagpengeperiode forud for den 1. juli 2017, får omregnet den resterende dagpengeperiode til timer. Omregningen sker ved, at uforbrugte uger pr. den 3. juli 2017 ganges med 37 timer pr. uge for fuldtidsforsikrede. For deltidsforsikrede sker omregningen ved at uforbrugte uger pr. den 3. juli 2017 ganges med 30 timer pr. uge. Den periode, inden for hvilken, dagpengeperioden skal være forbrugt (referenceperioden), er ikke omfattet af omregningen, jf. dog stk. 3.\n",
      "For medlemmer, som den 1. juli 2017 er omfattet af § 52 a, stk. 2, 1. pkt., stk. 3 og 4 og § 52 e, 1. pkt., i lov om arbejdsløshedsforsikring m.v. omregnes uforbrugte uger af de angivne perioder ligeledes ved at uforbrugte uger pr. den 3. juli 2017 ganges med 37 timer pr. uge for fuldtidsforsikrede. For deltidsforsikrede sker omregningen ved at uforbrugte uger pr. den 3. juli 2017 ganges med 30 timer pr. uge, jf. § 20, stk. 3, i bekendtgørelse om beregning af dagpengesatsen for lønmodtagere.\n",
      "Et medlems forsikringsstatus den 1. juli 2017 er afgørende for, om dagpengeperioden skal ganges med 37 timer eller 30 timer.\n",
      "\n",
      "Til stk. 4\n",
      "For et medlem, der er indplaceret i en dagpengeperiode forud for den 1. juli 2017, forlænges den tilbageværende referenceperiode til udgangen af den måned, hvor referenceperioden ellers ville være udløbet efter de indtil 1. juli 2017 gældende regler.\n",
      "\n",
      "Til stk. 5\n",
      "Hvis referenceperioden dækker en periode forud for den 2. januar 2017, kan der ske forlængelse med perioder efter de hidtil gældende regler i § 19 i bekendtgørelse nr. 633 af 20. juni 2012 om beskæftigelseskrav for lønmodtagere og dagpengeperiode, som ændret ved § 1, nr. 10 i bekendtgørelse nr. 1300 af 9. november 2016. Det bemærkes, at reglerne om forlængelsesgrundene for referenceperioden trådte i kraft den 2. januar 2017, jf. § 14, stk. 1, i lov nr. 624 af 8. juni 2016.\n",
      "\n",
      "Til § 14\n",
      "\n",
      "Til stk. 1\n",
      "Det følger af lovens § 56 b, at der skal ske afkortning af dagpengeperioden ved omfattende brug af dagpengesystemet. Denne regel træder i kraft den 1. juli 2017, jf. § 14, stk. 2, i lov nr. 624 af 8. juni 2016. Det betyder, at der ved udbetalingen af dagpengene for juli måned 2017 skal foretages en opgørelse af dagpengeforbruget med henblik på eventuelt reduktion af dagpengeperioden, jf. § 11 og 12 i bekendtgørelsen og § 16, stk. 7 i lov nr. 624 af 8. juni 2016.\n",
      "I opgørelsen indgår ikke perioder med ret til midlertidig arbejdsmarkedsydelse, da bestemmelsen alene relaterer sig til dagpengeforbrug, jf. henvisningen til lovens § 55, stk. 1 og 2.\n",
      "\n",
      "Opgørelse af perioder før 1. juli 2017\n",
      "Ved opgørelsen af perioder, som ligger forud for den 1. juli 2017, lægges indberettede oplysninger om udbetaling af dagpenge m.v. fra arbejdsløshedskassen i henhold til lov om et indkomstregister og oplysninger om ansættelse med løntilskud i det fælles it-baserede datagrundlag (DFDG) til grund for opgørelsen af de 4 år inden for 8 år. Opgørelsen baseres på oplysninger i indkomstregisteret, som på opgørelsestidspunktet rent faktisk er indberettet til registeret. Hvis der efterfølgende udbetales dagpenge (efterbetaling) for en periode, som ligger forud for opgørelsen, vil indberetningen til indkomstregisteret ske på udbetalingstidspunktet. Det betyder, at de efterbetalte dagpenge ikke skal indgå i opgørelsen på grundlag af oplysninger fra indkomstregisteret. I denne situation indgår efterbetalte dagpenge således ikke i opgørelsen af dagpengeforbruget for vurderingen af, om der skal ske en afkortning af dagpengeperioden.\n",
      "Ved beregning af timetallet på baggrund af oplysningerne i indkomstregisteret skal det indberettede dagpengebeløb deles med højeste dagpenge for en time i det pågældende år. Ved at dele med højeste dagpenge sikres, at ingen bliver stillet dårligere end det faktiske forbrug. Der vil være personer, som ud fra beregningen i indkomstregisteret, vil få beregnet et lavere dagpengeforbrug end det faktiske forbrug, f.eks. personer, som har skiftet forsikringsstatus fra deltidsforsikring til fuldtidsforsikring, eller som har været ansat med løntilskud.\n",
      "Endvidere skal arbejdsløshedskassen lægger oplysninger i det fælles it-baserede datagrundlag (DFDG) om perioder med ansættelse med løntilskud efter kapitel 12 i lov om en aktiv beskæftigelsesindsats til grund for opgørelsen af dagpengeforbruget for den periode, der ligger forud for den 1. juli 2017. Opgørelsen af dagpengeforbruget på baggrund af oplysninger om ansættelse med løntilskud i det fælles it-baserede datagrundlag sker ved, at antallet uger ganges med 37 timer for fuldtidsforsikrede og 30 timer for deltidsforsikrede. Dette gælder dog ikke, hvis medlemmet er sygt eller på barsel, og der udbetales fuld løn under sygdommen eller barselsorloven.\n",
      "Der vil være forhold, som ikke vil indgå i opgørelsen af dagpengeforbruget forud for den 1. juli 2017, herunder EØS-dagpenge, som er udbetalt forud for 1. maj 2010, udbetalte sygedagpenge under de første 6 ugers sygdom og perioder med effektive karantæner, hvor et medlem er udelukket fra dagpenge. Desuden indgår perioder med midlertidig arbejdsmarkedsydelse ikke i opgørelsen.\n",
      "\n",
      "Opgørelse i indeværende dagpengeperiode\n",
      "Opgørelse af medlemmets forbrug af ydelsesperioden for den dagpengeperiode, som medlemmet er indplaceret i den 1. juli 2017, sker dog på baggrund af det faktiske forbrug af ydelsesperioden efter § 8. Det betyder, at arbejdsløshedskassen skal lægge de faktiske udbetalte dagpengetimer til grund for opgørelsen af reduktionen. Dagpengeforbruget i den indeværende dagpengeperiode sker således på baggrund af arbejdsløshedskassernes oplysninger om medlemmets faktiske forbrug af dagpengetimer. Dette gælder uanset at medlemmets dagpengeforbrug forud for lovens ikrafttræden i øvrigt er opgjort som berørte uger.\n",
      "\n",
      "Fremtidig opgørelse af perioder\n",
      "Opgørelsen af dagpengeforbruget efter lovens ikrafttræden d. 1. juli 2017, sker på baggrund af arbejdsløshedskassernes oplysninger om medlemmets forbrug af dagpengeperioden efter lovens § 55, stk. 5.\n",
      "\n",
      "Til stk. 2\n",
      "Opgørelsen af den samlede ydelsesperiode pr. 1. juli 2017 sker på baggrund af medlemmets forsikringsstatus den 1. juli 2017.\n",
      "\n",
      "Til § 15\n",
      "\n",
      "Den 1-årige dagpengeperiode gælder for medlemmer, der opnår ret til dagpenge på baggrund af en uddannelse efter lovens § 54 og som indplaceres i en dagpengeperiode efter lovens ikrafttræden.\n",
      "Dimittender, der er indplaceret før lovens ikrafttræden, har ret til dagpenge i 2 år inden for 3 år.\n",
      "\n",
      "\n",
      "Styrelsen for Arbejdsmarked og Rekruttering, den 31. januar 2023\n",
      "Kirsten Brix Pedersen\n",
      "/ Helle Qvortrup\n"
     ]
    }
   ],
   "source": [
    "print(text)"
   ]
  },
  {
   "cell_type": "code",
   "execution_count": null,
   "metadata": {},
   "outputs": [],
   "source": []
  }
 ],
 "metadata": {
  "kernelspec": {
   "display_name": "llm",
   "language": "python",
   "name": "python3"
  },
  "language_info": {
   "codemirror_mode": {
    "name": "ipython",
    "version": 3
   },
   "file_extension": ".py",
   "mimetype": "text/x-python",
   "name": "python",
   "nbconvert_exporter": "python",
   "pygments_lexer": "ipython3",
   "version": "3.11.4"
  }
 },
 "nbformat": 4,
 "nbformat_minor": 2
}
