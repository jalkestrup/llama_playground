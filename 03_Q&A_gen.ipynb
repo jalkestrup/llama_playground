{
 "cells": [
  {
   "cell_type": "markdown",
   "metadata": {},
   "source": []
  },
  {
   "cell_type": "code",
   "execution_count": 1,
   "metadata": {},
   "outputs": [],
   "source": [
    "import os\n",
    "from dotenv import load_dotenv\n",
    "\n",
    "load_dotenv(override=True)\n",
    "\n",
    "OPENAI_API_KEY = os.environ.get(\"OPENAI_API_KEY\")\n",
    "COHERE_API_KEY = os.environ.get(\"COHERE_API_KEY\")"
   ]
  },
  {
   "cell_type": "markdown",
   "metadata": {},
   "source": [
    "## Load the csv into a DF"
   ]
  },
  {
   "cell_type": "code",
   "execution_count": 2,
   "metadata": {},
   "outputs": [
    {
     "data": {
      "text/html": [
       "<div>\n",
       "<style scoped>\n",
       "    .dataframe tbody tr th:only-of-type {\n",
       "        vertical-align: middle;\n",
       "    }\n",
       "\n",
       "    .dataframe tbody tr th {\n",
       "        vertical-align: top;\n",
       "    }\n",
       "\n",
       "    .dataframe thead th {\n",
       "        text-align: right;\n",
       "    }\n",
       "</style>\n",
       "<table border=\"1\" class=\"dataframe\">\n",
       "  <thead>\n",
       "    <tr style=\"text-align: right;\">\n",
       "      <th></th>\n",
       "      <th>Document Title</th>\n",
       "      <th>Document Content</th>\n",
       "    </tr>\n",
       "  </thead>\n",
       "  <tbody>\n",
       "    <tr>\n",
       "      <th>0</th>\n",
       "      <td>Vejledning om beskæftigelseskravet for ret til...</td>\n",
       "      <td>&lt;div class=\"document-content\" id=\"restylingRoo...</td>\n",
       "    </tr>\n",
       "    <tr>\n",
       "      <th>1</th>\n",
       "      <td>Vejledning om lungesygdomme</td>\n",
       "      <td>&lt;div class=\"document-content\" id=\"restylingRoo...</td>\n",
       "    </tr>\n",
       "    <tr>\n",
       "      <th>2</th>\n",
       "      <td>At-vejledning 13.0.1-1 om undervisningspligtig...</td>\n",
       "      <td>&lt;div class=\"document-content\" id=\"restylingRoo...</td>\n",
       "    </tr>\n",
       "    <tr>\n",
       "      <th>3</th>\n",
       "      <td>Vejledning om behandlingsudgifter</td>\n",
       "      <td>&lt;div class=\"document-content\" id=\"restylingRoo...</td>\n",
       "    </tr>\n",
       "    <tr>\n",
       "      <th>4</th>\n",
       "      <td>Arbejde med nanomaterialer</td>\n",
       "      <td>&lt;div class=\"document-content\" id=\"restylingRoo...</td>\n",
       "    </tr>\n",
       "  </tbody>\n",
       "</table>\n",
       "</div>"
      ],
      "text/plain": [
       "                                      Document Title  \\\n",
       "0  Vejledning om beskæftigelseskravet for ret til...   \n",
       "1                        Vejledning om lungesygdomme   \n",
       "2  At-vejledning 13.0.1-1 om undervisningspligtig...   \n",
       "3                  Vejledning om behandlingsudgifter   \n",
       "4                         Arbejde med nanomaterialer   \n",
       "\n",
       "                                    Document Content  \n",
       "0  <div class=\"document-content\" id=\"restylingRoo...  \n",
       "1  <div class=\"document-content\" id=\"restylingRoo...  \n",
       "2  <div class=\"document-content\" id=\"restylingRoo...  \n",
       "3  <div class=\"document-content\" id=\"restylingRoo...  \n",
       "4  <div class=\"document-content\" id=\"restylingRoo...  "
      ]
     },
     "execution_count": 2,
     "metadata": {},
     "output_type": "execute_result"
    }
   ],
   "source": [
    "import pandas as pd\n",
    "\n",
    "csv_html = 'data/vejledninger_html_2-11-2023.csv'\n",
    "\n",
    "df_html = pd.read_csv(csv_html, names=['Document Title', 'Document Content'], header=0)\n",
    "df_html.head()"
   ]
  },
  {
   "cell_type": "code",
   "execution_count": 3,
   "metadata": {},
   "outputs": [
    {
     "data": {
      "text/html": [
       "<div>\n",
       "<style scoped>\n",
       "    .dataframe tbody tr th:only-of-type {\n",
       "        vertical-align: middle;\n",
       "    }\n",
       "\n",
       "    .dataframe tbody tr th {\n",
       "        vertical-align: top;\n",
       "    }\n",
       "\n",
       "    .dataframe thead th {\n",
       "        text-align: right;\n",
       "    }\n",
       "</style>\n",
       "<table border=\"1\" class=\"dataframe\">\n",
       "  <thead>\n",
       "    <tr style=\"text-align: right;\">\n",
       "      <th></th>\n",
       "      <th>Document Title</th>\n",
       "      <th>Document Content</th>\n",
       "    </tr>\n",
       "  </thead>\n",
       "  <tbody>\n",
       "    <tr>\n",
       "      <th>0</th>\n",
       "      <td>Vejledning om beskæftigelseskravet for ret til...</td>\n",
       "      <td>Vejledning om beskæftigelseskravet for ret til...</td>\n",
       "    </tr>\n",
       "    <tr>\n",
       "      <th>1</th>\n",
       "      <td>Vejledning om lungesygdomme</td>\n",
       "      <td>Vejledning om lungesygdomme\\nKapitel 7 i Vejle...</td>\n",
       "    </tr>\n",
       "    <tr>\n",
       "      <th>2</th>\n",
       "      <td>At-vejledning 13.0.1-1 om undervisningspligtig...</td>\n",
       "      <td>At-vejledning 13.0.1-1 om undervisningspligtig...</td>\n",
       "    </tr>\n",
       "    <tr>\n",
       "      <th>3</th>\n",
       "      <td>Vejledning om behandlingsudgifter</td>\n",
       "      <td>Vejledning om behandlingsudgifter\\nIndledning\\...</td>\n",
       "    </tr>\n",
       "    <tr>\n",
       "      <th>4</th>\n",
       "      <td>Arbejde med nanomaterialer</td>\n",
       "      <td>Arbejde med nanomaterialer\\nDe vigtigste regle...</td>\n",
       "    </tr>\n",
       "  </tbody>\n",
       "</table>\n",
       "</div>"
      ],
      "text/plain": [
       "                                      Document Title  \\\n",
       "0  Vejledning om beskæftigelseskravet for ret til...   \n",
       "1                        Vejledning om lungesygdomme   \n",
       "2  At-vejledning 13.0.1-1 om undervisningspligtig...   \n",
       "3                  Vejledning om behandlingsudgifter   \n",
       "4                         Arbejde med nanomaterialer   \n",
       "\n",
       "                                    Document Content  \n",
       "0  Vejledning om beskæftigelseskravet for ret til...  \n",
       "1  Vejledning om lungesygdomme\\nKapitel 7 i Vejle...  \n",
       "2  At-vejledning 13.0.1-1 om undervisningspligtig...  \n",
       "3  Vejledning om behandlingsudgifter\\nIndledning\\...  \n",
       "4  Arbejde med nanomaterialer\\nDe vigtigste regle...  "
      ]
     },
     "execution_count": 3,
     "metadata": {},
     "output_type": "execute_result"
    }
   ],
   "source": [
    "csv_tekst = 'data/vejledninger_tekst_2-11-2023.csv'\n",
    "\n",
    "df_tekst = pd.read_csv(csv_tekst, names=['Document Title', 'Document Content'], header=0)\n",
    "#Drop first row as it simply contains the strings \"Key\" and \"value\"\n",
    "df_tekst.head()"
   ]
  },
  {
   "cell_type": "markdown",
   "metadata": {},
   "source": [
    "## Load CSV into LlamaIndex document"
   ]
  },
  {
   "cell_type": "markdown",
   "metadata": {},
   "source": [
    "**First loading from DF into a dict**"
   ]
  },
  {
   "cell_type": "code",
   "execution_count": 4,
   "metadata": {},
   "outputs": [],
   "source": [
    "document_dict = df_tekst.set_index('Document Title')['Document Content'].to_dict()"
   ]
  },
  {
   "cell_type": "markdown",
   "metadata": {},
   "source": [
    "**Then transforming the dict into a LlamaIndex document**\n",
    "\n",
    "Containing the text, and the document title as meta-data"
   ]
  },
  {
   "cell_type": "code",
   "execution_count": 6,
   "metadata": {},
   "outputs": [
    {
     "name": "stderr",
     "output_type": "stream",
     "text": [
      "/home/jealk/mambaforge/envs/llm/lib/python3.11/site-packages/deeplake/util/check_latest_version.py:32: UserWarning: A newer version of deeplake (3.8.4) is available. It's recommended that you update to the latest version using `pip install -U deeplake`.\n",
      "  warnings.warn(\n"
     ]
    }
   ],
   "source": [
    "from llama_index import Document\n",
    "documents = [Document(text=content, metadata={\"file_name\": name}) for name, content in document_dict.items()]"
   ]
  },
  {
   "cell_type": "code",
   "execution_count": 7,
   "metadata": {},
   "outputs": [
    {
     "name": "stdout",
     "output_type": "stream",
     "text": [
      "Number of documents: 329\n"
     ]
    }
   ],
   "source": [
    "print(f'Number of documents: {len(documents)}')"
   ]
  },
  {
   "cell_type": "markdown",
   "metadata": {},
   "source": [
    "## Chuck documents into 'nodes'"
   ]
  },
  {
   "cell_type": "code",
   "execution_count": 9,
   "metadata": {},
   "outputs": [
    {
     "data": {
      "application/vnd.jupyter.widget-view+json": {
       "model_id": "0660f5569b574a309d1931c00836082c",
       "version_major": 2,
       "version_minor": 0
      },
      "text/plain": [
       "Parsing documents into nodes:   0%|          | 0/329 [00:00<?, ?it/s]"
      ]
     },
     "metadata": {},
     "output_type": "display_data"
    }
   ],
   "source": [
    "from llama_index.node_parser import SimpleNodeParser\n",
    "\n",
    "node_parser = SimpleNodeParser.from_defaults(chunk_size=512, chunk_overlap=20)\n",
    "nodes = node_parser.get_nodes_from_documents(documents, show_progress=True)"
   ]
  },
  {
   "cell_type": "code",
   "execution_count": 10,
   "metadata": {},
   "outputs": [
    {
     "name": "stdout",
     "output_type": "stream",
     "text": [
      "Number of chunks (nodes): 14237\n"
     ]
    }
   ],
   "source": [
    "#33.418 at chuck size 256\n",
    "#14.237 at chuck size 512\n",
    "print(f'Number of chunks (nodes): {len(nodes)}')"
   ]
  },
  {
   "cell_type": "code",
   "execution_count": 11,
   "metadata": {},
   "outputs": [
    {
     "name": "stdout",
     "output_type": "stream",
     "text": [
      "Der vil normalt ikke være tvivl om, hvorvidt der er tale om et lønmodtagerforhold. For nærmere gennemgang af praksis vedrørende afgrænsningen mellem lønmodtagere og selvstændige henvises til vejledning om sygedagpengeforsikringerne i sygedagpengelovens §§ 45 og 55.\n",
      "\n",
      "2.1.2.Opgørelse af 160 timer i de seneste 4 afsluttede kalendermåneder\n",
      "De seneste 4 afsluttede kalendermåneder regnes fra fraværets begyndelse. Det betyder, at en lønmodtager, der påbegynder en fraværsperiode f.eks. den 18. april 2022, skal have opgjort beskæftigelseskravet for ret til barselsdagpenge fra Udbetaling Danmark ud fra kalendermånederne december 2021 og januar, februar og marts 2022. I disse 4 kalendermåneder skal der være mindst 160 indberettede timer i indkomstregistret, og de skal være fordelt således, at der i 3 af kalendermånederne er mindst 40 timer i hver måned.\n",
      "\n",
      "Det følger af lovens § 27, stk. 2, at der ved opgørelse af de 160 timer kan medregnes timer, hvor lønmodtageren har haft lønarbejde, har drevet selvstændig virksomhed i væsentligt omfang forud for overgang til lønmodtagerarbejde, jf. bekendtgørelsens § 3, stk.\n"
     ]
    }
   ],
   "source": [
    "print(nodes[5].text)"
   ]
  },
  {
   "cell_type": "markdown",
   "metadata": {},
   "source": [
    "# Generate synthetic Questions"
   ]
  },
  {
   "cell_type": "code",
   "execution_count": 17,
   "metadata": {},
   "outputs": [],
   "source": [
    "from llama_index.finetuning import generate_qa_embedding_pairs"
   ]
  },
  {
   "cell_type": "code",
   "execution_count": null,
   "metadata": {},
   "outputs": [],
   "source": [
    "from llama_index.prompts import PromptTemplate\n",
    "\n",
    "\n",
    "# Define your custom prompt template in Danish\n",
    "qa_sagsbehandler_tmlp = (\n",
    "\"\"\" Nedenfor er et uddrag (kontekst) fra en længere tekst:\n",
    "---------------------\n",
    "{context_str}\n",
    "---------------------\n",
    "Givet ovenstående uddrag (kontekst) og ingen forudgående viden, er din opgave at generere spørgsmål til teksten.\n",
    "Du er en erfaren sagsbehandler, og din opgave er at stille præcis {num_questions_per_chunk} spørgsmål til teksten.\n",
    "Spørgsmålene skal være af forskellig karakter og dække teksten bredt, men stilles i et sprog som en borger uden juridisk ekspertise kan forstå.\n",
    "Svaret til spørgsmålet, skal kunne findes i ovenstående uddrag (kontekst).\n",
    "\"\"\"\n",
    ")\n",
    "\n",
    "qa_sagsbehandler_tmlp = PromptTemplate(qa_sagsbehandler_tmlp)\n",
    "\n",
    "train_dataset = generate_qa_embedding_pairs(qa_generate_prompt_tmpl=qa_sagsbehandler_tmlp, nodes=nodes[0:300], num_questions_per_chunk=2)\n",
    "test_dataset = generate_qa_embedding_pairs(qa_generate_prompt_tmpl=qa_sagsbehandler_tmlp, nodes=nodes[300:400], num_questions_per_chunk=2)\n"
   ]
  },
  {
   "cell_type": "markdown",
   "metadata": {},
   "source": [
    "**Save dataset**"
   ]
  },
  {
   "cell_type": "code",
   "execution_count": 76,
   "metadata": {},
   "outputs": [],
   "source": [
    "train_dataset.save_json(\"train_dataset.json\")\n",
    "test_dataset.save_json(\"val_dataset.json\")"
   ]
  },
  {
   "cell_type": "code",
   "execution_count": null,
   "metadata": {},
   "outputs": [],
   "source": []
  },
  {
   "cell_type": "code",
   "execution_count": 19,
   "metadata": {},
   "outputs": [],
   "source": [
    "from llama_index.finetuning import EmbeddingQAFinetuneDataset\n",
    "# Load the datasets from the avove json files\n",
    "train_dataset = EmbeddingQAFinetuneDataset.from_json(\"train_dataset.json\")\n",
    "test_dataset = EmbeddingQAFinetuneDataset.from_json(\"val_dataset.json\")"
   ]
  },
  {
   "cell_type": "markdown",
   "metadata": {},
   "source": [
    "## Evaluate performance (using Llamainde)\n"
   ]
  },
  {
   "cell_type": "code",
   "execution_count": null,
   "metadata": {},
   "outputs": [],
   "source": [
    "from llama_index.evaluation import RetrieverEvaluator\n",
    "from llama_index import VectorStoreIndex, SimpleDirectoryReader, ServiceContext\n",
    "\n",
    "vector_index = VectorStoreIndex(nodes, service_context=service_context)\n",
    "retriever = vector_index.as_retriever(similarity_top_k=2)\n",
    "\n",
    "retriever_evaluator = RetrieverEvaluator.from_metric_names(\n",
    "    [\"mrr\", \"hit_rate\"], retriever=retriever\n",
    ")"
   ]
  },
  {
   "cell_type": "markdown",
   "metadata": {},
   "source": [
    "## Evaluate performance\n"
   ]
  },
  {
   "cell_type": "code",
   "execution_count": 20,
   "metadata": {},
   "outputs": [],
   "source": [
    "def evaluate(dataset, embed_model, top_k=5, verbose=False,\n",
    "):\n",
    "    corpus = dataset.corpus\n",
    "    queries = dataset.queries\n",
    "    relevant_docs = dataset.relevant_docs\n",
    "\n",
    "    service_context = ServiceContext.from_defaults(embed_model=embed_model)\n",
    "    nodes = [TextNode(id_=id_, text=text) for id_, text in corpus.items()]\n",
    "    index = VectorStoreIndex(\n",
    "        nodes, service_context=service_context, show_progress=True\n",
    "    )\n",
    "    retriever = index.as_retriever(similarity_top_k=top_k)\n",
    "\n",
    "    eval_results = []\n",
    "    for query_id, query in tqdm(queries.items()):\n",
    "        retrieved_nodes = retriever.retrieve(query)\n",
    "        retrieved_ids = [node.node.node_id for node in retrieved_nodes]\n",
    "        expected_id = relevant_docs[query_id][0]\n",
    "        is_hit = expected_id in retrieved_ids  # assume 1 relevant doc\n",
    "\n",
    "        eval_result = {\n",
    "            \"is_hit\": is_hit,\n",
    "            \"retrieved\": retrieved_ids,\n",
    "            \"expected\": expected_id,\n",
    "            \"query\": query_id,\n",
    "        }\n",
    "        eval_results.append(eval_result)\n",
    "    return eval_results"
   ]
  },
  {
   "cell_type": "code",
   "execution_count": 21,
   "metadata": {},
   "outputs": [],
   "source": [
    "from llama_index.embeddings import OpenAIEmbedding\n",
    "from llama_index import ServiceContext, VectorStoreIndex\n",
    "from llama_index.schema import TextNode\n",
    "from tqdm.notebook import tqdm\n",
    "import pandas as pd"
   ]
  },
  {
   "cell_type": "code",
   "execution_count": 22,
   "metadata": {},
   "outputs": [],
   "source": [
    "from llama_index.embeddings.huggingface import HuggingFaceEmbedding\n",
    "\n",
    "embed_model_hf = HuggingFaceEmbedding(\n",
    "    model_name='intfloat/multilingual-e5-small',\n",
    "    normalize=True,\n",
    "    #Instruction to prepend query\n",
    "    query_instruction='query:',\n",
    "    #Instruction to prepend text\n",
    "    text_instruction='passage:'\n",
    ")"
   ]
  },
  {
   "cell_type": "code",
   "execution_count": 23,
   "metadata": {},
   "outputs": [
    {
     "data": {
      "application/vnd.jupyter.widget-view+json": {
       "model_id": "755efe0130044f04aa069d512bf1d95d",
       "version_major": 2,
       "version_minor": 0
      },
      "text/plain": [
       "Generating embeddings:   0%|          | 0/100 [00:00<?, ?it/s]"
      ]
     },
     "metadata": {},
     "output_type": "display_data"
    },
    {
     "data": {
      "application/vnd.jupyter.widget-view+json": {
       "model_id": "fff724b91d964e54a6f452d854b96585",
       "version_major": 2,
       "version_minor": 0
      },
      "text/plain": [
       "  0%|          | 0/200 [00:00<?, ?it/s]"
      ]
     },
     "metadata": {},
     "output_type": "display_data"
    }
   ],
   "source": [
    "e5_small_eval = evaluate(test_dataset, embed_model=embed_model_hf, top_k=1, verbose=True)"
   ]
  },
  {
   "cell_type": "code",
   "execution_count": 24,
   "metadata": {},
   "outputs": [
    {
     "data": {
      "text/html": [
       "<div>\n",
       "<style scoped>\n",
       "    .dataframe tbody tr th:only-of-type {\n",
       "        vertical-align: middle;\n",
       "    }\n",
       "\n",
       "    .dataframe tbody tr th {\n",
       "        vertical-align: top;\n",
       "    }\n",
       "\n",
       "    .dataframe thead th {\n",
       "        text-align: right;\n",
       "    }\n",
       "</style>\n",
       "<table border=\"1\" class=\"dataframe\">\n",
       "  <thead>\n",
       "    <tr style=\"text-align: right;\">\n",
       "      <th></th>\n",
       "      <th>is_hit</th>\n",
       "      <th>retrieved</th>\n",
       "      <th>expected</th>\n",
       "      <th>query</th>\n",
       "    </tr>\n",
       "  </thead>\n",
       "  <tbody>\n",
       "    <tr>\n",
       "      <th>0</th>\n",
       "      <td>True</td>\n",
       "      <td>[03c49ab1-609f-4fe8-bdd3-62ab0c4182fc]</td>\n",
       "      <td>03c49ab1-609f-4fe8-bdd3-62ab0c4182fc</td>\n",
       "      <td>d61ae5cf-c632-4bee-9b55-489bfc4d5c1d</td>\n",
       "    </tr>\n",
       "    <tr>\n",
       "      <th>1</th>\n",
       "      <td>True</td>\n",
       "      <td>[03c49ab1-609f-4fe8-bdd3-62ab0c4182fc]</td>\n",
       "      <td>03c49ab1-609f-4fe8-bdd3-62ab0c4182fc</td>\n",
       "      <td>3d726de4-9a35-4f9c-a537-47333a94d967</td>\n",
       "    </tr>\n",
       "    <tr>\n",
       "      <th>2</th>\n",
       "      <td>True</td>\n",
       "      <td>[4d905db2-bfed-4f81-a700-61fb69a35241]</td>\n",
       "      <td>4d905db2-bfed-4f81-a700-61fb69a35241</td>\n",
       "      <td>5c9730a0-60ef-42ad-aa05-a29b9aeb1c8a</td>\n",
       "    </tr>\n",
       "    <tr>\n",
       "      <th>3</th>\n",
       "      <td>True</td>\n",
       "      <td>[4d905db2-bfed-4f81-a700-61fb69a35241]</td>\n",
       "      <td>4d905db2-bfed-4f81-a700-61fb69a35241</td>\n",
       "      <td>fb4e4d5f-09a2-4096-a771-898ff88c019a</td>\n",
       "    </tr>\n",
       "    <tr>\n",
       "      <th>4</th>\n",
       "      <td>True</td>\n",
       "      <td>[5d1f1c84-b843-49d6-81c4-93b25d75cf47]</td>\n",
       "      <td>5d1f1c84-b843-49d6-81c4-93b25d75cf47</td>\n",
       "      <td>28e572c3-8e24-4f40-85a8-c47bdc9b7d94</td>\n",
       "    </tr>\n",
       "  </tbody>\n",
       "</table>\n",
       "</div>"
      ],
      "text/plain": [
       "   is_hit                               retrieved  \\\n",
       "0    True  [03c49ab1-609f-4fe8-bdd3-62ab0c4182fc]   \n",
       "1    True  [03c49ab1-609f-4fe8-bdd3-62ab0c4182fc]   \n",
       "2    True  [4d905db2-bfed-4f81-a700-61fb69a35241]   \n",
       "3    True  [4d905db2-bfed-4f81-a700-61fb69a35241]   \n",
       "4    True  [5d1f1c84-b843-49d6-81c4-93b25d75cf47]   \n",
       "\n",
       "                               expected                                 query  \n",
       "0  03c49ab1-609f-4fe8-bdd3-62ab0c4182fc  d61ae5cf-c632-4bee-9b55-489bfc4d5c1d  \n",
       "1  03c49ab1-609f-4fe8-bdd3-62ab0c4182fc  3d726de4-9a35-4f9c-a537-47333a94d967  \n",
       "2  4d905db2-bfed-4f81-a700-61fb69a35241  5c9730a0-60ef-42ad-aa05-a29b9aeb1c8a  \n",
       "3  4d905db2-bfed-4f81-a700-61fb69a35241  fb4e4d5f-09a2-4096-a771-898ff88c019a  \n",
       "4  5d1f1c84-b843-49d6-81c4-93b25d75cf47  28e572c3-8e24-4f40-85a8-c47bdc9b7d94  "
      ]
     },
     "execution_count": 24,
     "metadata": {},
     "output_type": "execute_result"
    }
   ],
   "source": [
    "e5_small_eval_df = pd.DataFrame(e5_small_eval)\n",
    "e5_small_eval_df.head()"
   ]
  },
  {
   "cell_type": "code",
   "execution_count": 25,
   "metadata": {},
   "outputs": [
    {
     "data": {
      "text/plain": [
       "0.58"
      ]
     },
     "execution_count": 25,
     "metadata": {},
     "output_type": "execute_result"
    }
   ],
   "source": [
    "#Count how many is_hit true and divide by total number of queries\n",
    "\n",
    "e5_small_eval_df.is_hit.sum() / len(e5_small_eval_df)"
   ]
  },
  {
   "cell_type": "code",
   "execution_count": 133,
   "metadata": {},
   "outputs": [
    {
     "data": {
      "text/html": [
       "<div>\n",
       "<style scoped>\n",
       "    .dataframe tbody tr th:only-of-type {\n",
       "        vertical-align: middle;\n",
       "    }\n",
       "\n",
       "    .dataframe tbody tr th {\n",
       "        vertical-align: top;\n",
       "    }\n",
       "\n",
       "    .dataframe thead th {\n",
       "        text-align: right;\n",
       "    }\n",
       "</style>\n",
       "<table border=\"1\" class=\"dataframe\">\n",
       "  <thead>\n",
       "    <tr style=\"text-align: right;\">\n",
       "      <th></th>\n",
       "      <th>is_hit</th>\n",
       "      <th>retrieved</th>\n",
       "      <th>expected</th>\n",
       "      <th>query</th>\n",
       "    </tr>\n",
       "  </thead>\n",
       "  <tbody>\n",
       "    <tr>\n",
       "      <th>11</th>\n",
       "      <td>False</td>\n",
       "      <td>[c9112a99-5aca-43fd-9350-e8f2a6c85023]</td>\n",
       "      <td>94b9fa70-2da2-4f2b-b41b-dcf1ad9353d8</td>\n",
       "      <td>a1dc3a85-1602-4403-b90f-87f59086f96d</td>\n",
       "    </tr>\n",
       "    <tr>\n",
       "      <th>12</th>\n",
       "      <td>False</td>\n",
       "      <td>[c9112a99-5aca-43fd-9350-e8f2a6c85023]</td>\n",
       "      <td>89a74290-f47d-4623-860c-6f1164681ae8</td>\n",
       "      <td>785f7312-b806-45d1-b896-5b08b35366fd</td>\n",
       "    </tr>\n",
       "    <tr>\n",
       "      <th>13</th>\n",
       "      <td>False</td>\n",
       "      <td>[560545c6-62ff-420c-a09a-ae75e179d831]</td>\n",
       "      <td>89a74290-f47d-4623-860c-6f1164681ae8</td>\n",
       "      <td>5a5e052d-92d2-4fd2-9196-9fbf1dd6f00e</td>\n",
       "    </tr>\n",
       "    <tr>\n",
       "      <th>21</th>\n",
       "      <td>False</td>\n",
       "      <td>[a009ed0a-f566-4838-95bf-37416447924e]</td>\n",
       "      <td>a7fd88ad-2e38-43de-a96e-81bf6542cb26</td>\n",
       "      <td>e20d599c-aa42-49ed-be26-c1684cf8c0b3</td>\n",
       "    </tr>\n",
       "    <tr>\n",
       "      <th>22</th>\n",
       "      <td>False</td>\n",
       "      <td>[89a74290-f47d-4623-860c-6f1164681ae8]</td>\n",
       "      <td>2b02f79f-3328-416f-ba5a-31c2561f530c</td>\n",
       "      <td>e60be730-2a61-4393-bb1f-22db589dd900</td>\n",
       "    </tr>\n",
       "    <tr>\n",
       "      <th>...</th>\n",
       "      <td>...</td>\n",
       "      <td>...</td>\n",
       "      <td>...</td>\n",
       "      <td>...</td>\n",
       "    </tr>\n",
       "    <tr>\n",
       "      <th>190</th>\n",
       "      <td>False</td>\n",
       "      <td>[f5ee60a2-0bc2-48e1-915d-f9e0aed2c927]</td>\n",
       "      <td>01a24e38-3494-4553-9ca8-1d7bd37d7b8e</td>\n",
       "      <td>5e9d792f-0c9b-47f8-80b1-82aa317259cf</td>\n",
       "    </tr>\n",
       "    <tr>\n",
       "      <th>191</th>\n",
       "      <td>False</td>\n",
       "      <td>[f5ee60a2-0bc2-48e1-915d-f9e0aed2c927]</td>\n",
       "      <td>01a24e38-3494-4553-9ca8-1d7bd37d7b8e</td>\n",
       "      <td>4afcca0c-0d08-4e32-88da-2250d678212a</td>\n",
       "    </tr>\n",
       "    <tr>\n",
       "      <th>196</th>\n",
       "      <td>False</td>\n",
       "      <td>[7c75d96b-8b60-4e64-81f3-ae6e3afc9e44]</td>\n",
       "      <td>ee84b63b-e6fe-4132-8462-869aea4a97af</td>\n",
       "      <td>9595133a-e10d-49d5-879e-60d5d399c028</td>\n",
       "    </tr>\n",
       "    <tr>\n",
       "      <th>197</th>\n",
       "      <td>False</td>\n",
       "      <td>[7c75d96b-8b60-4e64-81f3-ae6e3afc9e44]</td>\n",
       "      <td>ee84b63b-e6fe-4132-8462-869aea4a97af</td>\n",
       "      <td>4e4acfeb-b576-45ef-ba34-2513cf43a15f</td>\n",
       "    </tr>\n",
       "    <tr>\n",
       "      <th>199</th>\n",
       "      <td>False</td>\n",
       "      <td>[7c75d96b-8b60-4e64-81f3-ae6e3afc9e44]</td>\n",
       "      <td>4cf3c4e8-d5e6-4157-8a67-85e59c50de48</td>\n",
       "      <td>57d40521-9192-4797-a4c1-00e8a5010b00</td>\n",
       "    </tr>\n",
       "  </tbody>\n",
       "</table>\n",
       "<p>84 rows × 4 columns</p>\n",
       "</div>"
      ],
      "text/plain": [
       "     is_hit                               retrieved  \\\n",
       "11    False  [c9112a99-5aca-43fd-9350-e8f2a6c85023]   \n",
       "12    False  [c9112a99-5aca-43fd-9350-e8f2a6c85023]   \n",
       "13    False  [560545c6-62ff-420c-a09a-ae75e179d831]   \n",
       "21    False  [a009ed0a-f566-4838-95bf-37416447924e]   \n",
       "22    False  [89a74290-f47d-4623-860c-6f1164681ae8]   \n",
       "..      ...                                     ...   \n",
       "190   False  [f5ee60a2-0bc2-48e1-915d-f9e0aed2c927]   \n",
       "191   False  [f5ee60a2-0bc2-48e1-915d-f9e0aed2c927]   \n",
       "196   False  [7c75d96b-8b60-4e64-81f3-ae6e3afc9e44]   \n",
       "197   False  [7c75d96b-8b60-4e64-81f3-ae6e3afc9e44]   \n",
       "199   False  [7c75d96b-8b60-4e64-81f3-ae6e3afc9e44]   \n",
       "\n",
       "                                 expected  \\\n",
       "11   94b9fa70-2da2-4f2b-b41b-dcf1ad9353d8   \n",
       "12   89a74290-f47d-4623-860c-6f1164681ae8   \n",
       "13   89a74290-f47d-4623-860c-6f1164681ae8   \n",
       "21   a7fd88ad-2e38-43de-a96e-81bf6542cb26   \n",
       "22   2b02f79f-3328-416f-ba5a-31c2561f530c   \n",
       "..                                    ...   \n",
       "190  01a24e38-3494-4553-9ca8-1d7bd37d7b8e   \n",
       "191  01a24e38-3494-4553-9ca8-1d7bd37d7b8e   \n",
       "196  ee84b63b-e6fe-4132-8462-869aea4a97af   \n",
       "197  ee84b63b-e6fe-4132-8462-869aea4a97af   \n",
       "199  4cf3c4e8-d5e6-4157-8a67-85e59c50de48   \n",
       "\n",
       "                                    query  \n",
       "11   a1dc3a85-1602-4403-b90f-87f59086f96d  \n",
       "12   785f7312-b806-45d1-b896-5b08b35366fd  \n",
       "13   5a5e052d-92d2-4fd2-9196-9fbf1dd6f00e  \n",
       "21   e20d599c-aa42-49ed-be26-c1684cf8c0b3  \n",
       "22   e60be730-2a61-4393-bb1f-22db589dd900  \n",
       "..                                    ...  \n",
       "190  5e9d792f-0c9b-47f8-80b1-82aa317259cf  \n",
       "191  4afcca0c-0d08-4e32-88da-2250d678212a  \n",
       "196  9595133a-e10d-49d5-879e-60d5d399c028  \n",
       "197  4e4acfeb-b576-45ef-ba34-2513cf43a15f  \n",
       "199  57d40521-9192-4797-a4c1-00e8a5010b00  \n",
       "\n",
       "[84 rows x 4 columns]"
      ]
     },
     "execution_count": 133,
     "metadata": {},
     "output_type": "execute_result"
    }
   ],
   "source": [
    "#Return the rows with is_hit == False\n",
    "e5_small_eval_df[e5_small_eval_df.is_hit == False]"
   ]
  },
  {
   "cell_type": "code",
   "execution_count": 75,
   "metadata": {},
   "outputs": [
    {
     "data": {
      "application/vnd.jupyter.widget-view+json": {
       "model_id": "43a726deb697405a8d5be5e786ad5557",
       "version_major": 2,
       "version_minor": 0
      },
      "text/plain": [
       "Generating embeddings:   0%|          | 0/100 [00:00<?, ?it/s]"
      ]
     },
     "metadata": {},
     "output_type": "display_data"
    },
    {
     "data": {
      "application/vnd.jupyter.widget-view+json": {
       "model_id": "c30ff5c6f08048ca839200169ad25d6a",
       "version_major": 2,
       "version_minor": 0
      },
      "text/plain": [
       "  0%|          | 0/200 [00:00<?, ?it/s]"
      ]
     },
     "metadata": {},
     "output_type": "display_data"
    }
   ],
   "source": [
    "e5_small_eval_k3 = evaluate(test_dataset, embed_model=embed_model_hf, top_k=3, verbose=True)"
   ]
  },
  {
   "cell_type": "code",
   "execution_count": 76,
   "metadata": {},
   "outputs": [
    {
     "data": {
      "text/plain": [
       "0.82"
      ]
     },
     "execution_count": 76,
     "metadata": {},
     "output_type": "execute_result"
    }
   ],
   "source": [
    "e5_small_eval_k3_df = pd.DataFrame(e5_small_eval_k3)\n",
    "e5_small_eval_k3_df.is_hit.sum() / len(e5_small_eval_k3_df)"
   ]
  },
  {
   "cell_type": "markdown",
   "metadata": {},
   "source": [
    "### E5 Large"
   ]
  },
  {
   "cell_type": "code",
   "execution_count": 13,
   "metadata": {},
   "outputs": [],
   "source": [
    "embed_model_hf_large = HuggingFaceEmbedding(\n",
    "    model_name='intfloat/multilingual-e5-large',\n",
    "    normalize=True,\n",
    "    #Instruction to prepend query\n",
    "    query_instruction='query:',\n",
    "    #Instruction to prepend text\n",
    "    text_instruction='passage:'\n",
    ")"
   ]
  },
  {
   "cell_type": "code",
   "execution_count": 135,
   "metadata": {},
   "outputs": [
    {
     "data": {
      "application/vnd.jupyter.widget-view+json": {
       "model_id": "06635661293f4cc4b605a8777d928848",
       "version_major": 2,
       "version_minor": 0
      },
      "text/plain": [
       "Generating embeddings:   0%|          | 0/100 [00:00<?, ?it/s]"
      ]
     },
     "metadata": {},
     "output_type": "display_data"
    },
    {
     "data": {
      "application/vnd.jupyter.widget-view+json": {
       "model_id": "36fff58e9949417f9175147aea8737fa",
       "version_major": 2,
       "version_minor": 0
      },
      "text/plain": [
       "  0%|          | 0/200 [00:00<?, ?it/s]"
      ]
     },
     "metadata": {},
     "output_type": "display_data"
    }
   ],
   "source": [
    "e5_large_eval = evaluate(test_dataset, embed_model=embed_model_hf_large, top_k=1, verbose=True)"
   ]
  },
  {
   "cell_type": "code",
   "execution_count": 136,
   "metadata": {},
   "outputs": [
    {
     "data": {
      "text/plain": [
       "0.635"
      ]
     },
     "execution_count": 136,
     "metadata": {},
     "output_type": "execute_result"
    }
   ],
   "source": [
    "#Count how many is_hit true and divide by total number of queries\n",
    "e5_large_eval_df = pd.DataFrame(e5_large_eval)\n",
    "e5_large_eval_df.head()\n",
    "e5_large_eval_df.is_hit.sum() / len(e5_large_eval)"
   ]
  },
  {
   "cell_type": "code",
   "execution_count": 14,
   "metadata": {},
   "outputs": [
    {
     "data": {
      "application/vnd.jupyter.widget-view+json": {
       "model_id": "856f7565ff374933a8f01d629283bdfc",
       "version_major": 2,
       "version_minor": 0
      },
      "text/plain": [
       "Generating embeddings:   0%|          | 0/100 [00:00<?, ?it/s]"
      ]
     },
     "metadata": {},
     "output_type": "display_data"
    },
    {
     "data": {
      "application/vnd.jupyter.widget-view+json": {
       "model_id": "aad17e6fe9f54c3abd51fb333fa379b9",
       "version_major": 2,
       "version_minor": 0
      },
      "text/plain": [
       "  0%|          | 0/200 [00:00<?, ?it/s]"
      ]
     },
     "metadata": {},
     "output_type": "display_data"
    }
   ],
   "source": [
    "e5_large_eval_k3 = evaluate(test_dataset, embed_model=embed_model_hf_large, top_k=3, verbose=True)"
   ]
  },
  {
   "cell_type": "code",
   "execution_count": 15,
   "metadata": {},
   "outputs": [
    {
     "data": {
      "text/plain": [
       "0.865"
      ]
     },
     "execution_count": 15,
     "metadata": {},
     "output_type": "execute_result"
    }
   ],
   "source": [
    "#Count how many is_hit true and divide by total number of queries\n",
    "e5_large_eval_k3_df = pd.DataFrame(e5_large_eval_k3)\n",
    "e5_large_eval_k3_df.is_hit.sum() / len(e5_large_eval_k3)"
   ]
  },
  {
   "cell_type": "markdown",
   "metadata": {},
   "source": [
    "### OpenAI"
   ]
  },
  {
   "cell_type": "code",
   "execution_count": 17,
   "metadata": {},
   "outputs": [],
   "source": [
    "embed_model_oai= OpenAIEmbedding(\n",
    "    mode=\"text_search\",  # default, alternatively set to \"similarity\"\n",
    "    model=\"text-embedding-ada-002\"  # default\n",
    ")"
   ]
  },
  {
   "cell_type": "code",
   "execution_count": 139,
   "metadata": {},
   "outputs": [
    {
     "data": {
      "application/vnd.jupyter.widget-view+json": {
       "model_id": "55b694b104ad43edbb25f3609cce3402",
       "version_major": 2,
       "version_minor": 0
      },
      "text/plain": [
       "Generating embeddings:   0%|          | 0/100 [00:00<?, ?it/s]"
      ]
     },
     "metadata": {},
     "output_type": "display_data"
    },
    {
     "data": {
      "application/vnd.jupyter.widget-view+json": {
       "model_id": "f8087a24928f49579442b75d50fa7175",
       "version_major": 2,
       "version_minor": 0
      },
      "text/plain": [
       "  0%|          | 0/200 [00:00<?, ?it/s]"
      ]
     },
     "metadata": {},
     "output_type": "display_data"
    }
   ],
   "source": [
    "oai_ada_eval = evaluate(test_dataset, embed_model_oai, top_k=1, verbose=True)"
   ]
  },
  {
   "cell_type": "code",
   "execution_count": 140,
   "metadata": {},
   "outputs": [
    {
     "data": {
      "text/plain": [
       "0.655"
      ]
     },
     "execution_count": 140,
     "metadata": {},
     "output_type": "execute_result"
    }
   ],
   "source": [
    "#Count how many is_hit true and divide by total number of queries\n",
    "oai_ada_eval_df = pd.DataFrame(oai_ada_eval)\n",
    "oai_ada_eval_df.head()\n",
    "oai_ada_eval_df.is_hit.sum() / len(oai_ada_eval_df)"
   ]
  },
  {
   "cell_type": "code",
   "execution_count": 18,
   "metadata": {},
   "outputs": [
    {
     "data": {
      "application/vnd.jupyter.widget-view+json": {
       "model_id": "aa9a2a84257b447281f125350d7285c0",
       "version_major": 2,
       "version_minor": 0
      },
      "text/plain": [
       "Generating embeddings:   0%|          | 0/100 [00:00<?, ?it/s]"
      ]
     },
     "metadata": {},
     "output_type": "display_data"
    },
    {
     "data": {
      "application/vnd.jupyter.widget-view+json": {
       "model_id": "adc0b6b0ccf04949a9aa8fbe6cc92896",
       "version_major": 2,
       "version_minor": 0
      },
      "text/plain": [
       "  0%|          | 0/200 [00:00<?, ?it/s]"
      ]
     },
     "metadata": {},
     "output_type": "display_data"
    },
    {
     "data": {
      "text/plain": [
       "0.855"
      ]
     },
     "execution_count": 18,
     "metadata": {},
     "output_type": "execute_result"
    }
   ],
   "source": [
    "oai_ada_k3_eval = evaluate(test_dataset, embed_model_oai, top_k=3, verbose=True)\n",
    "#Count how many is_hit true and divide by total number of queries\n",
    "oai_ada_eval_k3_df = pd.DataFrame(oai_ada_k3_eval)\n",
    "oai_ada_eval_k3_df.is_hit.sum() / len(oai_ada_eval_k3_df)"
   ]
  },
  {
   "cell_type": "markdown",
   "metadata": {},
   "source": [
    "### Cohere V3"
   ]
  },
  {
   "cell_type": "code",
   "execution_count": 48,
   "metadata": {},
   "outputs": [],
   "source": [
    "#Cohere\n",
    "from llama_index.embeddings.cohereai import CohereEmbedding\n",
    "import cohere\n",
    "\n",
    "co = cohere.Client(COHERE_API_KEY)"
   ]
  },
  {
   "cell_type": "code",
   "execution_count": 58,
   "metadata": {},
   "outputs": [],
   "source": [
    "# with input_typ='search_query'\n",
    "embed_model_cohere = CohereEmbedding(\n",
    "    cohere_api_key=COHERE_API_KEY,\n",
    "    model_name=\"embed-multilingual-v3.0\",\n",
    "    input_type=\"search_document\",\n",
    ")"
   ]
  },
  {
   "cell_type": "code",
   "execution_count": 59,
   "metadata": {},
   "outputs": [],
   "source": [
    "from llama_index.embeddings import cohereai\n",
    "import importlib\n",
    "importlib.reload(cohereai)\n",
    "from llama_index.embeddings.cohereai import CohereEmbedding"
   ]
  },
  {
   "cell_type": "code",
   "execution_count": 60,
   "metadata": {},
   "outputs": [],
   "source": [
    "# with input_typ='search_query'\n",
    "embed_model_cohere_light = CohereEmbedding(\n",
    "    cohere_api_key=COHERE_API_KEY,\n",
    "    model_name=\"embed-multilingual-light-v3.0\",\n",
    "    input_type=\"search_document\"\n",
    ")"
   ]
  },
  {
   "cell_type": "code",
   "execution_count": 150,
   "metadata": {},
   "outputs": [
    {
     "data": {
      "application/vnd.jupyter.widget-view+json": {
       "model_id": "9b31ab8c0f114a21b0d78769f772c5b2",
       "version_major": 2,
       "version_minor": 0
      },
      "text/plain": [
       "Generating embeddings:   0%|          | 0/100 [00:00<?, ?it/s]"
      ]
     },
     "metadata": {},
     "output_type": "display_data"
    },
    {
     "data": {
      "application/vnd.jupyter.widget-view+json": {
       "model_id": "b4d8bb898d7e4342a42dcbd18bffaab5",
       "version_major": 2,
       "version_minor": 0
      },
      "text/plain": [
       "  0%|          | 0/200 [00:00<?, ?it/s]"
      ]
     },
     "metadata": {},
     "output_type": "display_data"
    }
   ],
   "source": [
    "cohere_eval = evaluate(test_dataset, embed_model=embed_model_cohere, top_k=1, verbose=True)"
   ]
  },
  {
   "cell_type": "code",
   "execution_count": 153,
   "metadata": {},
   "outputs": [
    {
     "data": {
      "text/plain": [
       "0.665"
      ]
     },
     "execution_count": 153,
     "metadata": {},
     "output_type": "execute_result"
    }
   ],
   "source": [
    "#Count how many is_hit true and divide by total number of queries\n",
    "cohere_eval_df = pd.DataFrame(cohere_eval)\n",
    "cohere_eval_df.head()\n",
    "cohere_eval_df.is_hit.sum() / len(cohere_eval_df)"
   ]
  },
  {
   "cell_type": "code",
   "execution_count": 21,
   "metadata": {},
   "outputs": [
    {
     "data": {
      "application/vnd.jupyter.widget-view+json": {
       "model_id": "484e8b9e1bce4dc29884fd4c5e361220",
       "version_major": 2,
       "version_minor": 0
      },
      "text/plain": [
       "Generating embeddings:   0%|          | 0/100 [00:00<?, ?it/s]"
      ]
     },
     "metadata": {},
     "output_type": "display_data"
    },
    {
     "data": {
      "application/vnd.jupyter.widget-view+json": {
       "model_id": "b9afc8ec520644228199c607bb18f907",
       "version_major": 2,
       "version_minor": 0
      },
      "text/plain": [
       "  0%|          | 0/200 [00:00<?, ?it/s]"
      ]
     },
     "metadata": {},
     "output_type": "display_data"
    },
    {
     "data": {
      "text/plain": [
       "0.855"
      ]
     },
     "execution_count": 21,
     "metadata": {},
     "output_type": "execute_result"
    }
   ],
   "source": [
    "cohere_eval_k3 = evaluate(test_dataset, embed_model=embed_model_cohere, top_k=3, verbose=True)\n",
    "cohere_eval_k3_df = pd.DataFrame(cohere_eval_k3)\n",
    "cohere_eval_k3_df.is_hit.sum() / len(cohere_eval_k3_df)"
   ]
  },
  {
   "cell_type": "code",
   "execution_count": 61,
   "metadata": {},
   "outputs": [
    {
     "data": {
      "application/vnd.jupyter.widget-view+json": {
       "model_id": "8e1a501cdad247e482fade74f1d52be6",
       "version_major": 2,
       "version_minor": 0
      },
      "text/plain": [
       "Generating embeddings:   0%|          | 0/100 [00:00<?, ?it/s]"
      ]
     },
     "metadata": {},
     "output_type": "display_data"
    },
    {
     "data": {
      "application/vnd.jupyter.widget-view+json": {
       "model_id": "c7bbddf72db34bb8a8e9f95cd394f8e1",
       "version_major": 2,
       "version_minor": 0
      },
      "text/plain": [
       "  0%|          | 0/200 [00:00<?, ?it/s]"
      ]
     },
     "metadata": {},
     "output_type": "display_data"
    },
    {
     "data": {
      "text/plain": [
       "0.88"
      ]
     },
     "execution_count": 61,
     "metadata": {},
     "output_type": "execute_result"
    }
   ],
   "source": [
    "cohere_eval_k3_light = evaluate(test_dataset, embed_model=embed_model_cohere_light, top_k=3, verbose=True)\n",
    "cohere_eval_k3_light_df = pd.DataFrame(cohere_eval_k3_light)\n",
    "cohere_eval_k3_light_df.is_hit.sum() / len(cohere_eval_k3_light_df)"
   ]
  },
  {
   "cell_type": "markdown",
   "metadata": {},
   "source": [
    "## Extract the wrong question and passage pairs (querry & context)"
   ]
  },
  {
   "cell_type": "code",
   "execution_count": 62,
   "metadata": {},
   "outputs": [],
   "source": [
    "from sentence_transformers import InputExample\n",
    "\n",
    "train_dataset = EmbeddingQAFinetuneDataset.from_json(\"data/train_dataset.json\")\n",
    "\n",
    "examples = []\n",
    "for query_id, query in train_dataset.queries.items():\n",
    "    node_id = train_dataset.relevant_docs[query_id][0]\n",
    "    text = train_dataset.corpus[node_id]\n",
    "    \n",
    "    example = InputExample(texts=[query, text])\n",
    "    examples.append(example)"
   ]
  },
  {
   "cell_type": "code",
   "execution_count": 64,
   "metadata": {},
   "outputs": [
    {
     "data": {
      "text/html": [
       "<div>\n",
       "<style scoped>\n",
       "    .dataframe tbody tr th:only-of-type {\n",
       "        vertical-align: middle;\n",
       "    }\n",
       "\n",
       "    .dataframe tbody tr th {\n",
       "        vertical-align: top;\n",
       "    }\n",
       "\n",
       "    .dataframe thead th {\n",
       "        text-align: right;\n",
       "    }\n",
       "</style>\n",
       "<table border=\"1\" class=\"dataframe\">\n",
       "  <thead>\n",
       "    <tr style=\"text-align: right;\">\n",
       "      <th></th>\n",
       "      <th>is_hit</th>\n",
       "      <th>retrieved</th>\n",
       "      <th>expected</th>\n",
       "      <th>query</th>\n",
       "    </tr>\n",
       "  </thead>\n",
       "  <tbody>\n",
       "    <tr>\n",
       "      <th>0</th>\n",
       "      <td>True</td>\n",
       "      <td>[03c49ab1-609f-4fe8-bdd3-62ab0c4182fc, c3e3aaf...</td>\n",
       "      <td>03c49ab1-609f-4fe8-bdd3-62ab0c4182fc</td>\n",
       "      <td>d61ae5cf-c632-4bee-9b55-489bfc4d5c1d</td>\n",
       "    </tr>\n",
       "    <tr>\n",
       "      <th>1</th>\n",
       "      <td>True</td>\n",
       "      <td>[03c49ab1-609f-4fe8-bdd3-62ab0c4182fc, 1543449...</td>\n",
       "      <td>03c49ab1-609f-4fe8-bdd3-62ab0c4182fc</td>\n",
       "      <td>3d726de4-9a35-4f9c-a537-47333a94d967</td>\n",
       "    </tr>\n",
       "    <tr>\n",
       "      <th>2</th>\n",
       "      <td>True</td>\n",
       "      <td>[4d905db2-bfed-4f81-a700-61fb69a35241, 01a24e3...</td>\n",
       "      <td>4d905db2-bfed-4f81-a700-61fb69a35241</td>\n",
       "      <td>5c9730a0-60ef-42ad-aa05-a29b9aeb1c8a</td>\n",
       "    </tr>\n",
       "    <tr>\n",
       "      <th>3</th>\n",
       "      <td>True</td>\n",
       "      <td>[4d905db2-bfed-4f81-a700-61fb69a35241, 6250f6f...</td>\n",
       "      <td>4d905db2-bfed-4f81-a700-61fb69a35241</td>\n",
       "      <td>fb4e4d5f-09a2-4096-a771-898ff88c019a</td>\n",
       "    </tr>\n",
       "    <tr>\n",
       "      <th>4</th>\n",
       "      <td>True</td>\n",
       "      <td>[5d1f1c84-b843-49d6-81c4-93b25d75cf47, 3aacf45...</td>\n",
       "      <td>5d1f1c84-b843-49d6-81c4-93b25d75cf47</td>\n",
       "      <td>28e572c3-8e24-4f40-85a8-c47bdc9b7d94</td>\n",
       "    </tr>\n",
       "  </tbody>\n",
       "</table>\n",
       "</div>"
      ],
      "text/plain": [
       "   is_hit                                          retrieved  \\\n",
       "0    True  [03c49ab1-609f-4fe8-bdd3-62ab0c4182fc, c3e3aaf...   \n",
       "1    True  [03c49ab1-609f-4fe8-bdd3-62ab0c4182fc, 1543449...   \n",
       "2    True  [4d905db2-bfed-4f81-a700-61fb69a35241, 01a24e3...   \n",
       "3    True  [4d905db2-bfed-4f81-a700-61fb69a35241, 6250f6f...   \n",
       "4    True  [5d1f1c84-b843-49d6-81c4-93b25d75cf47, 3aacf45...   \n",
       "\n",
       "                               expected                                 query  \n",
       "0  03c49ab1-609f-4fe8-bdd3-62ab0c4182fc  d61ae5cf-c632-4bee-9b55-489bfc4d5c1d  \n",
       "1  03c49ab1-609f-4fe8-bdd3-62ab0c4182fc  3d726de4-9a35-4f9c-a537-47333a94d967  \n",
       "2  4d905db2-bfed-4f81-a700-61fb69a35241  5c9730a0-60ef-42ad-aa05-a29b9aeb1c8a  \n",
       "3  4d905db2-bfed-4f81-a700-61fb69a35241  fb4e4d5f-09a2-4096-a771-898ff88c019a  \n",
       "4  5d1f1c84-b843-49d6-81c4-93b25d75cf47  28e572c3-8e24-4f40-85a8-c47bdc9b7d94  "
      ]
     },
     "execution_count": 64,
     "metadata": {},
     "output_type": "execute_result"
    }
   ],
   "source": [
    "cohere_eval_k3_light_df.head()"
   ]
  },
  {
   "cell_type": "code",
   "execution_count": 69,
   "metadata": {},
   "outputs": [
    {
     "data": {
      "text/html": [
       "<div>\n",
       "<style scoped>\n",
       "    .dataframe tbody tr th:only-of-type {\n",
       "        vertical-align: middle;\n",
       "    }\n",
       "\n",
       "    .dataframe tbody tr th {\n",
       "        vertical-align: top;\n",
       "    }\n",
       "\n",
       "    .dataframe thead th {\n",
       "        text-align: right;\n",
       "    }\n",
       "</style>\n",
       "<table border=\"1\" class=\"dataframe\">\n",
       "  <thead>\n",
       "    <tr style=\"text-align: right;\">\n",
       "      <th></th>\n",
       "      <th>is_hit</th>\n",
       "      <th>retrieved</th>\n",
       "      <th>expected</th>\n",
       "      <th>query</th>\n",
       "    </tr>\n",
       "  </thead>\n",
       "  <tbody>\n",
       "    <tr>\n",
       "      <th>12</th>\n",
       "      <td>False</td>\n",
       "      <td>[c9112a99-5aca-43fd-9350-e8f2a6c85023, 189c5e7...</td>\n",
       "      <td>89a74290-f47d-4623-860c-6f1164681ae8</td>\n",
       "      <td>785f7312-b806-45d1-b896-5b08b35366fd</td>\n",
       "    </tr>\n",
       "    <tr>\n",
       "      <th>13</th>\n",
       "      <td>False</td>\n",
       "      <td>[189c5e70-12fc-4054-8f9f-197bafd087bf, 3f4fbb9...</td>\n",
       "      <td>89a74290-f47d-4623-860c-6f1164681ae8</td>\n",
       "      <td>5a5e052d-92d2-4fd2-9196-9fbf1dd6f00e</td>\n",
       "    </tr>\n",
       "    <tr>\n",
       "      <th>40</th>\n",
       "      <td>False</td>\n",
       "      <td>[3f4fbb9c-cc49-429c-9d06-40982463bff1, 5cf0e29...</td>\n",
       "      <td>24c7080c-e093-4efe-ab5b-ed951f70e2af</td>\n",
       "      <td>576d5998-ebdf-4ab9-b96c-95fa56499607</td>\n",
       "    </tr>\n",
       "    <tr>\n",
       "      <th>43</th>\n",
       "      <td>False</td>\n",
       "      <td>[3f4fbb9c-cc49-429c-9d06-40982463bff1, 5cf0e29...</td>\n",
       "      <td>1ae3b5a2-a2da-40e9-9e92-a2c5a3db85a5</td>\n",
       "      <td>62bd527f-17da-4a4b-8808-822d043ff791</td>\n",
       "    </tr>\n",
       "    <tr>\n",
       "      <th>67</th>\n",
       "      <td>False</td>\n",
       "      <td>[f7f6787f-0d43-4247-8527-6642e48d52cc, 767a249...</td>\n",
       "      <td>81b84de0-0ffe-4b5c-b8c1-da690166fc6a</td>\n",
       "      <td>f7abfae4-d0a0-42c9-9642-79b9133d665b</td>\n",
       "    </tr>\n",
       "    <tr>\n",
       "      <th>69</th>\n",
       "      <td>False</td>\n",
       "      <td>[767a249d-d1d2-478c-8ef4-1aa4f9b471f6, a7fd88a...</td>\n",
       "      <td>8f3d5a4f-9fa8-4bd8-ad67-6e44c9225add</td>\n",
       "      <td>e55dabb6-c047-4080-a697-b9e5888193c5</td>\n",
       "    </tr>\n",
       "    <tr>\n",
       "      <th>81</th>\n",
       "      <td>False</td>\n",
       "      <td>[c3e3aaf0-77c5-47ec-92c2-9d987a5c62b7, 81badc9...</td>\n",
       "      <td>fb3544b1-e418-46ea-b0f4-83c2166afb27</td>\n",
       "      <td>3469d908-c8e2-4ea5-b072-916e26a11584</td>\n",
       "    </tr>\n",
       "    <tr>\n",
       "      <th>86</th>\n",
       "      <td>False</td>\n",
       "      <td>[853a197c-e154-4b04-98e8-b160b4003699, 953890d...</td>\n",
       "      <td>4dfcb00b-9d73-4153-9389-b20dff850896</td>\n",
       "      <td>eecf2142-d92e-4af3-80c9-658e4cc32128</td>\n",
       "    </tr>\n",
       "    <tr>\n",
       "      <th>99</th>\n",
       "      <td>False</td>\n",
       "      <td>[2c21c9d8-17d0-49d4-afc5-746c042035aa, 6fb6913...</td>\n",
       "      <td>a0481927-cc50-405e-9c05-4bf129f3ebf9</td>\n",
       "      <td>09f790bd-2684-4d2f-918a-c1d84332f54b</td>\n",
       "    </tr>\n",
       "    <tr>\n",
       "      <th>100</th>\n",
       "      <td>False</td>\n",
       "      <td>[c29d2276-1c16-499f-8d79-f034557ec12a, a048192...</td>\n",
       "      <td>041dbad1-de47-4d9b-8777-9b5b3443e43e</td>\n",
       "      <td>36655037-36b4-4a7a-8a5a-5b6004e699c4</td>\n",
       "    </tr>\n",
       "    <tr>\n",
       "      <th>103</th>\n",
       "      <td>False</td>\n",
       "      <td>[aa7d5258-26b5-49fe-8386-1569d4c416e0, b9e5ac3...</td>\n",
       "      <td>2c21c9d8-17d0-49d4-afc5-746c042035aa</td>\n",
       "      <td>5912f973-35e7-4154-a94a-21a319493d17</td>\n",
       "    </tr>\n",
       "    <tr>\n",
       "      <th>105</th>\n",
       "      <td>False</td>\n",
       "      <td>[ed4d95d6-c8ef-40fc-a662-db24439f4a43, 999df6d...</td>\n",
       "      <td>d3c91f27-0595-45c1-86e7-5219cb2fbbf9</td>\n",
       "      <td>7431f3e9-b1c2-46eb-9e92-f1ddd052b3dc</td>\n",
       "    </tr>\n",
       "    <tr>\n",
       "      <th>107</th>\n",
       "      <td>False</td>\n",
       "      <td>[ed4d95d6-c8ef-40fc-a662-db24439f4a43, 4054d55...</td>\n",
       "      <td>26f08257-5310-4a2a-89f6-ccf5ad8f224f</td>\n",
       "      <td>2a006f78-74ce-4880-8587-91246da1c9a3</td>\n",
       "    </tr>\n",
       "    <tr>\n",
       "      <th>112</th>\n",
       "      <td>False</td>\n",
       "      <td>[b9e5ac3c-e1dd-4bf8-aa05-3141b2a5894a, aa7d525...</td>\n",
       "      <td>3cd540b0-33cf-489e-adfd-87d4d145291d</td>\n",
       "      <td>6a9d69ed-cd65-4ea1-9928-56cd4fbd3b4e</td>\n",
       "    </tr>\n",
       "    <tr>\n",
       "      <th>113</th>\n",
       "      <td>False</td>\n",
       "      <td>[a0481927-cc50-405e-9c05-4bf129f3ebf9, bafb3b5...</td>\n",
       "      <td>3cd540b0-33cf-489e-adfd-87d4d145291d</td>\n",
       "      <td>dedecc4d-8579-4303-8740-49213e4762be</td>\n",
       "    </tr>\n",
       "    <tr>\n",
       "      <th>123</th>\n",
       "      <td>False</td>\n",
       "      <td>[d3c91f27-0595-45c1-86e7-5219cb2fbbf9, 0f3cfe5...</td>\n",
       "      <td>8d251deb-c7a2-49ab-b2a9-656c35650ed6</td>\n",
       "      <td>f8f370e9-0c39-4bad-bfa9-62dcb8e166c3</td>\n",
       "    </tr>\n",
       "    <tr>\n",
       "      <th>143</th>\n",
       "      <td>False</td>\n",
       "      <td>[aa7d5258-26b5-49fe-8386-1569d4c416e0, b9e5ac3...</td>\n",
       "      <td>999df6dd-ce33-4611-87b9-4dd37dac61c8</td>\n",
       "      <td>428f4807-71e4-4c5e-b546-58b0b8de709f</td>\n",
       "    </tr>\n",
       "    <tr>\n",
       "      <th>146</th>\n",
       "      <td>False</td>\n",
       "      <td>[c29d2276-1c16-499f-8d79-f034557ec12a, 6fb6913...</td>\n",
       "      <td>02e964de-a4a4-435c-bb61-45fbe293c71b</td>\n",
       "      <td>80577bd9-a8be-4016-99b7-c22e217abab8</td>\n",
       "    </tr>\n",
       "    <tr>\n",
       "      <th>147</th>\n",
       "      <td>False</td>\n",
       "      <td>[6250f6f3-e15f-4126-b35a-05243ded3a5e, a34f30d...</td>\n",
       "      <td>02e964de-a4a4-435c-bb61-45fbe293c71b</td>\n",
       "      <td>04cef516-17ec-4407-8764-fa5811a50baa</td>\n",
       "    </tr>\n",
       "    <tr>\n",
       "      <th>153</th>\n",
       "      <td>False</td>\n",
       "      <td>[4b2e4d7f-55a9-4d53-a410-c0dd6eee2b30, 8d251de...</td>\n",
       "      <td>ed4d95d6-c8ef-40fc-a662-db24439f4a43</td>\n",
       "      <td>135a32ad-42cb-4f96-9221-0553dad5b334</td>\n",
       "    </tr>\n",
       "    <tr>\n",
       "      <th>156</th>\n",
       "      <td>False</td>\n",
       "      <td>[8d251deb-c7a2-49ab-b2a9-656c35650ed6, 279d434...</td>\n",
       "      <td>d9fe6665-1cca-491d-a6f1-0a53905d9f2d</td>\n",
       "      <td>17a7fb7a-2ae4-4010-be4e-cf90971146f2</td>\n",
       "    </tr>\n",
       "    <tr>\n",
       "      <th>159</th>\n",
       "      <td>False</td>\n",
       "      <td>[041dbad1-de47-4d9b-8777-9b5b3443e43e, aa7d525...</td>\n",
       "      <td>279d4344-50d0-4e41-9556-0dd4e84ef004</td>\n",
       "      <td>0d3b8dc0-9137-459a-a17d-5883ea608708</td>\n",
       "    </tr>\n",
       "    <tr>\n",
       "      <th>169</th>\n",
       "      <td>False</td>\n",
       "      <td>[8d251deb-c7a2-49ab-b2a9-656c35650ed6, 279d434...</td>\n",
       "      <td>a34f30d3-ca79-4361-92bc-da38f75ffa9a</td>\n",
       "      <td>ef7cbf50-31c5-479b-8211-d4175698350b</td>\n",
       "    </tr>\n",
       "    <tr>\n",
       "      <th>175</th>\n",
       "      <td>False</td>\n",
       "      <td>[8950ffff-3d81-4c3c-98ea-c0c3e41fbacf, c19b0cf...</td>\n",
       "      <td>a4baac47-2db3-4db4-9298-335a263542de</td>\n",
       "      <td>2c94366e-f575-490f-8639-2d491ec1117e</td>\n",
       "    </tr>\n",
       "  </tbody>\n",
       "</table>\n",
       "</div>"
      ],
      "text/plain": [
       "     is_hit                                          retrieved  \\\n",
       "12    False  [c9112a99-5aca-43fd-9350-e8f2a6c85023, 189c5e7...   \n",
       "13    False  [189c5e70-12fc-4054-8f9f-197bafd087bf, 3f4fbb9...   \n",
       "40    False  [3f4fbb9c-cc49-429c-9d06-40982463bff1, 5cf0e29...   \n",
       "43    False  [3f4fbb9c-cc49-429c-9d06-40982463bff1, 5cf0e29...   \n",
       "67    False  [f7f6787f-0d43-4247-8527-6642e48d52cc, 767a249...   \n",
       "69    False  [767a249d-d1d2-478c-8ef4-1aa4f9b471f6, a7fd88a...   \n",
       "81    False  [c3e3aaf0-77c5-47ec-92c2-9d987a5c62b7, 81badc9...   \n",
       "86    False  [853a197c-e154-4b04-98e8-b160b4003699, 953890d...   \n",
       "99    False  [2c21c9d8-17d0-49d4-afc5-746c042035aa, 6fb6913...   \n",
       "100   False  [c29d2276-1c16-499f-8d79-f034557ec12a, a048192...   \n",
       "103   False  [aa7d5258-26b5-49fe-8386-1569d4c416e0, b9e5ac3...   \n",
       "105   False  [ed4d95d6-c8ef-40fc-a662-db24439f4a43, 999df6d...   \n",
       "107   False  [ed4d95d6-c8ef-40fc-a662-db24439f4a43, 4054d55...   \n",
       "112   False  [b9e5ac3c-e1dd-4bf8-aa05-3141b2a5894a, aa7d525...   \n",
       "113   False  [a0481927-cc50-405e-9c05-4bf129f3ebf9, bafb3b5...   \n",
       "123   False  [d3c91f27-0595-45c1-86e7-5219cb2fbbf9, 0f3cfe5...   \n",
       "143   False  [aa7d5258-26b5-49fe-8386-1569d4c416e0, b9e5ac3...   \n",
       "146   False  [c29d2276-1c16-499f-8d79-f034557ec12a, 6fb6913...   \n",
       "147   False  [6250f6f3-e15f-4126-b35a-05243ded3a5e, a34f30d...   \n",
       "153   False  [4b2e4d7f-55a9-4d53-a410-c0dd6eee2b30, 8d251de...   \n",
       "156   False  [8d251deb-c7a2-49ab-b2a9-656c35650ed6, 279d434...   \n",
       "159   False  [041dbad1-de47-4d9b-8777-9b5b3443e43e, aa7d525...   \n",
       "169   False  [8d251deb-c7a2-49ab-b2a9-656c35650ed6, 279d434...   \n",
       "175   False  [8950ffff-3d81-4c3c-98ea-c0c3e41fbacf, c19b0cf...   \n",
       "\n",
       "                                 expected  \\\n",
       "12   89a74290-f47d-4623-860c-6f1164681ae8   \n",
       "13   89a74290-f47d-4623-860c-6f1164681ae8   \n",
       "40   24c7080c-e093-4efe-ab5b-ed951f70e2af   \n",
       "43   1ae3b5a2-a2da-40e9-9e92-a2c5a3db85a5   \n",
       "67   81b84de0-0ffe-4b5c-b8c1-da690166fc6a   \n",
       "69   8f3d5a4f-9fa8-4bd8-ad67-6e44c9225add   \n",
       "81   fb3544b1-e418-46ea-b0f4-83c2166afb27   \n",
       "86   4dfcb00b-9d73-4153-9389-b20dff850896   \n",
       "99   a0481927-cc50-405e-9c05-4bf129f3ebf9   \n",
       "100  041dbad1-de47-4d9b-8777-9b5b3443e43e   \n",
       "103  2c21c9d8-17d0-49d4-afc5-746c042035aa   \n",
       "105  d3c91f27-0595-45c1-86e7-5219cb2fbbf9   \n",
       "107  26f08257-5310-4a2a-89f6-ccf5ad8f224f   \n",
       "112  3cd540b0-33cf-489e-adfd-87d4d145291d   \n",
       "113  3cd540b0-33cf-489e-adfd-87d4d145291d   \n",
       "123  8d251deb-c7a2-49ab-b2a9-656c35650ed6   \n",
       "143  999df6dd-ce33-4611-87b9-4dd37dac61c8   \n",
       "146  02e964de-a4a4-435c-bb61-45fbe293c71b   \n",
       "147  02e964de-a4a4-435c-bb61-45fbe293c71b   \n",
       "153  ed4d95d6-c8ef-40fc-a662-db24439f4a43   \n",
       "156  d9fe6665-1cca-491d-a6f1-0a53905d9f2d   \n",
       "159  279d4344-50d0-4e41-9556-0dd4e84ef004   \n",
       "169  a34f30d3-ca79-4361-92bc-da38f75ffa9a   \n",
       "175  a4baac47-2db3-4db4-9298-335a263542de   \n",
       "\n",
       "                                    query  \n",
       "12   785f7312-b806-45d1-b896-5b08b35366fd  \n",
       "13   5a5e052d-92d2-4fd2-9196-9fbf1dd6f00e  \n",
       "40   576d5998-ebdf-4ab9-b96c-95fa56499607  \n",
       "43   62bd527f-17da-4a4b-8808-822d043ff791  \n",
       "67   f7abfae4-d0a0-42c9-9642-79b9133d665b  \n",
       "69   e55dabb6-c047-4080-a697-b9e5888193c5  \n",
       "81   3469d908-c8e2-4ea5-b072-916e26a11584  \n",
       "86   eecf2142-d92e-4af3-80c9-658e4cc32128  \n",
       "99   09f790bd-2684-4d2f-918a-c1d84332f54b  \n",
       "100  36655037-36b4-4a7a-8a5a-5b6004e699c4  \n",
       "103  5912f973-35e7-4154-a94a-21a319493d17  \n",
       "105  7431f3e9-b1c2-46eb-9e92-f1ddd052b3dc  \n",
       "107  2a006f78-74ce-4880-8587-91246da1c9a3  \n",
       "112  6a9d69ed-cd65-4ea1-9928-56cd4fbd3b4e  \n",
       "113  dedecc4d-8579-4303-8740-49213e4762be  \n",
       "123  f8f370e9-0c39-4bad-bfa9-62dcb8e166c3  \n",
       "143  428f4807-71e4-4c5e-b546-58b0b8de709f  \n",
       "146  80577bd9-a8be-4016-99b7-c22e217abab8  \n",
       "147  04cef516-17ec-4407-8764-fa5811a50baa  \n",
       "153  135a32ad-42cb-4f96-9221-0553dad5b334  \n",
       "156  17a7fb7a-2ae4-4010-be4e-cf90971146f2  \n",
       "159  0d3b8dc0-9137-459a-a17d-5883ea608708  \n",
       "169  ef7cbf50-31c5-479b-8211-d4175698350b  \n",
       "175  2c94366e-f575-490f-8639-2d491ec1117e  "
      ]
     },
     "execution_count": 69,
     "metadata": {},
     "output_type": "execute_result"
    }
   ],
   "source": [
    "#Filter and display the rows where is_hit is False\n",
    "cohere_eval_k3_light_df[cohere_eval_k3_light_df.is_hit == False]"
   ]
  },
  {
   "cell_type": "code",
   "execution_count": 70,
   "metadata": {},
   "outputs": [
    {
     "data": {
      "text/plain": [
       "'Hvad er nogle af de helbredsrisici, der kan opstå som følge af ensidigt og belastende arbejde?'"
      ]
     },
     "execution_count": 70,
     "metadata": {},
     "output_type": "execute_result"
    }
   ],
   "source": [
    "#Look up the query id of row 1 in cohere_eval_k3_light_df and return the query (text) from the test dataset\n",
    "query_id = cohere_eval_k3_light_df.iloc[13]['query']\n",
    "query = test_dataset.queries[query_id]\n",
    "query\n"
   ]
  },
  {
   "cell_type": "code",
   "execution_count": 71,
   "metadata": {},
   "outputs": [
    {
     "data": {
      "text/plain": [
       "'Det er især udbredt i fremstillingsfag, fx i nærings- og nydelsesmiddelindustrien og i forbindelse med fremstilling af varer.\\nEBA forekommer også i håndværksfag, inden for kontor og administration, i transportsektoren, fx ved chauffør- og transportarbejde, og i en række servicefunktioner som rengørings-, frisør- og tandlægearbejde.\\n1.2.Hvornår er EBA et problem?\\nLavintensive påvirkninger udgør normalt ingen risiko, hvis de kun forekommer i kort tid. Men hvis disse påvirkninger forekommer lang tid i forbindelse med det daglige arbejde, kan EBA udgøre en helbredsrisiko.\\nJo mere intensive belastningerne er, desto kortere skal varigheden være, før der er tale om en helbredsrisiko.\\n2.Helbredsrisici og risikobelastning\\n2.1.Helbredsrisici\\nVed ensidigt, belastende arbejde kan der på kortere eller længere sigt opstå træthed, ømhed, smerter, hævelse og stivhed i muskler, sener og led, ofte med nedsat funktionsevne, nedsat opmærksomhed samt øget risiko for ulykker.'"
      ]
     },
     "execution_count": 71,
     "metadata": {},
     "output_type": "execute_result"
    }
   ],
   "source": [
    "#Print the expected text (the text that the query should return) by looking up the expected id from row 1 in the test dataset\n",
    "expected_id = test_dataset.relevant_docs[query_id][0]\n",
    "expected_text = test_dataset.corpus[expected_id]\n",
    "expected_text"
   ]
  },
  {
   "cell_type": "code",
   "execution_count": 72,
   "metadata": {},
   "outputs": [
    {
     "data": {
      "text/plain": [
       "['Årsagen til, at man kan få skader som følge af ensidigt, belastende arbejde, menes at hænge sammen med en relativt langvarig spænding af musklerne, tryk på eller strækning af vævet, påvirkning af blodforsyning eller nerver. Skaderne forekommer især i bevægeapparatet - det vil sige kroppens muskler, sener, led og tilhørende kar og nervevæv. Skaderne ses hyppigst i nakke, skuldre, arme og hænder, men kan opstå i alle områder af kroppen. Ensidigt, belastende arbejde kan også være årsag til psykiske symptomer, fx stress, monotonitilstand, psykisk træthed og nedsat vitalitet.\\n2.2.Risikobelastning\\nFølgende forhold bestemmer, om ensidigt, belastende arbejde er en risikobelastning:\\n\\n–Arbejdets varighed pr. dag, uge eller år\\n–Intensiteten af belastningen, fx hvor hyppigt belastningen gentages, graden af fastlåsning eller kravet til opmærksomhed\\n–Andre faktorer, fx kraftkrav og arbejdsstilling.',\n",
       " 'Arbejdet vurderes ikke som ensidigt, gentaget, hvis de ensartede bevægelser udføres mindre end ca. ti pct. sammenlagt af den tid, det pågældende arbejde udføres. Derimod kan arbejdet godt være ensidigt, belastende, som det er tilfældet ved fx overvågningsarbejde og langturschaufførarbejde.\\n4.2.Helbredsrisici ved EGA\\nGener og helbredsskader efter ensidigt, gentaget arbejde er især knyttet til nakke, skuldre og arme. Der kan også opstå psykiske gener, der typisk ses i sammenhæng med høje krav til opmærksomhed, lavt jobindhold, højt tempo, tidspres samt mangel på indflydelse, social kontakt, støtte og udviklingsmuligheder.\\nRisikoen for gener og helbredsskader som følge af ensidigt, gentaget arbejde stiger med antallet af gentagelser pr. tidsenhed, højt tempo samt med varigheden af arbejdet. Forekomsten af forværrende faktorer vil også være afgørende for risikoen for helbredsskader.',\n",
       " '5.2.Vurdering af risikoen for helbredsskader\\nVed vurderingen af risikoen for helbredsskader ved ensidigt, belastende arbejde sammenholdes varigheden og belastningsintensiteten med den kombination af belastningsfaktorer, der forekommer. Afsnittet om forværrende faktorer ved EGA kan fx bruges ved denne vurdering. Der er - ved statisk kraftbetonet arbejde med armene løftet til ca. skulderhøjde eller derover - tale om særlig helbredsfare. Her vil en samlet daglig varighed på en til to timer være kritisk, mens der for mindre intensive typer af ensidigt, belastende arbejde først vil være helbredsfare, når arbejdet udføres hovedparten af arbejdsdagen. Virksomheden skal træffe foranstaltninger, hvis man vurderer, at arbejdet indebærer risiko for helbredsskade.\\nMan skal også være opmærksom på, at fysisk og psykisk træthed, som ofte optræder i forbindelse med ensidigt, belastende arbejde, har indflydelse på den ansattes mulighed for at reagere hurtigt og passende i forhold til en pludselig uventet situation.']"
      ]
     },
     "execution_count": 72,
     "metadata": {},
     "output_type": "execute_result"
    }
   ],
   "source": [
    "#Print the retrieved texts (the 3 text that the query actually returned) by looking up the retrieved id from row 1 in the test dataset\n",
    "retrieved_ids = cohere_eval_k3_light_df.iloc[13]['retrieved']\n",
    "retrieved_texts = [test_dataset.corpus[id_] for id_ in retrieved_ids]\n",
    "retrieved_texts"
   ]
  },
  {
   "cell_type": "code",
   "execution_count": null,
   "metadata": {},
   "outputs": [],
   "source": []
  },
  {
   "cell_type": "markdown",
   "metadata": {},
   "source": [
    "## Other stuff"
   ]
  },
  {
   "cell_type": "code",
   "execution_count": 84,
   "metadata": {},
   "outputs": [],
   "source": [
    "from sentence_transformers.evaluation import InformationRetrievalEvaluator\n",
    "from sentence_transformers import SentenceTransformer\n",
    "from pathlib import Path\n",
    "\n",
    "\n",
    "def evaluate_st(\n",
    "    dataset,\n",
    "    model_id,\n",
    "    name,\n",
    "):\n",
    "    corpus = dataset.corpus\n",
    "    queries = dataset.queries\n",
    "    relevant_docs = dataset.relevant_docs\n",
    "\n",
    "    evaluator = InformationRetrievalEvaluator(\n",
    "        queries, corpus, relevant_docs, name=name\n",
    "    )\n",
    "    model = SentenceTransformer(model_id)\n",
    "    output_path = \"results/\"\n",
    "    Path(output_path).mkdir(exist_ok=True, parents=True)\n",
    "    return evaluator(model, output_path=output_path)"
   ]
  },
  {
   "cell_type": "code",
   "execution_count": 88,
   "metadata": {},
   "outputs": [],
   "source": []
  },
  {
   "cell_type": "code",
   "execution_count": 90,
   "metadata": {},
   "outputs": [],
   "source": [
    "service_context = ServiceContext.from_defaults(embed_model= embed_model_hf)"
   ]
  },
  {
   "cell_type": "code",
   "execution_count": null,
   "metadata": {},
   "outputs": [],
   "source": []
  },
  {
   "cell_type": "markdown",
   "metadata": {},
   "source": [
    "## FIne tune"
   ]
  },
  {
   "cell_type": "code",
   "execution_count": 84,
   "metadata": {},
   "outputs": [
    {
     "ename": "KeyError",
     "evalue": "0",
     "output_type": "error",
     "traceback": [
      "\u001b[0;31m---------------------------------------------------------------------------\u001b[0m",
      "\u001b[0;31mKeyError\u001b[0m                                  Traceback (most recent call last)",
      "\u001b[1;32m/home/jealk/src/llama_playground/03_Q&A_gen.ipynb Cell 62\u001b[0m line \u001b[0;36m1\n\u001b[0;32m----> <a href='vscode-notebook-cell://wsl%2Bubuntu/home/jealk/src/llama_playground/03_Q%26A_gen.ipynb#Y243sdnNjb2RlLXJlbW90ZQ%3D%3D?line=0'>1</a>\u001b[0m \u001b[39mlen\u001b[39m(test_dataset\u001b[39m.\u001b[39;49mqueries[\u001b[39m0\u001b[39;49m])\n",
      "\u001b[0;31mKeyError\u001b[0m: 0"
     ]
    }
   ],
   "source": []
  },
  {
   "cell_type": "code",
   "execution_count": 8,
   "metadata": {},
   "outputs": [],
   "source": [
    "from llama_index.embeddings.huggingface import HuggingFaceEmbedding\n",
    "\n",
    "embed_model_hf = HuggingFaceEmbedding(\n",
    "    model_name='intfloat/multilingual-e5-small',\n",
    "    normalize=True,\n",
    "    #Instruction to prepend query\n",
    "    query_instruction='query:',\n",
    "    #Instruction to prepend text\n",
    "    text_instruction='passage:'\n",
    ")"
   ]
  },
  {
   "cell_type": "code",
   "execution_count": 23,
   "metadata": {},
   "outputs": [],
   "source": [
    "from llama_index.finetuning import SentenceTransformersFinetuneEngine\n",
    "\n",
    "finetune_engine = SentenceTransformersFinetuneEngine(\n",
    "    train_dataset,\n",
    "    model_id=\"intfloat/multilingual-e5-small\",\n",
    "    model_output_path=\"models/test_model\",\n",
    "    val_dataset=test_dataset,\n",
    ")"
   ]
  },
  {
   "cell_type": "code",
   "execution_count": 159,
   "metadata": {},
   "outputs": [
    {
     "data": {
      "application/vnd.jupyter.widget-view+json": {
       "model_id": "915373a6e004462fa5abf22c90e97bb8",
       "version_major": 2,
       "version_minor": 0
      },
      "text/plain": [
       "Epoch:   0%|          | 0/2 [00:00<?, ?it/s]"
      ]
     },
     "metadata": {},
     "output_type": "display_data"
    },
    {
     "data": {
      "application/vnd.jupyter.widget-view+json": {
       "model_id": "4f9bb4763bda483fb4d909306611202a",
       "version_major": 2,
       "version_minor": 0
      },
      "text/plain": [
       "Iteration:   0%|          | 0/60 [00:00<?, ?it/s]"
      ]
     },
     "metadata": {},
     "output_type": "display_data"
    },
    {
     "data": {
      "application/vnd.jupyter.widget-view+json": {
       "model_id": "082b5ed5026043bf9f217499a2b20fda",
       "version_major": 2,
       "version_minor": 0
      },
      "text/plain": [
       "Iteration:   0%|          | 0/60 [00:00<?, ?it/s]"
      ]
     },
     "metadata": {},
     "output_type": "display_data"
    }
   ],
   "source": [
    "#Finetune\n",
    "#finetune_engine.finetune()"
   ]
  },
  {
   "cell_type": "code",
   "execution_count": 24,
   "metadata": {},
   "outputs": [],
   "source": [
    "#Load the model\n",
    "finetuned_model = finetune_engine.get_finetuned_model()"
   ]
  },
  {
   "cell_type": "code",
   "execution_count": 19,
   "metadata": {},
   "outputs": [
    {
     "data": {
      "application/vnd.jupyter.widget-view+json": {
       "model_id": "f5cb73a9de174355bc1b0934a0d1c01f",
       "version_major": 2,
       "version_minor": 0
      },
      "text/plain": [
       "Generating embeddings:   0%|          | 0/100 [00:00<?, ?it/s]"
      ]
     },
     "metadata": {},
     "output_type": "display_data"
    },
    {
     "data": {
      "application/vnd.jupyter.widget-view+json": {
       "model_id": "bd1e128d2e104be8aaacd69def1fb50b",
       "version_major": 2,
       "version_minor": 0
      },
      "text/plain": [
       "  0%|          | 0/200 [00:00<?, ?it/s]"
      ]
     },
     "metadata": {},
     "output_type": "display_data"
    }
   ],
   "source": [
    "finetuned = \"local:models/test_model\"\n",
    "val_results_finetuned = evaluate(test_dataset, embed_model=finetuned_model, top_k=1, verbose=True)"
   ]
  },
  {
   "cell_type": "code",
   "execution_count": 20,
   "metadata": {},
   "outputs": [
    {
     "data": {
      "text/plain": [
       "0.625"
      ]
     },
     "execution_count": 20,
     "metadata": {},
     "output_type": "execute_result"
    }
   ],
   "source": [
    "#Count how many is_hit true and divide by total number of queries\n",
    "e5_small_finetuned_df = pd.DataFrame(val_results_finetuned)\n",
    "e5_small_finetuned_df.head()\n",
    "e5_small_finetuned_df.is_hit.sum() / len(e5_small_finetuned_df)"
   ]
  },
  {
   "cell_type": "code",
   "execution_count": 74,
   "metadata": {},
   "outputs": [
    {
     "data": {
      "application/vnd.jupyter.widget-view+json": {
       "model_id": "82533e75d4734ff5927770b7ca874669",
       "version_major": 2,
       "version_minor": 0
      },
      "text/plain": [
       "Generating embeddings:   0%|          | 0/100 [00:00<?, ?it/s]"
      ]
     },
     "metadata": {},
     "output_type": "display_data"
    },
    {
     "data": {
      "application/vnd.jupyter.widget-view+json": {
       "model_id": "c99d4800aeff4b71addf74df37df048a",
       "version_major": 2,
       "version_minor": 0
      },
      "text/plain": [
       "  0%|          | 0/200 [00:00<?, ?it/s]"
      ]
     },
     "metadata": {},
     "output_type": "display_data"
    },
    {
     "data": {
      "text/plain": [
       "0.845"
      ]
     },
     "execution_count": 74,
     "metadata": {},
     "output_type": "execute_result"
    }
   ],
   "source": [
    "finetuned = \"local:models/test_model\"\n",
    "e5_small_k3_finetuned = evaluate(test_dataset, embed_model=finetuned, top_k=3, verbose=True)\n",
    "e5_small_k3_finetuned = pd.DataFrame(e5_small_k3_finetuned)\n",
    "e5_small_k3_finetuned.is_hit.sum() / len(e5_small_eval_k3_df)"
   ]
  },
  {
   "cell_type": "markdown",
   "metadata": {},
   "source": [
    "## Evaluation\n"
   ]
  },
  {
   "cell_type": "code",
   "execution_count": 85,
   "metadata": {},
   "outputs": [
    {
     "data": {
      "text/html": [
       "<div>\n",
       "<style scoped>\n",
       "    .dataframe tbody tr th:only-of-type {\n",
       "        vertical-align: middle;\n",
       "    }\n",
       "\n",
       "    .dataframe tbody tr th {\n",
       "        vertical-align: top;\n",
       "    }\n",
       "\n",
       "    .dataframe thead th {\n",
       "        text-align: right;\n",
       "    }\n",
       "</style>\n",
       "<table border=\"1\" class=\"dataframe\">\n",
       "  <thead>\n",
       "    <tr style=\"text-align: right;\">\n",
       "      <th></th>\n",
       "      <th>model_name</th>\n",
       "      <th>model_dim</th>\n",
       "      <th>k3 % correct</th>\n",
       "    </tr>\n",
       "  </thead>\n",
       "  <tbody>\n",
       "    <tr>\n",
       "      <th>0</th>\n",
       "      <td>e5_small</td>\n",
       "      <td>384</td>\n",
       "      <td>0.820</td>\n",
       "    </tr>\n",
       "    <tr>\n",
       "      <th>1</th>\n",
       "      <td>e5_large</td>\n",
       "      <td>1024</td>\n",
       "      <td>0.865</td>\n",
       "    </tr>\n",
       "    <tr>\n",
       "      <th>2</th>\n",
       "      <td>OpenAI_ada</td>\n",
       "      <td>1024</td>\n",
       "      <td>0.855</td>\n",
       "    </tr>\n",
       "    <tr>\n",
       "      <th>3</th>\n",
       "      <td>Cohere v3 large</td>\n",
       "      <td>1024</td>\n",
       "      <td>0.855</td>\n",
       "    </tr>\n",
       "    <tr>\n",
       "      <th>4</th>\n",
       "      <td>cohere v3 small</td>\n",
       "      <td>384</td>\n",
       "      <td>0.880</td>\n",
       "    </tr>\n",
       "    <tr>\n",
       "      <th>5</th>\n",
       "      <td>e5_small_finetuned</td>\n",
       "      <td>384</td>\n",
       "      <td>0.845</td>\n",
       "    </tr>\n",
       "  </tbody>\n",
       "</table>\n",
       "</div>"
      ],
      "text/plain": [
       "           model_name  model_dim  k3 % correct\n",
       "0            e5_small        384         0.820\n",
       "1            e5_large       1024         0.865\n",
       "2          OpenAI_ada       1024         0.855\n",
       "3     Cohere v3 large       1024         0.855\n",
       "4     cohere v3 small        384         0.880\n",
       "5  e5_small_finetuned        384         0.845"
      ]
     },
     "execution_count": 85,
     "metadata": {},
     "output_type": "execute_result"
    }
   ],
   "source": [
    "#Gather all the results from the k3 evaluations in a single dataframe, calculated as .sum/len for each model>\n",
    "#Also include the dimensions of the embedding models as a column\n",
    "#Have the model name as a column as well and the score as a column\n",
    "#\n",
    "\"\"\"\n",
    "'model_name'= ['e5_small', 'e5_large', 'oai_ada', 'cohere', 'cohere_light', 'e5_small_finetuned'],\n",
    "    'model_dim'= [384, 1024, 1024, 1024, 384, 384],\n",
    "    'score'= [e5_small_eval_k3_df.is_hit.sum() / len(e5_small_eval_k3_df), e5_large_eval_k3_df.is_hit.sum() / len(e5_large_eval_k3_df), oai_ada_eval_k3_df.is_hit.sum() / len(oai_ada_eval_k3_df), cohere_eval_k3_df.is_hit.sum() / len(cohere_eval_k3_df), cohere_eval_k3_light_df.is_hit.sum() / len(cohere_eval_k3_light_df), e5_small_k3_finetuned.is_hit.sum() / len(e5_small_k3_finetuned)]\n",
    "\"\"\"\n",
    "\n",
    "results = pd.DataFrame({\n",
    "    'model_name': ['e5_small', 'e5_large', 'OpenAI_ada', 'Cohere v3 large', 'cohere v3 small', 'e5_small_finetuned'],\n",
    "    'model_dim': [384, 1024, 1024, 1024, 384, 384],\n",
    "    \"k3 % correct\": [e5_small_eval_k3_df.is_hit.sum() / len(e5_small_eval_k3_df), e5_large_eval_k3_df.is_hit.sum() / len(e5_large_eval_k3_df), oai_ada_eval_k3_df.is_hit.sum() / len(oai_ada_eval_k3_df), cohere_eval_k3_df.is_hit.sum() / len(cohere_eval_k3_df), cohere_eval_k3_light_df.is_hit.sum() / len(cohere_eval_k3_light_df), e5_small_k3_finetuned.is_hit.sum() / len(e5_small_k3_finetuned)]\n",
    "})\n",
    "\n",
    "results"
   ]
  },
  {
   "cell_type": "markdown",
   "metadata": {},
   "source": [
    "# Build retrieval myself"
   ]
  },
  {
   "cell_type": "code",
   "execution_count": null,
   "metadata": {},
   "outputs": [],
   "source": []
  },
  {
   "cell_type": "markdown",
   "metadata": {},
   "source": [
    "## E5 large finetune / Crashes python"
   ]
  },
  {
   "cell_type": "code",
   "execution_count": null,
   "metadata": {},
   "outputs": [],
   "source": [
    "embed_model_hf_large = HuggingFaceEmbedding(\n",
    "    model_name=embed_model_ft,\n",
    "    normalize=True,\n",
    "    #Instruction to prepend query\n",
    "    query_instruction='query:',\n",
    "    #Instruction to prepend text\n",
    "    text_instruction='passage:'\n",
    ")"
   ]
  },
  {
   "cell_type": "code",
   "execution_count": 21,
   "metadata": {},
   "outputs": [],
   "source": [
    "finetune_engine_large = SentenceTransformersFinetuneEngine(\n",
    "    train_dataset,\n",
    "    model_id=\"intfloat/multilingual-e5-large\",\n",
    "    model_output_path=\"models/e5_large\",\n",
    "    val_dataset=test_dataset,\n",
    ")"
   ]
  },
  {
   "cell_type": "code",
   "execution_count": null,
   "metadata": {},
   "outputs": [],
   "source": []
  },
  {
   "cell_type": "code",
   "execution_count": 22,
   "metadata": {},
   "outputs": [
    {
     "data": {
      "application/vnd.jupyter.widget-view+json": {
       "model_id": "53e64afed607495a88406f8f75f312fc",
       "version_major": 2,
       "version_minor": 0
      },
      "text/plain": [
       "Epoch:   0%|          | 0/2 [00:00<?, ?it/s]"
      ]
     },
     "metadata": {},
     "output_type": "display_data"
    },
    {
     "data": {
      "application/vnd.jupyter.widget-view+json": {
       "model_id": "0d24b081b78549b596be5c79b890c5d2",
       "version_major": 2,
       "version_minor": 0
      },
      "text/plain": [
       "Iteration:   0%|          | 0/60 [00:00<?, ?it/s]"
      ]
     },
     "metadata": {},
     "output_type": "display_data"
    },
    {
     "ename": "",
     "evalue": "",
     "output_type": "error",
     "traceback": [
      "\u001b[1;31mThe Kernel crashed while executing code in the the current cell or a previous cell. Please review the code in the cell(s) to identify a possible cause of the failure. Click <a href='https://aka.ms/vscodeJupyterKernelCrash'>here</a> for more info. View Jupyter <a href='command:jupyter.viewOutput'>log</a> for further details."
     ]
    }
   ],
   "source": [
    "finetune_engine_large.finetune()"
   ]
  },
  {
   "cell_type": "code",
   "execution_count": null,
   "metadata": {},
   "outputs": [],
   "source": [
    "embed_model_ft_large = finetune_engine.get_finetuned_model()"
   ]
  },
  {
   "cell_type": "code",
   "execution_count": null,
   "metadata": {},
   "outputs": [],
   "source": [
    "from llama_index.finetuning import EmbeddingAdapterFinetuneEngine\n",
    "from llama_index.embeddings import resolve_embed_model\n",
    "import torch\n",
    "\n",
    "base_embed_model = resolve_embed_model(\"local:BAAI/bge-small-en\")\n",
    "\n",
    "finetune_engine = EmbeddingAdapterFinetuneEngine(\n",
    "    train_dataset,\n",
    "    base_embed_model,\n",
    "    model_output_path=\"model_output_test\",\n",
    "    # bias=True,\n",
    "    epochs=4,\n",
    "    verbose=True,\n",
    "    # optimizer_class=torch.optim.SGD,\n",
    "    # optimizer_params={\"lr\": 0.01}\n",
    ")"
   ]
  },
  {
   "cell_type": "code",
   "execution_count": 77,
   "metadata": {},
   "outputs": [],
   "source": [
    "from llama_index.evaluation import (\n",
    "    DatasetGenerator,\n",
    "    QueryResponseDataset,\n",
    ")"
   ]
  },
  {
   "cell_type": "code",
   "execution_count": null,
   "metadata": {},
   "outputs": [],
   "source": []
  }
 ],
 "metadata": {
  "kernelspec": {
   "display_name": "llm",
   "language": "python",
   "name": "python3"
  },
  "language_info": {
   "codemirror_mode": {
    "name": "ipython",
    "version": 3
   },
   "file_extension": ".py",
   "mimetype": "text/x-python",
   "name": "python",
   "nbconvert_exporter": "python",
   "pygments_lexer": "ipython3",
   "version": "3.11.4"
  }
 },
 "nbformat": 4,
 "nbformat_minor": 2
}
