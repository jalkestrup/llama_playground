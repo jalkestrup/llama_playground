{
 "cells": [
  {
   "cell_type": "markdown",
   "metadata": {},
   "source": [
    "## HeliCone"
   ]
  },
  {
   "cell_type": "code",
   "execution_count": 20,
   "metadata": {},
   "outputs": [],
   "source": [
    "import openai\n",
    "openai.api_base = \"https://oai.hconeai.com/v1\"\n",
    "\n",
    "#Must provide an 'engine' or 'model' parameter to create a <class 'openai.api_resources.completion.Completion'>\n",
    "\n",
    "response_1 = openai.Completion.create(\n",
    "    # ...other parameters\n",
    "    engine=\"gpt-3.5-turbo-instruct\",\n",
    "    max_tokens=256,\n",
    "    temperature=0.0,\n",
    "    prompt='What is a zebra?',\n",
    "    headers={\n",
    "      \"Helicone-Auth\": \"Bearer sk-mmuuuaa-vgyet3q-v23xu4i-niaifuy\",\n",
    "    }\n",
    ")"
   ]
  },
  {
   "cell_type": "code",
   "execution_count": 21,
   "metadata": {},
   "outputs": [
    {
     "data": {
      "text/plain": [
       "'\\n\\nA zebra is a type of African equine mammal known for its distinctive black and white stripes. They are closely related to horses and donkeys, and are known for their social behavior and ability to run at high speeds. Zebras are herbivores and can be found in various habitats throughout Africa. They are also popular animals in zoos and wildlife parks around the world.'"
      ]
     },
     "execution_count": 21,
     "metadata": {},
     "output_type": "execute_result"
    }
   ],
   "source": [
    "response_1.choices[0].text"
   ]
  },
  {
   "cell_type": "code",
   "execution_count": 22,
   "metadata": {},
   "outputs": [
    {
     "data": {
      "text/plain": [
       "<OpenAIObject text_completion id=cmpl-8HZrnAr2SdQibfXXEXXrymyrNX5UE at 0x7f6ab8217290> JSON: {\n",
       "  \"id\": \"cmpl-8HZrnAr2SdQibfXXEXXrymyrNX5UE\",\n",
       "  \"object\": \"text_completion\",\n",
       "  \"created\": 1699200139,\n",
       "  \"model\": \"gpt-3.5-turbo-instruct\",\n",
       "  \"choices\": [\n",
       "    {\n",
       "      \"text\": \"\\n\\nA zebra is a type of African equine mammal known for its distinctive black and white stripes. They are closely related to horses and donkeys, and are known for their social behavior and ability to run at high speeds. Zebras are herbivores and can be found in various habitats throughout Africa. They are also popular animals in zoos and wildlife parks around the world.\",\n",
       "      \"index\": 0,\n",
       "      \"logprobs\": null,\n",
       "      \"finish_reason\": \"stop\"\n",
       "    }\n",
       "  ],\n",
       "  \"usage\": {\n",
       "    \"prompt_tokens\": 6,\n",
       "    \"completion_tokens\": 78,\n",
       "    \"total_tokens\": 84\n",
       "  }\n",
       "}"
      ]
     },
     "execution_count": 22,
     "metadata": {},
     "output_type": "execute_result"
    }
   ],
   "source": [
    "response_1"
   ]
  },
  {
   "cell_type": "code",
   "execution_count": 11,
   "metadata": {},
   "outputs": [],
   "source": [
    "response_2 = openai.ChatCompletion.create(\n",
    "    model=\"gpt-3.5-turbo\",\n",
    "    temperature=0.0,\n",
    "    messages=[\n",
    "        {\"role\": \"user\", \"content\": f\"What is a zebra?\"}\n",
    "    ],\n",
    "    headers={\n",
    "      \"Helicone-Auth\": \"Bearer sk-mmuuuaa-vgyet3q-v23xu4i-niaifuy\",\n",
    "    }\n",
    ")"
   ]
  },
  {
   "cell_type": "code",
   "execution_count": 19,
   "metadata": {},
   "outputs": [
    {
     "data": {
      "text/plain": [
       "'A zebra is a type of wild animal that belongs to the horse family. It is known for its distinctive black and white stripes on its body. Zebras are native to Africa and are found in various habitats such as grasslands, savannas, and woodlands. They are herbivores, feeding on grass, leaves, and bark. Zebras are social animals that live in groups called herds and communicate through vocalizations and body language. They are known for their agility and speed, often using their powerful legs to escape from predators.'"
      ]
     },
     "execution_count": 19,
     "metadata": {},
     "output_type": "execute_result"
    }
   ],
   "source": [
    "response_2.choices[0].message.content"
   ]
  },
  {
   "cell_type": "code",
   "execution_count": 23,
   "metadata": {},
   "outputs": [
    {
     "data": {
      "text/plain": [
       "<OpenAIObject chat.completion id=chatcmpl-8HZjcsnjsmwxf6NEf3QFpiGXymm9K at 0x7f6ab8216ff0> JSON: {\n",
       "  \"id\": \"chatcmpl-8HZjcsnjsmwxf6NEf3QFpiGXymm9K\",\n",
       "  \"object\": \"chat.completion\",\n",
       "  \"created\": 1699199632,\n",
       "  \"model\": \"gpt-3.5-turbo-0613\",\n",
       "  \"choices\": [\n",
       "    {\n",
       "      \"index\": 0,\n",
       "      \"message\": {\n",
       "        \"role\": \"assistant\",\n",
       "        \"content\": \"A zebra is a type of wild animal that belongs to the horse family. It is known for its distinctive black and white stripes on its body. Zebras are native to Africa and are found in various habitats such as grasslands, savannas, and woodlands. They are herbivores, feeding on grass, leaves, and bark. Zebras are social animals that live in groups called herds and communicate through vocalizations and body language. They are known for their agility and speed, often using their powerful legs to escape from predators.\"\n",
       "      },\n",
       "      \"finish_reason\": \"stop\"\n",
       "    }\n",
       "  ],\n",
       "  \"usage\": {\n",
       "    \"prompt_tokens\": 13,\n",
       "    \"completion_tokens\": 110,\n",
       "    \"total_tokens\": 123\n",
       "  }\n",
       "}"
      ]
     },
     "execution_count": 23,
     "metadata": {},
     "output_type": "execute_result"
    }
   ],
   "source": [
    "response_2"
   ]
  },
  {
   "cell_type": "code",
   "execution_count": null,
   "metadata": {},
   "outputs": [],
   "source": []
  },
  {
   "cell_type": "markdown",
   "metadata": {},
   "source": [
    "## PromptLayer\n"
   ]
  },
  {
   "cell_type": "code",
   "execution_count": 25,
   "metadata": {},
   "outputs": [
    {
     "ename": "Exception",
     "evalue": "Please set your PROMPTLAYER_API_KEY environment variable or set API KEY in code using 'promptlayer.api_key = <your_api_key>' ",
     "output_type": "error",
     "traceback": [
      "\u001b[0;31m---------------------------------------------------------------------------\u001b[0m",
      "\u001b[0;31mException\u001b[0m                                 Traceback (most recent call last)",
      "\u001b[1;32m/home/jealk/src/llama_playground/04_llm_platform.ipynb Cell 10\u001b[0m line \u001b[0;36m1\n\u001b[1;32m      <a href='vscode-notebook-cell://wsl%2Bubuntu/home/jealk/src/llama_playground/04_llm_platform.ipynb#X20sdnNjb2RlLXJlbW90ZQ%3D%3D?line=6'>7</a>\u001b[0m openai\u001b[39m.\u001b[39mapi_key \u001b[39m=\u001b[39m os\u001b[39m.\u001b[39menviron\u001b[39m.\u001b[39mget(\u001b[39m\"\u001b[39m\u001b[39mOPENAI_API_KEY\u001b[39m\u001b[39m\"\u001b[39m)\n\u001b[1;32m      <a href='vscode-notebook-cell://wsl%2Bubuntu/home/jealk/src/llama_playground/04_llm_platform.ipynb#X20sdnNjb2RlLXJlbW90ZQ%3D%3D?line=8'>9</a>\u001b[0m \u001b[39m# Do something fun 🚀\u001b[39;00m\n\u001b[0;32m---> <a href='vscode-notebook-cell://wsl%2Bubuntu/home/jealk/src/llama_playground/04_llm_platform.ipynb#X20sdnNjb2RlLXJlbW90ZQ%3D%3D?line=9'>10</a>\u001b[0m openai\u001b[39m.\u001b[39;49mCompletion\u001b[39m.\u001b[39;49mcreate(\n\u001b[1;32m     <a href='vscode-notebook-cell://wsl%2Bubuntu/home/jealk/src/llama_playground/04_llm_platform.ipynb#X20sdnNjb2RlLXJlbW90ZQ%3D%3D?line=10'>11</a>\u001b[0m   engine\u001b[39m=\u001b[39;49m\u001b[39m\"\u001b[39;49m\u001b[39mgpt-3.5-turbo-instruct\u001b[39;49m\u001b[39m\"\u001b[39;49m, \n\u001b[1;32m     <a href='vscode-notebook-cell://wsl%2Bubuntu/home/jealk/src/llama_playground/04_llm_platform.ipynb#X20sdnNjb2RlLXJlbW90ZQ%3D%3D?line=11'>12</a>\u001b[0m   prompt\u001b[39m=\u001b[39;49m\u001b[39m\"\u001b[39;49m\u001b[39mWhat is a zebra?\u001b[39;49m\u001b[39m\"\u001b[39;49m, \n\u001b[1;32m     <a href='vscode-notebook-cell://wsl%2Bubuntu/home/jealk/src/llama_playground/04_llm_platform.ipynb#X20sdnNjb2RlLXJlbW90ZQ%3D%3D?line=12'>13</a>\u001b[0m   pl_tags\u001b[39m=\u001b[39;49m[\u001b[39m\"\u001b[39;49m\u001b[39manimal-q\u001b[39;49m\u001b[39m\"\u001b[39;49m, \u001b[39m\"\u001b[39;49m\u001b[39mpipeline-2\u001b[39;49m\u001b[39m\"\u001b[39;49m]\n\u001b[1;32m     <a href='vscode-notebook-cell://wsl%2Bubuntu/home/jealk/src/llama_playground/04_llm_platform.ipynb#X20sdnNjb2RlLXJlbW90ZQ%3D%3D?line=13'>14</a>\u001b[0m )\n",
      "File \u001b[0;32m~/mambaforge/envs/llm/lib/python3.11/site-packages/promptlayer/promptlayer.py:84\u001b[0m, in \u001b[0;36mPromptLayerBase.__call__\u001b[0;34m(self, *args, **kwargs)\u001b[0m\n\u001b[1;32m     64\u001b[0m     \u001b[39mreturn\u001b[39;00m async_wrapper(\n\u001b[1;32m     65\u001b[0m         function_response,\n\u001b[1;32m     66\u001b[0m         return_pl_id,\n\u001b[0;32m   (...)\u001b[0m\n\u001b[1;32m     72\u001b[0m         \u001b[39m*\u001b[39m\u001b[39m*\u001b[39mkwargs,\n\u001b[1;32m     73\u001b[0m     )\n\u001b[1;32m     74\u001b[0m request_end_time \u001b[39m=\u001b[39m datetime\u001b[39m.\u001b[39mdatetime\u001b[39m.\u001b[39mnow()\u001b[39m.\u001b[39mtimestamp()\n\u001b[1;32m     75\u001b[0m \u001b[39mreturn\u001b[39;00m promptlayer_api_handler(\n\u001b[1;32m     76\u001b[0m     \u001b[39mobject\u001b[39m\u001b[39m.\u001b[39m\u001b[39m__getattribute__\u001b[39m(\u001b[39mself\u001b[39m, \u001b[39m\"\u001b[39m\u001b[39m_function_name\u001b[39m\u001b[39m\"\u001b[39m),\n\u001b[1;32m     77\u001b[0m     \u001b[39mobject\u001b[39m\u001b[39m.\u001b[39m\u001b[39m__getattribute__\u001b[39m(\u001b[39mself\u001b[39m, \u001b[39m\"\u001b[39m\u001b[39m_provider_type\u001b[39m\u001b[39m\"\u001b[39m),\n\u001b[1;32m     78\u001b[0m     args,\n\u001b[1;32m     79\u001b[0m     kwargs,\n\u001b[1;32m     80\u001b[0m     tags,\n\u001b[1;32m     81\u001b[0m     function_response,\n\u001b[1;32m     82\u001b[0m     request_start_time,\n\u001b[1;32m     83\u001b[0m     request_end_time,\n\u001b[0;32m---> 84\u001b[0m     get_api_key(),\n\u001b[1;32m     85\u001b[0m     return_pl_id\u001b[39m=\u001b[39mreturn_pl_id,\n\u001b[1;32m     86\u001b[0m )\n",
      "File \u001b[0;32m~/mambaforge/envs/llm/lib/python3.11/site-packages/promptlayer/utils.py:23\u001b[0m, in \u001b[0;36mget_api_key\u001b[0;34m()\u001b[0m\n\u001b[1;32m     20\u001b[0m \u001b[39mdef\u001b[39;00m \u001b[39mget_api_key\u001b[39m():\n\u001b[1;32m     21\u001b[0m     \u001b[39m# raise an error if the api key is not set\u001b[39;00m\n\u001b[1;32m     22\u001b[0m     \u001b[39mif\u001b[39;00m promptlayer\u001b[39m.\u001b[39mapi_key \u001b[39mis\u001b[39;00m \u001b[39mNone\u001b[39;00m:\n\u001b[0;32m---> 23\u001b[0m         \u001b[39mraise\u001b[39;00m \u001b[39mException\u001b[39;00m(\n\u001b[1;32m     24\u001b[0m             \u001b[39m\"\u001b[39m\u001b[39mPlease set your PROMPTLAYER_API_KEY environment variable or set API KEY in code using \u001b[39m\u001b[39m'\u001b[39m\u001b[39mpromptlayer.api_key = <your_api_key>\u001b[39m\u001b[39m'\u001b[39m\u001b[39m \u001b[39m\u001b[39m\"\u001b[39m\n\u001b[1;32m     25\u001b[0m         )\n\u001b[1;32m     26\u001b[0m     \u001b[39melse\u001b[39;00m:\n\u001b[1;32m     27\u001b[0m         \u001b[39mreturn\u001b[39;00m promptlayer\u001b[39m.\u001b[39mapi_key\n",
      "\u001b[0;31mException\u001b[0m: Please set your PROMPTLAYER_API_KEY environment variable or set API KEY in code using 'promptlayer.api_key = <your_api_key>' "
     ]
    }
   ],
   "source": [
    "import promptlayer\n",
    "import os\n",
    "promptlayer.api_key = os.environ.get(\"PROMPTLAYER_API_KEY\")\n",
    "\n",
    "# Swap out your 'import openai'\n",
    "openai = promptlayer.openai\n",
    "openai.api_key = os.environ.get(\"OPENAI_API_KEY\")\n",
    "\n",
    "# Do something fun 🚀\n",
    "openai.Completion.create(\n",
    "  engine=\"gpt-3.5-turbo-instruct\", \n",
    "  prompt=\"What is a zebra?\", \n",
    "  pl_tags=[\"animal-q\", \"pipeline-2\"]\n",
    ")"
   ]
  },
  {
   "cell_type": "code",
   "execution_count": null,
   "metadata": {},
   "outputs": [],
   "source": []
  }
 ],
 "metadata": {
  "kernelspec": {
   "display_name": "llm",
   "language": "python",
   "name": "python3"
  },
  "language_info": {
   "codemirror_mode": {
    "name": "ipython",
    "version": 3
   },
   "file_extension": ".py",
   "mimetype": "text/x-python",
   "name": "python",
   "nbconvert_exporter": "python",
   "pygments_lexer": "ipython3",
   "version": "3.11.4"
  }
 },
 "nbformat": 4,
 "nbformat_minor": 2
}
