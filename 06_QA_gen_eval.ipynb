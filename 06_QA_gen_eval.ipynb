{
 "cells": [
  {
   "cell_type": "code",
   "execution_count": 1,
   "metadata": {},
   "outputs": [],
   "source": [
    "import os\n",
    "from dotenv import load_dotenv\n",
    "\n",
    "load_dotenv(override=True)\n",
    "\n",
    "OPENAI_API_KEY = os.environ.get(\"OPENAI_API_KEY\")"
   ]
  },
  {
   "cell_type": "markdown",
   "metadata": {},
   "source": [
    "## Loading CSVs into dict"
   ]
  },
  {
   "cell_type": "code",
   "execution_count": 2,
   "metadata": {},
   "outputs": [],
   "source": [
    "# Reload vejledninger_html_2-11-2023.csv into vejledninger_html_dict as key,value pairs\n",
    "import csv\n",
    "import sys\n",
    "csv.field_size_limit(sys.maxsize)\n",
    "\n",
    "vejledninger_tekst_dict = {}\n",
    "csv_file_path = 'data/vejledninger_tekst_8-11-2023.csv'\n",
    "with open(csv_file_path, 'r', newline='', encoding='utf-8') as f:\n",
    "    reader = csv.reader(f)\n",
    "    #Skip first row\n",
    "    next(reader)\n",
    "\n",
    "    for row in reader:\n",
    "        key = row[0]\n",
    "        value = row[1]\n",
    "        vejledninger_tekst_dict[key] = value"
   ]
  },
  {
   "cell_type": "code",
   "execution_count": 3,
   "metadata": {},
   "outputs": [
    {
     "name": "stdout",
     "output_type": "stream",
     "text": [
      "A total of 431 vejledninger were loaded into vejledninger_html_dict.\n"
     ]
    }
   ],
   "source": [
    "print(f'A total of {len(vejledninger_tekst_dict)} vejledninger were loaded into vejledninger_html_dict.')"
   ]
  },
  {
   "cell_type": "code",
   "execution_count": 39,
   "metadata": {},
   "outputs": [
    {
     "data": {
      "text/plain": [
       "'Vejledning om ret til dagpenge efter barselsloven ved pasning af alvorligt syge børn\\nIndhold\\n1.Indledning\\n2.Personkreds\\n2.1.Forældre/adoptivforældre\\n3.Betingelser for ret til dagpenge ved pasning af alvorligt syge børn\\n3.1.Alvorligt syge børn under 18 år\\n3.2.Barnets sygdom skønnes at medføre ophold på hospital i mindst 12 dage\\n3.2.1.Behandling eller pleje i hjemmet\\n3.2.2.Lempeligere regel for enlige forsørgere\\n3.3.Dokumentation - Lægeattestation\\n3.4.Beskæftigelseskrav\\n4.Administration\\n4.1.Udbetaling Danmark\\n4.2.Ansøgning om dagpenge\\n4.2.1.Lønmodtagere og lediges ansøgning om dagpenge\\n4.2.2.Selvstændigt erhvervsdrivendes ansøgning om dagpenge\\n4.2.3.Frist for ansøgning\\n4.2.3.1.Dispensation for overskridelse af fristen for lønmodtagere og ledige\\n4.2.3.2.Dispensation for overskridelse af fristen for selvstændigt erhvervsdrivende\\n4.2.4.Arbejdsgivers ret til refusion/frist for ansøgning og dispensation fra fristen\\n5.Udbetaling/Beregning af dagpenge\\n5.1.Almindelige betingelser for udbetaling af dagpenge\\n5.2.Fordelingen af dagpenge mellem forældrene\\n5.3.Udbetaling med et højere beløb\\n5.4.Ophør af dagpenge til pasning af alvorligt syge børn\\n\\n1.Indledning\\nI denne vejledning beskrives reglerne om ret til dagpenge ved pasning af alvorligt syge børn i barselsloven, hvorefter forældre med alvorligt syge børn under 18 år har ret til dagpenge fra Udbetaling Danmark, hvis de i forbindelse med barnets sygdom helt eller delvis opgiver lønarbejde eller personligt arbejde i selvstændig virksomhed.\\nVejledningen knytter sig til både bekendtgørelse nr. 843 af 25. juni 2018 om ret til barselsdagpenge (for forældre til et barn, der er født før den 2. august 2022), og til bekendtgørelse nr. 427 af 5. april 2022 om ret til barselsdagpenge for forældre til et barn, der er født eller modtaget fra den 2. august 2022. I begge bekendtgørelser er der bl.a. fastsat nærmere regler om fordelingen af dagpenge mellem forældrene, hvis forældrene ikke er enige om fordelingen, samt frister for forældrenes anmodning om udbetaling af dagpenge til Udbetaling Danmark.\\nNår der i vejledningen henvises til reglerne i én af bekendtgørelserne, henvises til bekendtgørelsen med det relevante nummer. Vejledningen erstatter vejledning nr. 9615 af 30. juni 2017 om ret til dagpenge efter barselsloven ved pasning af alvorligt syge børn.\\nRetten til dagpenge ved pasning af alvorligt syge børn fremgår af barselslovens § 26.\\nBarselslovens § 26 giver ikke forældrene ret til fravær. Retten til fravær kan derimod fremgå af en kollektiv eller individuel aftale, men den kan også fremgå af anden lovgivning, herunder lov om lønmodtageres ret til fravær fra arbejde af særlige familiemæssige årsager. Det bemærkes i den forbindelse, at der ikke er sammenhæng mellem retten til fravær og ret til dagpenge efter barselslovens regler.\\nForældre, der er omfattet af barselslovens § 26, kan samtidig være eller blive omfattet af den personkreds, der efter lov om social service (serviceloven) kan modtage godtgørelse for tabt ar'"
      ]
     },
     "execution_count": 39,
     "metadata": {},
     "output_type": "execute_result"
    }
   ],
   "source": [
    "vejledninger_tekst_dict['Vejledning om ret til dagpenge efter barselsloven ved pasning af alvorligt syge børn'][0:3000]"
   ]
  },
  {
   "cell_type": "markdown",
   "metadata": {},
   "source": [
    "### Load into Llamaindex documents\n",
    "Esentially just dicts with text and metadata"
   ]
  },
  {
   "cell_type": "code",
   "execution_count": 110,
   "metadata": {},
   "outputs": [
    {
     "data": {
      "text/plain": [
       "431"
      ]
     },
     "execution_count": 110,
     "metadata": {},
     "output_type": "execute_result"
    }
   ],
   "source": [
    "from llama_index import Document\n",
    "documents_vejledninger = [Document(text=content, metadata={\"file_name\": name}) for name, content in vejledninger_tekst_dict.items()]\n",
    "len(documents_vejledninger)"
   ]
  },
  {
   "cell_type": "code",
   "execution_count": 111,
   "metadata": {},
   "outputs": [
    {
     "data": {
      "text/plain": [
       "{'file_name': 'Vejledning om beskæftigelseskravet for ret til barselsdagpenge'}"
      ]
     },
     "execution_count": 111,
     "metadata": {},
     "output_type": "execute_result"
    }
   ],
   "source": [
    "documents_vejledninger[0].metadata"
   ]
  },
  {
   "cell_type": "code",
   "execution_count": 112,
   "metadata": {},
   "outputs": [
    {
     "data": {
      "text/plain": [
       "'Vejledning om beskæftigelseskravet for ret til barselsdagpenge\\n\\n1.Indledning\\nI denne vejledning beskrives hvilke beskæftigelseskrav, der gælder for at opnå ret til barselsdagpenge. Reglerne findes i §§ 27-29 i barselsloven (loven).\\n\\nI bekendtgørelse nr. 1090 af 1. juni 2021 om opgørelse af beskæftigelseskrav og beregning af barselsdagpenge m.v. (bekendtgørelsen) er fastsat nærmere regler om opgørelsen af beskæftigelseskravet.\\n\\nDenne vejledning erstatter vejledning nr. 10066 af 29. december 2020 '"
      ]
     },
     "execution_count": 112,
     "metadata": {},
     "output_type": "execute_result"
    }
   ],
   "source": [
    "documents_vejledninger[0].text[0:500]"
   ]
  },
  {
   "cell_type": "markdown",
   "metadata": {},
   "source": [
    "## Chunking text\n",
    "First parsing the data into nodes (llamaindex way of structuring data, including the relation to other nodes, embedding info etc.)"
   ]
  },
  {
   "cell_type": "code",
   "execution_count": 53,
   "metadata": {},
   "outputs": [
    {
     "data": {
      "application/vnd.jupyter.widget-view+json": {
       "model_id": "ebcaad2e37464a3abee0d9f26bd3000b",
       "version_major": 2,
       "version_minor": 0
      },
      "text/plain": [
       "Parsing nodes:   0%|          | 0/431 [00:00<?, ?it/s]"
      ]
     },
     "metadata": {},
     "output_type": "display_data"
    },
    {
     "name": "stderr",
     "output_type": "stream",
     "text": [
      "Token indices sequence length is longer than the specified maximum sequence length for this model (16295 > 512). Running this sequence through the model will result in indexing errors\n"
     ]
    }
   ],
   "source": [
    "from llama_index.node_parser import SentenceSplitter\n",
    "from transformers import AutoTokenizer\n",
    "\n",
    "#Setting max length and defining tokenizer as intended embedding model (e5)\n",
    "node_parser = SentenceSplitter(chunk_size=512, \n",
    "                               chunk_overlap=0, \n",
    "                               #paragraph_separator=\"\\n\\n\", \n",
    "                               tokenizer=AutoTokenizer.from_pretrained('intfloat/e5-base-v2').tokenize\n",
    "                               )\n",
    "\n",
    "\n",
    "nodes_vejledninger = node_parser.get_nodes_from_documents(\n",
    "    documents_vejledninger, show_progress=True\n",
    ")"
   ]
  },
  {
   "cell_type": "code",
   "execution_count": 54,
   "metadata": {},
   "outputs": [
    {
     "data": {
      "text/plain": [
       "'2\\nTimer, som lønmodtageren har arbejdet som selvstændig erhvervsdrivende i 4 måneders perioden kan efter omstændighederne medregnes ved opgørelsen af kravet om 160 timers beskæftigelse. Det kræver, at lønmodtageren er overgået fra selvstændig erhvervsvirksomhed til lønmodtagerbeskæftigelse i løbet af 4 måneders perioden, og lønmodtager med virksomheden har opfyldt beskæftigelseskravet efter lovens § 28.\\n\\nDet fremgår af § 3, stk. 3, i bekendtgørelsen, at antallet af timer, der kan medregnes, som udgangspunkt er 18 ½ time pr. uge. Dog kan medregnes yderligere timer, såfremt timetallet i virksomheden kan dokumenteres af lønmodtageren.\\n\\nEksempel: Borger opfylder ikke beskæftigelseskravet med de indberettede timer i indkomstregistret. Borger kan dokumentere at have arbejdet som selvstændig i 22 timer ugentligt. Derfor medregnes 22 timer ugentligt i opgørelsen af beskæftigelseskravet som lønmodtager.\\n\\n2.1.2.3.Sygedagpenge og dagpenge efter barselsloven - § 27, stk. 2, nr.'"
      ]
     },
     "execution_count": 54,
     "metadata": {},
     "output_type": "execute_result"
    }
   ],
   "source": [
    "nodes_vejledninger[9].text"
   ]
  },
  {
   "cell_type": "code",
   "execution_count": 56,
   "metadata": {},
   "outputs": [
    {
     "data": {
      "image/png": "[encoded data removed]",
      "text/plain": [
       "<Figure size 640x480 with 1 Axes>"
      ]
     },
     "metadata": {},
     "output_type": "display_data"
    }
   ],
   "source": [
    "### Use HF tokenizer to verify length\n",
    "from transformers import AutoTokenizer, AutoModel\n",
    "tokenizer = AutoTokenizer.from_pretrained('intfloat/e5-base-v2')\n",
    "token_counts = []\n",
    "for text in [node.text for node in nodes_vejledninger]:\n",
    "    token_counts.append(len(tokenizer.tokenize(text)))\n",
    "\n",
    "# Efficient batch processing to tokenize all texts\n",
    "# batch_dict = tokenizer([node.text for node in nodes_vejledninger], max_length=512, padding=True, truncation=True, return_tensors='pt')\n",
    "\n",
    "#Plot a histogram of the length of the text in all nodes\n",
    "import matplotlib.pyplot as plt\n",
    "import numpy as np\n",
    "text_len = token_counts\n",
    "plt.hist(text_len, bins=100)\n",
    "plt.title('Histogram of text length in nodes')\n",
    "plt.xlabel('Token length')\n",
    "plt.ylabel('Number of chunks')\n",
    "plt.show()"
   ]
  },
  {
   "cell_type": "code",
   "execution_count": 58,
   "metadata": {},
   "outputs": [
    {
     "name": "stdout",
     "output_type": "stream",
     "text": [
      "Example 1 of texts under 100 tokens:\n",
      "At-meddelelse 2.01.2 om gaffeltruckførercertifikat ophæves den 31. december 2017.\n",
      "\n",
      "Arbejdstilsynet, den 22. november 2017\n",
      "\n",
      "\n",
      "Example 2 of texts under 100 tokens:\n",
      "Arbejdstilsynet, den 1. december  \n",
      "\n",
      " 2001\n",
      "Jens Jensen\n",
      "\n",
      "Læs også Arbejdstilsynets vejledninger om:\n",
      "(1)  \n",
      "\n",
      " \t  \n",
      "\n",
      " Asbest\n",
      "(1)  \n",
      "\n",
      " \t  \n",
      "\n",
      " Sandblæsning\n",
      "(1)  \n",
      "\n",
      " \t  \n",
      "\n",
      " Bly\n",
      "(2)  \n",
      "\n",
      " \t  \n",
      "\n",
      " Højtryksrenseanlæg\n",
      "\n",
      "\n",
      "Example 3 of texts under 100 tokens:\n",
      ":\n",
      "Branchefællesskaberne for arbejdsmiljøs vejledninger kan findes på www.bfa-web.dk\n",
      "\n",
      "At-vejledning  B. 4.11 - November 2009 - Opstilling og opstillingskontrol af trykbærende udstyr og enheder, bortfalder.\n",
      "\n",
      "Arbejdstilsynet, den 13. september 2019\n",
      "\n",
      "\n",
      "Example 4 of texts under 100 tokens:\n",
      "Læs også branchearbejdsmiljørådenes vejledninger mv.:\n",
      "Branchearbejdsmiljørådenes vejledninger kan findes på www.bar-web.dk\n",
      "Arbejdstilsynet, den 30. september 2016\n",
      "\n",
      "\n",
      "Example 5 of texts under 100 tokens:\n",
      "Branchearbejdsmiljørådenes vejledninger kan findes på www.bar-web.dk\n",
      "\n",
      "Arbejdstilsynet, den 1. januar 2008\n",
      "\n",
      "\n"
     ]
    }
   ],
   "source": [
    "#Print first 5 examples of texts under 100 tokens\n",
    "for i in range(5):\n",
    "    print(f'Example {i+1} of texts under 100 tokens:')\n",
    "    print([node.text for node in nodes_vejledninger if len(tokenizer.tokenize(node.text)) < 100][i])\n",
    "    print('\\n')"
   ]
  },
  {
   "attachments": {
    "image-2.png": {
     "image/png": "[encoded data removed]"
    },
    "image.png": {
     "image/png": "[encoded data removed]"
    }
   },
   "cell_type": "markdown",
   "metadata": {},
   "source": [
    "**Short texts, what's happening?**\n",
    "\n",
    "I inspected a few samples of the <100 token texts, and they all seem simply to be the end of documents, where this part likely could not fit into the context window of the previous chunk.\n",
    "\n",
    "2 examples below,\n",
    "\n",
    "![image.png](attachment:image.png)\n",
    "\n",
    "\n",
    "![image-2.png](attachment:image-2.png)"
   ]
  },
  {
   "cell_type": "markdown",
   "metadata": {},
   "source": [
    "### Discarding short chunks\n",
    "Discard any chunks less than 150 tokens long"
   ]
  },
  {
   "cell_type": "code",
   "execution_count": 63,
   "metadata": {},
   "outputs": [],
   "source": [
    "nodes_vejledninger_filtered = [node for node in nodes_vejledninger if len(tokenizer.tokenize(node.text)) > 150]"
   ]
  },
  {
   "cell_type": "code",
   "execution_count": 65,
   "metadata": {},
   "outputs": [
    {
     "data": {
      "text/plain": [
       "'Vejledning om beskæftigelseskravet for ret til barselsdagpenge\\n\\n1.Indledning\\nI denne vejledning beskrives hvilke beskæftigelseskrav, der gælder for at opnå ret til barselsdagpenge. Reglerne findes i §§ 27-29 i barselsloven (loven).\\n\\nI bekendtgørelse nr. 1090 af 1. juni 2021 om opgørelse af beskæftigelseskrav og beregning af barselsdagpenge m.v. (bekendtgørelsen) er fastsat nærmere regler om opgørelsen af beskæftigelseskravet.\\n\\nDenne vejledning erstatter vejledning nr. 10066 af 29. december 2020 om beskæftigelseskravet for ret til barselsdagpenge.\\n\\nEn lønmodtager har ret til barselsdagpenge, hvis pågældende opfylder ét af de fem krav om tilknytning til arbejdsmarkedet, der er nævnt i lovens § 27, stk. 1.\\n\\nKravet om aktuel beskæftigelse dagen før fraværet eller på første fraværsdag samt beskæftigelse i mindst 160 timer indberettet i indkomstregistret inden for de seneste 4 afsluttede kalendermåneder forud for fraværsperioden, jf. lovens § 27, stk. 1, nr. 1, er beskrevet i pkt. 2.1.\\n\\nKravet om at ville have været berettiget til arbejdsløshedsdagpenge eller en ydelse, der træder i stedet herfor, jf. lov om arbejdsløshedsforsikring m.v., jf.'"
      ]
     },
     "execution_count": 65,
     "metadata": {},
     "output_type": "execute_result"
    }
   ],
   "source": [
    "nodes_vejledninger_filtered[0].text"
   ]
  },
  {
   "cell_type": "code",
   "execution_count": 67,
   "metadata": {},
   "outputs": [
    {
     "name": "stdout",
     "output_type": "stream",
     "text": [
      "We now have 17284 chunks of text to generate questions from\n"
     ]
    }
   ],
   "source": [
    "print(f'We now have {len(nodes_vejledninger_filtered)} chunks of text to generate questions from')"
   ]
  },
  {
   "cell_type": "markdown",
   "metadata": {},
   "source": [
    "## Generate Q for retrieval performance evaluation"
   ]
  },
  {
   "cell_type": "markdown",
   "metadata": {},
   "source": [
    "**Write the Question gen prompt template**"
   ]
  },
  {
   "cell_type": "code",
   "execution_count": 68,
   "metadata": {},
   "outputs": [],
   "source": [
    "from llama_index.prompts import PromptTemplate\n",
    "\n",
    "# Define your custom prompt template in Danish\n",
    "qa_sagsbehandler_tmlp = (\n",
    "\"\"\" Nedenfor er et uddrag (kontekst) fra en længere tekst:\n",
    "---------------------\n",
    "{context_str}\n",
    "---------------------\n",
    "Givet ovenstående uddrag (kontekst) og ingen forudgående viden, er din opgave at generere spørgsmål til teksten.\n",
    "Du er en erfaren sagsbehandler, og din opgave er at stille præcis {num_questions_per_chunk} spørgsmål til teksten.\n",
    "Spørgsmålene skal være af forskellig karakter og dække teksten bredt, men stilles i et sprog som en borger uden juridisk ekspertise kan forstå.\n",
    "Svaret til spørgsmålet, skal kunne findes i ovenstående uddrag (kontekst).\n",
    "\"\"\"\n",
    ")\n",
    "\n",
    "qa_sagsbehandler_tmlp = PromptTemplate(qa_sagsbehandler_tmlp)"
   ]
  },
  {
   "cell_type": "markdown",
   "metadata": {},
   "source": [
    "**Generate the questions**"
   ]
  },
  {
   "cell_type": "code",
   "execution_count": 69,
   "metadata": {},
   "outputs": [
    {
     "name": "stderr",
     "output_type": "stream",
     "text": [
      "100%|██████████| 300/300 [14:22<00:00,  2.88s/it]\n"
     ]
    }
   ],
   "source": [
    "from llama_index.finetuning import generate_qa_embedding_pairs\n",
    "from llama_index.llms import OpenAI\n",
    "\n",
    "# define LLM\n",
    "llm_oai = OpenAI(temperature=0.0, model=\"gpt-3.5-turbo\")\n",
    "\n",
    "qa_dataset = generate_qa_embedding_pairs(qa_generate_prompt_tmpl=qa_sagsbehandler_tmlp,\n",
    "                                            llm=llm_oai,\n",
    "                                            nodes=nodes_vejledninger_filtered[0:300], \n",
    "                                            num_questions_per_chunk=2)"
   ]
  },
  {
   "cell_type": "markdown",
   "metadata": {},
   "source": [
    "**Example of generated questions**"
   ]
  },
  {
   "cell_type": "code",
   "execution_count": 95,
   "metadata": {},
   "outputs": [
    {
     "name": "stdout",
     "output_type": "stream",
     "text": [
      "Spørgsmål:\n",
      " Hvad er de fem krav om tilknytning til arbejdsmarkedet, som en lønmodtager skal opfylde for at have ret til barselsdagpenge? \n",
      "\n",
      "Chunk:\n",
      " Vejledning om beskæftigelseskravet for ret til barselsdagpenge\n",
      "\n",
      "1.Indledning\n",
      "I denne vejledning beskrives hvilke beskæftigelseskrav, der gælder for at opnå ret til barselsdagpenge. Reglerne findes i §§ 27-29 i barselsloven (loven).\n",
      "\n",
      "I bekendtgørelse nr. 1090 af 1. juni 2021 om opgørelse af beskæftigelseskrav og beregning af barselsdagpenge m.v. (bekendtgørelsen) er fastsat nærmere regler om opgørelsen af beskæftigelseskravet.\n",
      "\n",
      "Denne vejledning erstatter vejledning nr. 10066 af 29. december 2020 om beskæftigelseskravet for ret til barselsdagpenge.\n",
      "\n",
      "En lønmodtager har ret til barselsdagpenge, hvis pågældende opfylder ét af de fem krav om tilknytning til arbejdsmarkedet, der er nævnt i lovens § 27, stk. 1.\n",
      "\n",
      "Kravet om aktuel beskæftigelse dagen før fraværet eller på første fraværsdag samt beskæftigelse i mindst 160 timer indberettet i indkomstregistret inden for de seneste 4 afsluttede kalendermåneder forud for fraværsperioden, jf. lovens § 27, stk. 1, nr. 1, er beskrevet i pkt. 2.1.\n",
      "\n",
      "Kravet om at ville have været berettiget til arbejdsløshedsdagpenge eller en ydelse, der træder i stedet herfor, jf. lov om arbejdsløshedsforsikring m.v., jf. \n",
      "\n"
     ]
    }
   ],
   "source": [
    "for query_id, query in qa_dataset.queries.items():\n",
    "    node_id = qa_dataset.relevant_docs[query_id][0]\n",
    "    text = qa_dataset.corpus[node_id]\n",
    "    print(f'Spørgsmål:\\n {query} \\n')\n",
    "    print(f'Chunk:\\n {text} \\n')\n",
    "    break"
   ]
  },
  {
   "cell_type": "markdown",
   "metadata": {},
   "source": [
    "**Save / Load Q&A dataset**"
   ]
  },
  {
   "cell_type": "code",
   "execution_count": 70,
   "metadata": {},
   "outputs": [],
   "source": [
    "#Save qa_dataset as json\n",
    "qa_dataset.save_json(\"data/qa_dataset_21-11-23_300_samples.json\")"
   ]
  },
  {
   "cell_type": "code",
   "execution_count": null,
   "metadata": {},
   "outputs": [],
   "source": [
    "from llama_index.finetuning import EmbeddingQAFinetuneDataset\n",
    "# Load the datasets from saved json files\n",
    "#qa_dataset = EmbeddingQAFinetuneDataset.from_json(\"data/qa_dataset_21-11-23_300_samples.json\")"
   ]
  },
  {
   "cell_type": "markdown",
   "metadata": {},
   "source": [
    "## Set up the retriever\n",
    "Vector db, embedding etc. for evaluation of retrieval"
   ]
  },
  {
   "cell_type": "code",
   "execution_count": 71,
   "metadata": {},
   "outputs": [],
   "source": [
    "from llama_index.embeddings.huggingface import HuggingFaceEmbedding\n",
    "\n",
    "embed_model_hf = HuggingFaceEmbedding(\n",
    "    model_name='intfloat/multilingual-e5-small',\n",
    "    normalize=True,\n",
    "    #Instruction to prepend query\n",
    "    query_instruction='query:',\n",
    "    #Instruction to prepend text\n",
    "    text_instruction='passage:'\n",
    "    \n",
    "    #Or loading default values via\n",
    "    #embed_model=\"local:intfloat/multilingual-e5-small\"\n",
    ")"
   ]
  },
  {
   "cell_type": "code",
   "execution_count": 72,
   "metadata": {},
   "outputs": [],
   "source": [
    "from llama_index import ServiceContext\n",
    "\n",
    "service_context_e5 = ServiceContext.from_defaults(embed_model= embed_model_hf)"
   ]
  },
  {
   "cell_type": "code",
   "execution_count": 73,
   "metadata": {},
   "outputs": [],
   "source": [
    "from llama_index.embeddings.openai import OpenAIEmbedding\n",
    "from llama_index import ServiceContext\n",
    "\n",
    "embed_model_oai= OpenAIEmbedding(\n",
    "    mode=\"text_search\",  # default, alternatively set to \"similarity\"\n",
    "    model=\"text-embedding-ada-002\"  # default\n",
    ")"
   ]
  },
  {
   "cell_type": "code",
   "execution_count": 74,
   "metadata": {},
   "outputs": [],
   "source": [
    "service_context_ada = ServiceContext.from_defaults(embed_model= embed_model_oai)"
   ]
  },
  {
   "cell_type": "code",
   "execution_count": 75,
   "metadata": {},
   "outputs": [
    {
     "data": {
      "application/vnd.jupyter.widget-view+json": {
       "model_id": "a5df07919fcb4ff4a5568b4396bba6b2",
       "version_major": 2,
       "version_minor": 0
      },
      "text/plain": [
       "Generating embeddings:   0%|          | 0/300 [00:00<?, ?it/s]"
      ]
     },
     "metadata": {},
     "output_type": "display_data"
    }
   ],
   "source": [
    "from llama_index import VectorStoreIndex\n",
    "\n",
    "vector_index_e5 = VectorStoreIndex(nodes_vejledninger_filtered[0:300], service_context=service_context_e5, show_progress=True)"
   ]
  },
  {
   "cell_type": "code",
   "execution_count": 79,
   "metadata": {},
   "outputs": [
    {
     "data": {
      "application/vnd.jupyter.widget-view+json": {
       "model_id": "1a3aca49a4b1473c93b44d72c13a66c4",
       "version_major": 2,
       "version_minor": 0
      },
      "text/plain": [
       "Generating embeddings:   0%|          | 0/300 [00:00<?, ?it/s]"
      ]
     },
     "metadata": {},
     "output_type": "display_data"
    }
   ],
   "source": [
    "vector_index_ada = VectorStoreIndex(nodes_vejledninger_filtered[0:300], service_context=service_context_ada, show_progress=True)"
   ]
  },
  {
   "cell_type": "markdown",
   "metadata": {},
   "source": [
    "**Simple retriever test**"
   ]
  },
  {
   "cell_type": "code",
   "execution_count": 76,
   "metadata": {},
   "outputs": [
    {
     "data": {
      "text/plain": [
       "'Kurser – tillæring af nye kompetencer\\n\\nAfsnit B: Hjælpemidler\\n\\n7.Lovhjemmel\\nArbejdsskadesikringslovens § 15 har følgende ordlyd:\\n\\n§ 15.Under sagens behandling kan udgifter til sygebehandling eller optræning betales, hvis det er nødvendigt for at opnå bedst mulig helbredelse, når udgifterne ikke kan afholdes efter sundhedsloven eller som led i behandlingen på offentligt sygehus.Optræningen skal foretages som efterbehandling under lægelig kontrol i umiddelbar tilknytning til sygebehandlingen.\\nStk. 2.Under sagens behandling kan udgifter til anskaffelse af proteser, briller og lignende hjælpemidler samt kørestole betales, når det er nødvendigt for at sikre sygebehandlingens eller genoptræningens resultater, for at formindske arbejdsskadens følger eller for nøjere at kunne bestemme omfanget af erhvervsevnetabet og graden af varigt mén.\\nStk. 3.Erstatning for fremtidige udgifter til helbredelse, optræning og hjælpemidler som følge af arbejdsskaden fastsættes til et engangsbeløb.Ved permanente udgifter udgør beløbet den forventede, gennemsnitlige årlige udgift ganget med den kapitaliseringsfaktor, der er fastsat i medfør af § 27 stk. 4, for tab af erhvervsevne.\\nStk. 4.Er et hjælpemiddel som nævnt i stk.'"
      ]
     },
     "execution_count": 76,
     "metadata": {},
     "output_type": "execute_result"
    }
   ],
   "source": [
    "nodes_vejledninger_filtered[150].text"
   ]
  },
  {
   "cell_type": "code",
   "execution_count": 96,
   "metadata": {},
   "outputs": [
    {
     "data": {
      "text/markdown": [
       "**Node ID:** 3c58f4fc-d0c4-4448-ae21-2e76a63ab842<br>**Similarity:** 0.925248919214829<br>**Text:** Det er kun tilskadekomnes egentlige udgifter, der kan dækkes, det vil sige den del af regningen, som ikke betales af det offentlige og eventuelle private sygeforsikringer, for eksempel Sygeforsikringen ”danmark ”.\n",
       "\n",
       "Fysioterapi, biomekanisk bevægelsesterapi og kiropraktorbehandling\n",
       "Udgifter til fysioterapi og kiropraktorbehandling kan dækkes, når der er tidsmæssig sammenhæng mellem arbejdsskaden og smerternes opståen og behandlingerne udføres af en autoriseret fysioterapeut eller kiropraktor. Behandlingerne skal efter en konkret vurdering af skadens art og omfang dækkes, når behandlingen er nødvendig for at opnå den bedst mulige optræning eller helbredelse af skadens følger.\n",
       "\n",
       "Det er altid en konkret vurdering, i hvor lang tid og i hvilket omfang behandlingen er nødvendig for at mindske arbejdsskadens følger mest muligt. Normalt dækkes op til 20-30 behandlinger i de første 12 måneder efter skaden. Hvis tilskadekomne på grund af arbejdsskaden gennemgår en operation, vil vedkommende ige...<br>"
      ],
      "text/plain": [
       "<IPython.core.display.Markdown object>"
      ]
     },
     "metadata": {},
     "output_type": "display_data"
    },
    {
     "data": {
      "text/markdown": [
       "**Node ID:** 781390a6-32f2-495a-ab7a-61e8b9aeabc4<br>**Similarity:** 0.9251693486944544<br>**Text:** 2, kan anskaffelsen af proteser, briller og lignende hjælpemidler samt kørestole betales under sagens behandling:\n",
       "\n",
       "–hvis anskaffelsen er nødvendig for at sikre sygebehandlingens eller genoptræningens resultater, eller\n",
       "–for at formindske arbejdsskadens følger, eller\n",
       "–for nøjere at kunne bestemme omfanget af erhvervsevnetabet og/eller graden af det varige mén\n",
       "\n",
       "Det er således en betingelse, at hjælpemidlet er anskaffet som følge af en skade, der er anerkendt eller vil kunne anerkendes som en arbejdsskade.\n",
       "\n",
       "Hjælpemidlet skal være anskaffet for at erstatte tabet eller bedre funktionen af en legemsdel, der er beskadiget ved arbejdsskaden, og skal som udgangspunkt være individuelt fremstillet eller tilpasset.\n",
       "\n",
       "7.1.1.Forholdet til anden lovgivning\n",
       "I modsætning til § 15, stk. 1, er bestemmelsen i stk. 2 primær i forhold til anden lovgivning. Hvis der tilkendes erstatning for fremtidige udgifter til hjælpemidler efter § 15, stk. 3, vil denne erstatning ligeledes være primær i forhold til erst...<br>"
      ],
      "text/plain": [
       "<IPython.core.display.Markdown object>"
      ]
     },
     "metadata": {},
     "output_type": "display_data"
    },
    {
     "data": {
      "text/markdown": [
       "**Node ID:** ef7702f0-fc10-406c-9531-e4e561da1c49<br>**Similarity:** 0.9215471446008795<br>**Text:** Alternativ behandling – zoneterapi, kinesiologi, naturmedicin, kraniosakral-terapi med videre\n",
       "Der foreligger ikke fornøden lægelig dokumentation for, at sådanne behandlingsformer har en varig helbredende virkning. Behandlingerne er derfor ikke tilskudsberettigede og kan ikke dækkes.\n",
       "\n",
       "Synstræning hos optiker\n",
       "Der vil her være tale om en form for alternativ behandling, som ikke kan betales.\n",
       "\n",
       "Genoptræning af hjerneskadede\n",
       "Som udgangspunkt betales behandling på genoptræningscenter ikke. Det skyldes, at centrene er omfattet af den offentlige sygehuslovgivning, og det er en betingelse for at betale, at udgifter til sygebehandling eller genoptræning ikke dækkes efter sundhedsloven eller som led i behandlingen på et offentligt sygehus. Desuden er der på nuværende tidspunkt ikke lægevidenskabelig dokumentation for, at genoptræning af hjerneskadede har en varig helbredende effekt. Patienten lærer derimod at håndtere og fungere med sin hjerneskade. Der kan derfor heller ikke betales for følgeud...<br>"
      ],
      "text/plain": [
       "<IPython.core.display.Markdown object>"
      ]
     },
     "metadata": {},
     "output_type": "display_data"
    }
   ],
   "source": [
    "from llama_index.response.notebook_utils import display_source_node\n",
    "\n",
    "retriever_e5 = vector_index_e5.as_retriever(similarity_top_k=3)\n",
    "retrieved_nodes = retriever_e5.retrieve(\"Kan udgfter til køb af proteser eller kørestol dækkes som en del af genoptræningen?\")\n",
    "\n",
    "for node in retrieved_nodes:\n",
    "    display_source_node(node, source_length=1000)"
   ]
  },
  {
   "cell_type": "code",
   "execution_count": 97,
   "metadata": {},
   "outputs": [
    {
     "data": {
      "text/markdown": [
       "**Node ID:** e7055ad0-ef01-4a1b-9da0-e033cfa02ad0<br>**Similarity:** 0.8759876872214118<br>**Text:** Samsynstræning vil sædvanligvis foregå i offentligt regi hos skeleterapeuter. En optiker har alene autorisation til at tilpasse briller og kontaktlinser, og synstræning udført af denne faggruppe betragtes derfor som alternativ behandling og kan ikke dækkes.\n",
       "\n",
       "Kørestole\n",
       "For at udgifter til kørestole kan dækkes, skal der være tale om egentlige kørestole. Andre former for stole, der er specielt indrettet for handicappede, dækkes ikke.\n",
       "\n",
       "Ortopædisk fodtøj og skoindlæg\n",
       "Der kan som udgangspunkt højst dækkes udgifter til ét par ortopædiske sko under sagens behandling. Der kan også være mulighed for at få dækket udgifterne som fremtidige udgifter.\n",
       "\n",
       "Hvis det på grund af skadens art er nødvendigt at bruge ortopædisk fodtøj hele tiden, det vil sige både på arbejde og i fritiden, vil der kunne betales for to par sko om året.\n",
       "\n",
       "Hypoallergisk fodtøj\n",
       "Hvis det på grund af overfølsomhed er nødvendigt at anskaffe hypoallergisk fodtøj, kan ekstraudgifter hertil betales.\n",
       "\n",
       "Brystproteser\n",
       "Der mulighed for at...<br>"
      ],
      "text/plain": [
       "<IPython.core.display.Markdown object>"
      ]
     },
     "metadata": {},
     "output_type": "display_data"
    },
    {
     "data": {
      "text/markdown": [
       "**Node ID:** 0c042d47-5d55-44c8-b260-8c7613d0f265<br>**Similarity:** 0.8695602358220206<br>**Text:** Ankestyrelsen tiltrådte Arbejdsskadestyrelsens afgørelse om afslag på dækning af brystproteser med en ændret begrundelse i nedenstående principafgørelse U-9-99.\n",
       "\n",
       "Parykker\n",
       "Udgifter til paryk kan dækkes, da en paryk afhjælper de varige følger efter skaden. Parykken vil desuden ofte være individuelt tilpasset.\n",
       "\n",
       "Vakuumpumpe\n",
       "Udgiften til en vakuumpumpe til afhjælpning af impotens kan dækkes, når det er godtgjort, at pumpen efter en lægelig vurdering virker, og når anskaffelsen er nødvendig for at formindske arbejdsskadens følger.\n",
       "\n",
       "Særlige informationsteknologiske hjælpemidler\n",
       "Særlige informationsteknologiske hjælpemidler er produkter, der kan afhjælpe et kommunikationshandicap (eksempelvis talemaskiner og kommunikatorer), samt computerbaserede kommunikationshjælpemidler, herunder specialprogrammer og andet særligt tilbehør til personlige computere. Det er regionen, der er ansvarlig for tildeling af hjælp til særlige informationsteknologiske hjælpemidler. Målgruppen er personer med væsent...<br>"
      ],
      "text/plain": [
       "<IPython.core.display.Markdown object>"
      ]
     },
     "metadata": {},
     "output_type": "display_data"
    },
    {
     "data": {
      "text/markdown": [
       "**Node ID:** a6bd12b5-b167-4c72-a5af-91d5535944e4<br>**Similarity:** 0.8642727873217184<br>**Text:** 2.Under sagens behandling kan udgifter til anskaffelse af proteser, briller og lignende hjælpemidler samt kørestole betales, når det er nødvendigt for at sikre sygebehandlingens eller genoptræningens resultater, for at formindske arbejdsskadens følger eller for nøjere at kunne bestemme omfanget af erhvervsevnetabet og graden af varigt mén.\n",
       "Stk. 3.Erstatning for fremtidige udgifter til helbredelse, optræning og hjælpemidler som følge af arbejdsskaden fastsættes til et engangsbeløb.Ved permanente udgifter udgør beløbet den forventede, gennemsnitlige årlige udgift ganget med den kapitaliseringsfaktor, der er fastsat i medfør af § 27 stk. 4, for tab af erhvervsevne.\n",
       "Stk. 4.Er et hjælpemiddel som nævnt i stk. 2 anvendt under arbejde, og er hjælpemidlet blevet beskadiget som følge af arbejdet eller de forhold, hvorunder det foregår, kan udgifterne til reparation, eventuelt fornyelse, af hjælpemidlet betales.\n",
       "Stk. 5.Arbejdsskadestyrelsens direktør fastsætter regler om, i hvilket omfang udg...<br>"
      ],
      "text/plain": [
       "<IPython.core.display.Markdown object>"
      ]
     },
     "metadata": {},
     "output_type": "display_data"
    }
   ],
   "source": [
    "retriever_ada = vector_index_ada.as_retriever(similarity_top_k=3)\n",
    "\n",
    "retrieved_nodes = retriever_ada.retrieve(\"Kan udgfter til køb af proteser eller kørestol dækkes som en del af genoptræningen?\")\n",
    "\n",
    "for node in retrieved_nodes:\n",
    "    display_source_node(node, source_length=1000)"
   ]
  },
  {
   "cell_type": "markdown",
   "metadata": {},
   "source": [
    "## Evaluation"
   ]
  },
  {
   "cell_type": "code",
   "execution_count": 101,
   "metadata": {},
   "outputs": [],
   "source": [
    "from llama_index.evaluation import RetrieverEvaluator\n",
    "\n",
    "retriever_evaluator_e5 = RetrieverEvaluator.from_metric_names(\n",
    "    [\"mrr\", \"hit_rate\"], retriever=retriever_e5\n",
    ")\n",
    "\n",
    "retriever_evaluator_ada= RetrieverEvaluator.from_metric_names(\n",
    "    [\"mrr\", \"hit_rate\"], retriever=retriever_ada\n",
    ")"
   ]
  },
  {
   "cell_type": "code",
   "execution_count": 106,
   "metadata": {},
   "outputs": [],
   "source": [
    "# try it out on an entire dataset, async evaluation to speed up\n",
    "eval_results_e5 = await retriever_evaluator_e5.aevaluate_dataset(qa_dataset)"
   ]
  },
  {
   "cell_type": "code",
   "execution_count": 102,
   "metadata": {},
   "outputs": [],
   "source": [
    "# try it out on an entire dataset, async evaluation to speed up\n",
    "eval_results_ada = await retriever_evaluator_ada.aevaluate_dataset(qa_dataset)"
   ]
  },
  {
   "cell_type": "code",
   "execution_count": 103,
   "metadata": {},
   "outputs": [],
   "source": [
    "import pandas as pd\n",
    "\n",
    "def display_results(name, eval_results):\n",
    "    \"\"\"Display results from evaluate.\"\"\"\n",
    "\n",
    "    metric_dicts = []\n",
    "    for eval_result in eval_results:\n",
    "        metric_dict = eval_result.metric_vals_dict\n",
    "        metric_dicts.append(metric_dict)\n",
    "\n",
    "    full_df = pd.DataFrame(metric_dicts)\n",
    "\n",
    "    hit_rate = full_df[\"hit_rate\"].mean()\n",
    "    mrr = full_df[\"mrr\"].mean()\n",
    "\n",
    "    metric_df = pd.DataFrame(\n",
    "        {\"retrievers\": [name], \"hit_rate\": [hit_rate], \"mrr\": [mrr]}\n",
    "    )\n",
    "\n",
    "    return metric_df"
   ]
  },
  {
   "cell_type": "code",
   "execution_count": 107,
   "metadata": {},
   "outputs": [
    {
     "data": {
      "text/html": [
       "<div>\n",
       "<style scoped>\n",
       "    .dataframe tbody tr th:only-of-type {\n",
       "        vertical-align: middle;\n",
       "    }\n",
       "\n",
       "    .dataframe tbody tr th {\n",
       "        vertical-align: top;\n",
       "    }\n",
       "\n",
       "    .dataframe thead th {\n",
       "        text-align: right;\n",
       "    }\n",
       "</style>\n",
       "<table border=\"1\" class=\"dataframe\">\n",
       "  <thead>\n",
       "    <tr style=\"text-align: right;\">\n",
       "      <th></th>\n",
       "      <th>retrievers</th>\n",
       "      <th>hit_rate</th>\n",
       "      <th>mrr</th>\n",
       "    </tr>\n",
       "  </thead>\n",
       "  <tbody>\n",
       "    <tr>\n",
       "      <th>0</th>\n",
       "      <td>top-3 eval</td>\n",
       "      <td>0.808333</td>\n",
       "      <td>0.703333</td>\n",
       "    </tr>\n",
       "  </tbody>\n",
       "</table>\n",
       "</div>"
      ],
      "text/plain": [
       "   retrievers  hit_rate       mrr\n",
       "0  top-3 eval  0.808333  0.703333"
      ]
     },
     "execution_count": 107,
     "metadata": {},
     "output_type": "execute_result"
    }
   ],
   "source": [
    "display_results(\"top-3 eval\", eval_results_e5)"
   ]
  },
  {
   "cell_type": "code",
   "execution_count": 104,
   "metadata": {},
   "outputs": [
    {
     "data": {
      "text/html": [
       "<div>\n",
       "<style scoped>\n",
       "    .dataframe tbody tr th:only-of-type {\n",
       "        vertical-align: middle;\n",
       "    }\n",
       "\n",
       "    .dataframe tbody tr th {\n",
       "        vertical-align: top;\n",
       "    }\n",
       "\n",
       "    .dataframe thead th {\n",
       "        text-align: right;\n",
       "    }\n",
       "</style>\n",
       "<table border=\"1\" class=\"dataframe\">\n",
       "  <thead>\n",
       "    <tr style=\"text-align: right;\">\n",
       "      <th></th>\n",
       "      <th>retrievers</th>\n",
       "      <th>hit_rate</th>\n",
       "      <th>mrr</th>\n",
       "    </tr>\n",
       "  </thead>\n",
       "  <tbody>\n",
       "    <tr>\n",
       "      <th>0</th>\n",
       "      <td>top-3 eval</td>\n",
       "      <td>0.86</td>\n",
       "      <td>0.742222</td>\n",
       "    </tr>\n",
       "  </tbody>\n",
       "</table>\n",
       "</div>"
      ],
      "text/plain": [
       "   retrievers  hit_rate       mrr\n",
       "0  top-3 eval      0.86  0.742222"
      ]
     },
     "execution_count": 104,
     "metadata": {},
     "output_type": "execute_result"
    }
   ],
   "source": [
    "display_results(\"top-3 eval\", eval_results_ada)"
   ]
  },
  {
   "cell_type": "markdown",
   "metadata": {},
   "source": [
    "### Other chunking experiments -- ignore"
   ]
  },
  {
   "cell_type": "code",
   "execution_count": 6,
   "metadata": {},
   "outputs": [
    {
     "data": {
      "application/vnd.jupyter.widget-view+json": {
       "model_id": "93ee5469722442e39cb840634ec66950",
       "version_major": 2,
       "version_minor": 0
      },
      "text/plain": [
       "Parsing nodes:   0%|          | 0/431 [00:00<?, ?it/s]"
      ]
     },
     "metadata": {},
     "output_type": "display_data"
    }
   ],
   "source": [
    "from llama_index.node_parser import SentenceSplitter\n",
    "from transformers import AutoTokenizer\n",
    "from llama_index.callbacks import CallbackManager, TokenCountingHandler\n",
    "import tiktoken\n",
    "\n",
    "node_parser_not_token = SentenceSplitter(chunk_size=512, \n",
    "                               chunk_overlap=0, \n",
    "                               paragraph_separator=\"\\n\\n\",\n",
    "                               )\n",
    "\n",
    "\n",
    "nodes_vejledninger_not_token = node_parser_not_token.get_nodes_from_documents(\n",
    "    documents_vejledninger, show_progress=True\n",
    ")"
   ]
  },
  {
   "cell_type": "code",
   "execution_count": 8,
   "metadata": {},
   "outputs": [
    {
     "name": "stderr",
     "output_type": "stream",
     "text": [
      "Token indices sequence length is longer than the specified maximum sequence length for this model (538 > 512). Running this sequence through the model will result in indexing errors\n"
     ]
    },
    {
     "data": {
      "image/png": "[encoded data removed]",
      "text/plain": [
       "<Figure size 640x480 with 1 Axes>"
      ]
     },
     "metadata": {},
     "output_type": "display_data"
    }
   ],
   "source": [
    "### Use HF tokenizer to verify length\n",
    "from transformers import AutoTokenizer, AutoModel\n",
    "tokenizer = AutoTokenizer.from_pretrained('intfloat/e5-base-v2')\n",
    "token_counts = []\n",
    "for text in [node.text for node in nodes_vejledninger_not_token]:\n",
    "    token_counts.append(len(tokenizer.tokenize(text)))\n",
    "\n",
    "# batch_dict = tokenizer([node.text for node in nodes_vejledninger], max_length=512, padding=True, truncation=True, return_tensors='pt')\n",
    "\n",
    "#Plot a histogram of the length of the text in all nodes\n",
    "import matplotlib.pyplot as plt\n",
    "import numpy as np\n",
    "text_len = token_counts\n",
    "plt.hist(text_len, bins=100)\n",
    "plt.title('Histogram of text length in nodes')\n",
    "plt.xlabel('Text length')\n",
    "plt.xlim(0, 750)\n",
    "plt.ylabel('Number of nodes')\n",
    "plt.show()\n"
   ]
  },
  {
   "cell_type": "markdown",
   "metadata": {},
   "source": [
    "### Langchain"
   ]
  },
  {
   "cell_type": "code",
   "execution_count": 10,
   "metadata": {},
   "outputs": [],
   "source": [
    "from langchain.text_splitter import RecursiveCharacterTextSplitter\n",
    "\n",
    "def e5_len(text):\n",
    "    return len(tokenizer.tokenize(text))\n",
    "\n",
    "langchain_text_splitter = RecursiveCharacterTextSplitter(\n",
    "    chunk_size = 512,\n",
    "    chunk_overlap  = 0,\n",
    "    length_function = e5_len,\n",
    ")"
   ]
  },
  {
   "cell_type": "code",
   "execution_count": 30,
   "metadata": {},
   "outputs": [
    {
     "name": "stderr",
     "output_type": "stream",
     "text": [
      "Token indices sequence length is longer than the specified maximum sequence length for this model (785 > 512). Running this sequence through the model will result in indexing errors\n"
     ]
    }
   ],
   "source": [
    "langchain_texts = langchain_text_splitter.create_documents([document.text for document in documents_vejledninger])"
   ]
  },
  {
   "cell_type": "code",
   "execution_count": 14,
   "metadata": {},
   "outputs": [
    {
     "data": {
      "text/plain": [
       "18388"
      ]
     },
     "execution_count": 14,
     "metadata": {},
     "output_type": "execute_result"
    }
   ],
   "source": [
    "len(langchain_texts)"
   ]
  },
  {
   "cell_type": "code",
   "execution_count": 31,
   "metadata": {},
   "outputs": [
    {
     "data": {
      "text/plain": [
       "'Vejledning om beskæftigelseskravet for ret til barselsdagpenge\\n\\n1.Indledning\\nI denne vejledning beskrives hvilke beskæftigelseskrav, der gælder for at opnå ret til barselsdagpenge. Reglerne findes i §§ 27-29 i barselsloven (loven).\\n\\nI bekendtgørelse nr. 1090 af 1. juni 2021 om opgørelse af beskæftigelseskrav og beregning af barselsdagpenge m.v. (bekendtgørelsen) er fastsat nærmere regler om opgørelsen af beskæftigelseskravet.\\n\\nDenne vejledning erstatter vejledning nr. 10066 af 29. december 2020 om beskæftigelseskravet for ret til barselsdagpenge.\\n\\nEn lønmodtager har ret til barselsdagpenge, hvis pågældende opfylder ét af de fem krav om tilknytning til arbejdsmarkedet, der er nævnt i lovens § 27, stk. 1.\\n\\nKravet om aktuel beskæftigelse dagen før fraværet eller på første fraværsdag samt beskæftigelse i mindst 160 timer indberettet i indkomstregistret inden for de seneste 4 afsluttede kalendermåneder forud for fraværsperioden, jf. lovens § 27, stk. 1, nr. 1, er beskrevet i pkt. 2.1.\\n\\nKravet om at ville have været berettiget til arbejdsløshedsdagpenge eller en ydelse, der træder i stedet herfor, jf. lov om arbejdsløshedsforsikring m.v., jf. lovens § 27, stk. 1, nr. 2, er beskrevet i pkt. 2.2.'"
      ]
     },
     "execution_count": 31,
     "metadata": {},
     "output_type": "execute_result"
    }
   ],
   "source": [
    "langchain_texts[0].page_content"
   ]
  },
  {
   "cell_type": "code",
   "execution_count": 29,
   "metadata": {},
   "outputs": [
    {
     "data": {
      "text/plain": [
       "'Kravet om inden for den seneste måned at have afsluttet en erhvervsmæssig uddannelse af mindst 18 måneders varighed, jf. lovens § 27, stk. 1, nr. 4, er beskrevet i pkt. 2.3.\\n\\nKravet om at være elev i lønnet praktik i en uddannelse, der er reguleret ved eller i henhold til lov, jf. lovens § 27, stk. 1, nr. 5, er beskrevet i pkt. 2.4.\\n\\nKravet om at være ansat i fleksjob, jf. lovens § 27, stk. 1, nr. 6, er beskrevet i pkt. 2.5.'"
      ]
     },
     "execution_count": 29,
     "metadata": {},
     "output_type": "execute_result"
    }
   ],
   "source": [
    "langchain_texts[1].page_content"
   ]
  },
  {
   "cell_type": "code",
   "execution_count": 36,
   "metadata": {},
   "outputs": [
    {
     "data": {
      "image/png": "[encoded data removed]",
      "text/plain": [
       "<Figure size 640x480 with 1 Axes>"
      ]
     },
     "metadata": {},
     "output_type": "display_data"
    }
   ],
   "source": [
    "### Use HF tokenizer to verify length\n",
    "from transformers import AutoTokenizer, AutoModel\n",
    "tokenizer = AutoTokenizer.from_pretrained('intfloat/e5-base-v2')\n",
    "token_counts = []\n",
    "#Iterate over .page_content of each langchain_text\n",
    "for text in [str(text.page_content) for text in langchain_texts]:\n",
    "    token_counts.append(len(tokenizer.tokenize(text)))\n",
    "\n",
    "# batch_dict = tokenizer([node.text for node in nodes_vejledninger], max_length=512, padding=True, truncation=True, return_tensors='pt')\n",
    "\n",
    "#Plot a histogram of the length of the text in all nodes\n",
    "import matplotlib.pyplot as plt\n",
    "import numpy as np\n",
    "text_len = token_counts\n",
    "plt.hist(text_len, bins=100)\n",
    "plt.title('Histogram of text length in nodes')\n",
    "plt.xlabel('Text length')\n",
    "plt.xlim(0, 750)\n",
    "plt.ylabel('Number of nodes')\n",
    "plt.show()\n"
   ]
  },
  {
   "cell_type": "code",
   "execution_count": 37,
   "metadata": {},
   "outputs": [
    {
     "name": "stdout",
     "output_type": "stream",
     "text": [
      "Example 1 of texts under 100 tokens:\n",
      "Vejledning om lungesygdomme\n",
      "Kapitel 7 i Vejledning om erhvervssygdomme anmeldt fra 1. januar 2005\n",
      "Indhold\n",
      "\n",
      "\n",
      "Example 2 of texts under 100 tokens:\n",
      "2.Kronisk bronkitis/KOL (E.7)\n",
      "2.1.Punkt på fortegnelsen\n",
      "Sygdommen kronisk bronkitis/KOL er optaget på fortegnelsen over erhvervssygdomme (gruppe E, punkt 7).\n",
      "\n",
      "\n",
      "Example 3 of texts under 100 tokens:\n",
      "Sygdommen astma er optaget på fortegnelsen over erhvervssygdomme (gruppe E, punkt 8):\n",
      "\n",
      "\n",
      "Example 4 of texts under 100 tokens:\n",
      "4.Hvad må unge ikke arbejde med?\n",
      "Unge på 13-14 år samt ældre unge, der stadig er omfattet af undervisningspligten, må ikke arbejde med noget, der kan være farligt for deres sikkerhed og sundhed.\n",
      "\n",
      "\n",
      "Example 5 of texts under 100 tokens:\n",
      "Arbejde med nanomaterialer\n",
      "De vigtigste regler om forebyggelse af sundhedsfarlige påvirkninger ved arbejde med fremstillede nanomaterialer.\n",
      "At-vejledning 9.3.1-1\n",
      "November 2014 - Opdateret juli 2019\n",
      "\n",
      "\n"
     ]
    }
   ],
   "source": [
    "#Print first 5 examples of texts under 100 tokens\n",
    "\n",
    "for i in range(5):\n",
    "    print(f'Example {i+1} of texts under 100 tokens:')\n",
    "    print([str(text.page_content) for text in langchain_texts if len(tokenizer.tokenize(str(text.page_content))) < 100][i])\n",
    "    print('\\n')"
   ]
  },
  {
   "cell_type": "markdown",
   "metadata": {},
   "source": [
    "## Custom character splitter"
   ]
  },
  {
   "cell_type": "code",
   "execution_count": 49,
   "metadata": {},
   "outputs": [
    {
     "name": "stdout",
     "output_type": "stream",
     "text": [
      "Your long text string here...\n"
     ]
    }
   ],
   "source": [
    "from transformers import AutoTokenizer\n",
    "\n",
    "def split_text(text, tokenizer, max_chunk_size):\n",
    "    \"\"\"\n",
    "    Recursively splits the text into chunks that do not exceed max_chunk_size.\n",
    "    Tries to find the largest possible chunk, splitting at '\\n', '.', '!', and '?'.\n",
    "    \"\"\"\n",
    "    # Tokenize and check the length\n",
    "    tokens = tokenizer.tokenize(text)\n",
    "    if len(tokens) <= max_chunk_size:\n",
    "        return [text]\n",
    "\n",
    "    # Delimiters to consider for splitting\n",
    "    split_points = ['\\n', '.', '!', '?']\n",
    "    best_split = None\n",
    "\n",
    "    # Find the best split point\n",
    "    for point in split_points:\n",
    "        split_index = text.rfind(point, 0, len(tokenizer.tokenize(text[:max_chunk_size])))\n",
    "        if split_index != -1 and (best_split is None or split_index > best_split):\n",
    "            best_split = split_index\n",
    "\n",
    "    # If a suitable split point is found\n",
    "    if best_split is not None:\n",
    "        first_chunk = text[:best_split + 1]\n",
    "        remaining_text = text[best_split + 1:]\n",
    "        return [first_chunk] + split_text(remaining_text, tokenizer, max_chunk_size)\n",
    "\n",
    "    # If no suitable split point is found, do a hard split at max_chunk_size\n",
    "    hard_split_point = len(tokenizer.tokenize(text[:max_chunk_size]))\n",
    "    first_chunk = text[:hard_split_point]\n",
    "    remaining_text = text[hard_split_point:]\n",
    "    return [first_chunk] + split_text(remaining_text, tokenizer, max_chunk_size)\n",
    "\n",
    "def recursive_split(text_list, max_chunk_size):\n",
    "    \"\"\"\n",
    "    Applies the recursive splitting to a list of strings.\n",
    "    \"\"\"\n",
    "    tokenizer = AutoTokenizer.from_pretrained('intfloat/e5-base-v2')\n",
    "    all_chunks = []\n",
    "    for text in text_list:\n",
    "        chunks = split_text(text, tokenizer, max_chunk_size)\n",
    "        all_chunks.extend(chunks)\n",
    "    return all_chunks\n",
    "\n",
    "# Example usage\n",
    "text_list = [\"Your long text string here...\"]\n",
    "chunks = recursive_split(text_list, max_chunk_size=100)  # Adjust max_chunk_size as needed\n",
    "for chunk in chunks:\n",
    "    print(chunk)\n"
   ]
  },
  {
   "cell_type": "code",
   "execution_count": 50,
   "metadata": {},
   "outputs": [],
   "source": [
    "custom_split_texts = recursive_split([str(text.page_content) for text in langchain_texts], max_chunk_size=512)"
   ]
  },
  {
   "cell_type": "code",
   "execution_count": 51,
   "metadata": {},
   "outputs": [
    {
     "data": {
      "image/png": "[encoded data removed]",
      "text/plain": [
       "<Figure size 640x480 with 1 Axes>"
      ]
     },
     "metadata": {},
     "output_type": "display_data"
    }
   ],
   "source": [
    "### Use HF tokenizer to verify length\n",
    "from transformers import AutoTokenizer, AutoModel\n",
    "tokenizer = AutoTokenizer.from_pretrained('intfloat/e5-base-v2')\n",
    "token_counts = []\n",
    "#Iterate over .page_content of each langchain_text\n",
    "for text in custom_split_texts:\n",
    "    token_counts.append(len(tokenizer.tokenize(text)))\n",
    "\n",
    "# batch_dict = tokenizer([node.text for node in nodes_vejledninger], max_length=512, padding=True, truncation=True, return_tensors='pt')\n",
    "\n",
    "#Plot a histogram of the length of the text in all nodes\n",
    "import matplotlib.pyplot as plt\n",
    "import numpy as np\n",
    "text_len = token_counts\n",
    "plt.hist(text_len, bins=100)\n",
    "plt.title('Histogram of text length in nodes')\n",
    "plt.xlabel('Token length')\n",
    "plt.xlim(0, 750)\n",
    "plt.ylabel('Number of nodes')\n",
    "plt.show()\n"
   ]
  },
  {
   "cell_type": "code",
   "execution_count": 45,
   "metadata": {},
   "outputs": [
    {
     "data": {
      "text/plain": [
       "'Vejledning om lungesygdomme\\nKapitel 7 i Vejledning om erhvervssygdomme anmeldt fra 1. januar 2005\\nIndhold\\n\\n1.Pleurale plaques (E.3.3)\\nIndledning\\nDenne vejledning er skrevet af Arbejdsskadestyrelsen med henblik på at beskrive betingelserne for afgørelse i sager om erhvervssygdomme, der anmeldes fra 1. januar 2005.\\nVejledningen gælder således kun for sygdomme anmeldt fra 1. januar 2005, der vurderes efterlov om arbejdsskadesikring, jf. bekendtgørelse nr. 278 af 14. marts 2013med senere ændringer.\\nSygdomme anmeldt før 1. januar 2005 vurderes efterlov nr. 943 om sikring mod følger af arbejdsskade af 16. oktober 2000med senere ændringer og er ikke omfattet af denne vejledning.\\nVejledningen er skrevet til alle, der har brug for at orientere sig om behandlingen af erhvervssygdomme, herunder Arbejdsskadestyrelsens sagsbehandlere, fagforeninger, advokater og forsikringsselskaber.\\nVejledningen skal være en hjælp til behandling af sagerne og skal give en forståelse af kravene til sammenhængen mellem en sygdom og en bestemt belastning.\\nVejledningen er ikke udtømmende for alle sygdomme. Den omhandler dog de generelle vilkår for anerkendelse af alle sygdomme anmeldt fra 1. januar 2005, herunder både sygdomme optaget på fortegnelsen og sygdomme, der behandles uden for fortegnelsen efter lovens § 7, stk. 1, nr. 2, 1. og 2. led.\\nFor en række sygdomme beskriver vejledningen også de nærmere betingelser for anerkendelse, herunder de nærmere krav til diagnose og belastning. Vejledningen er for disse sygdomme en præcisering af de overordnede krav til anerkendelse, som fremgår af fortegnelsen. Vejledningen afløser desuden eventuelle tidligere vejledninger for disse sygdomme.\\nVejledningen indeholder også en særlig vejledning om sygdomme, der eventuelt kan anerkendes uden for fortegnelsen efter forelæggelsen for Erhvervssygdomsudvalget (kapitel 1).\\nHvis sygdommen ikke er beskrevet i denne vejledning, men i en tidligere vejledning, kan den tidligere vejledning som udgangspunkt fortsat anvendes.\\n1.1.Punkt på fortegnelsen\\nFølgende lungesygdom og påvirkning er optaget på fortegnelsen over erhvervssygdomme (gruppe E, punkt 3.3):\\n\\n1.2.Krav til diagnosen\\nDer skal lægeligt være stillet diagnosen pleurale plaques efter kendt asbesteksponering (J. 92.0).\\nPleurale plaques må ikke forveksles med sygdommene lungeasbestose eller udbredt bindevævsdannelse i lungehinden (fibrosis pleurae) med påvirket lungefunktion, der også er optaget på fortegnelsen i gruppen af asbestsygdomme (gruppe E, punkt 3.1 og 3.2).\\nPleurale plaques (lungehindepletter) er fortykkelser i lungehinden, som forårsages af asbest. De findes ikke i det egentlige lungevæv, men dannes på lungehinden på indersiden af brystkassen.\\nPleurale plaques har form af hvide, brusklignende belægninger. De kan dannes efter en forholdsvis lille udsættelse for asbest, men det varer ofte 15-25 år, inden de bliver synlige på røntgenbilleder af lungerne.\\nTypiske pleurale plaques er som regel (hvis ikke altid) dobbeltsidige, men ofte asym'"
      ]
     },
     "execution_count": 45,
     "metadata": {},
     "output_type": "execute_result"
    }
   ],
   "source": [
    "vejledninger_tekst_dict['Vejledning om lungesygdomme'][0:3000]"
   ]
  },
  {
   "cell_type": "code",
   "execution_count": 52,
   "metadata": {},
   "outputs": [
    {
     "name": "stdout",
     "output_type": "stream",
     "text": [
      "Example 1 of texts under 100 tokens:\n",
      "Vejledning om lungesygdomme\n",
      "Kapitel 7 i Vejledning om erhvervssygdomme anmeldt fra 1. januar 2005\n",
      "Indhold\n",
      "\n",
      "\n",
      "Example 2 of texts under 100 tokens:\n"
     ]
    },
    {
     "ename": "KeyboardInterrupt",
     "evalue": "",
     "output_type": "error",
     "traceback": [
      "\u001b[0;31m---------------------------------------------------------------------------\u001b[0m",
      "\u001b[0;31mKeyboardInterrupt\u001b[0m                         Traceback (most recent call last)",
      "\u001b[1;32m/home/jealk/src/llama_playground/06_QA_gen_eval.ipynb Cell 28\u001b[0m line \u001b[0;36m4\n\u001b[1;32m      <a href='vscode-notebook-cell://wsl%2Bubuntu/home/jealk/src/llama_playground/06_QA_gen_eval.ipynb#Y101sdnNjb2RlLXJlbW90ZQ%3D%3D?line=1'>2</a>\u001b[0m \u001b[39mfor\u001b[39;00m i \u001b[39min\u001b[39;00m \u001b[39mrange\u001b[39m(\u001b[39m10\u001b[39m):\n\u001b[1;32m      <a href='vscode-notebook-cell://wsl%2Bubuntu/home/jealk/src/llama_playground/06_QA_gen_eval.ipynb#Y101sdnNjb2RlLXJlbW90ZQ%3D%3D?line=2'>3</a>\u001b[0m     \u001b[39mprint\u001b[39m(\u001b[39mf\u001b[39m\u001b[39m'\u001b[39m\u001b[39mExample \u001b[39m\u001b[39m{\u001b[39;00mi\u001b[39m+\u001b[39m\u001b[39m1\u001b[39m\u001b[39m}\u001b[39;00m\u001b[39m of texts under 100 tokens:\u001b[39m\u001b[39m'\u001b[39m)\n\u001b[0;32m----> <a href='vscode-notebook-cell://wsl%2Bubuntu/home/jealk/src/llama_playground/06_QA_gen_eval.ipynb#Y101sdnNjb2RlLXJlbW90ZQ%3D%3D?line=3'>4</a>\u001b[0m     \u001b[39mprint\u001b[39m([text \u001b[39mfor\u001b[39;49;00m text \u001b[39min\u001b[39;49;00m custom_split_texts \u001b[39mif\u001b[39;49;00m \u001b[39mlen\u001b[39;49m(tokenizer\u001b[39m.\u001b[39;49mtokenize(text)) \u001b[39m<\u001b[39;49m \u001b[39m100\u001b[39;49m][i])\n\u001b[1;32m      <a href='vscode-notebook-cell://wsl%2Bubuntu/home/jealk/src/llama_playground/06_QA_gen_eval.ipynb#Y101sdnNjb2RlLXJlbW90ZQ%3D%3D?line=4'>5</a>\u001b[0m     \u001b[39mprint\u001b[39m(\u001b[39m'\u001b[39m\u001b[39m\\n\u001b[39;00m\u001b[39m'\u001b[39m)\n",
      "\u001b[1;32m/home/jealk/src/llama_playground/06_QA_gen_eval.ipynb Cell 28\u001b[0m line \u001b[0;36m4\n\u001b[1;32m      <a href='vscode-notebook-cell://wsl%2Bubuntu/home/jealk/src/llama_playground/06_QA_gen_eval.ipynb#Y101sdnNjb2RlLXJlbW90ZQ%3D%3D?line=1'>2</a>\u001b[0m \u001b[39mfor\u001b[39;00m i \u001b[39min\u001b[39;00m \u001b[39mrange\u001b[39m(\u001b[39m10\u001b[39m):\n\u001b[1;32m      <a href='vscode-notebook-cell://wsl%2Bubuntu/home/jealk/src/llama_playground/06_QA_gen_eval.ipynb#Y101sdnNjb2RlLXJlbW90ZQ%3D%3D?line=2'>3</a>\u001b[0m     \u001b[39mprint\u001b[39m(\u001b[39mf\u001b[39m\u001b[39m'\u001b[39m\u001b[39mExample \u001b[39m\u001b[39m{\u001b[39;00mi\u001b[39m+\u001b[39m\u001b[39m1\u001b[39m\u001b[39m}\u001b[39;00m\u001b[39m of texts under 100 tokens:\u001b[39m\u001b[39m'\u001b[39m)\n\u001b[0;32m----> <a href='vscode-notebook-cell://wsl%2Bubuntu/home/jealk/src/llama_playground/06_QA_gen_eval.ipynb#Y101sdnNjb2RlLXJlbW90ZQ%3D%3D?line=3'>4</a>\u001b[0m     \u001b[39mprint\u001b[39m([text \u001b[39mfor\u001b[39;00m text \u001b[39min\u001b[39;00m custom_split_texts \u001b[39mif\u001b[39;00m \u001b[39mlen\u001b[39m(tokenizer\u001b[39m.\u001b[39;49mtokenize(text)) \u001b[39m<\u001b[39m \u001b[39m100\u001b[39m][i])\n\u001b[1;32m      <a href='vscode-notebook-cell://wsl%2Bubuntu/home/jealk/src/llama_playground/06_QA_gen_eval.ipynb#Y101sdnNjb2RlLXJlbW90ZQ%3D%3D?line=4'>5</a>\u001b[0m     \u001b[39mprint\u001b[39m(\u001b[39m'\u001b[39m\u001b[39m\\n\u001b[39;00m\u001b[39m'\u001b[39m)\n",
      "File \u001b[0;32m~/mambaforge/envs/llm/lib/python3.11/site-packages/transformers/tokenization_utils_fast.py:344\u001b[0m, in \u001b[0;36mPreTrainedTokenizerFast.tokenize\u001b[0;34m(self, text, pair, add_special_tokens, **kwargs)\u001b[0m\n\u001b[1;32m    343\u001b[0m \u001b[39mdef\u001b[39;00m \u001b[39mtokenize\u001b[39m(\u001b[39mself\u001b[39m, text: \u001b[39mstr\u001b[39m, pair: Optional[\u001b[39mstr\u001b[39m] \u001b[39m=\u001b[39m \u001b[39mNone\u001b[39;00m, add_special_tokens: \u001b[39mbool\u001b[39m \u001b[39m=\u001b[39m \u001b[39mFalse\u001b[39;00m, \u001b[39m*\u001b[39m\u001b[39m*\u001b[39mkwargs) \u001b[39m-\u001b[39m\u001b[39m>\u001b[39m List[\u001b[39mstr\u001b[39m]:\n\u001b[0;32m--> 344\u001b[0m     \u001b[39mreturn\u001b[39;00m \u001b[39mself\u001b[39;49m\u001b[39m.\u001b[39;49mencode_plus(text\u001b[39m=\u001b[39;49mtext, text_pair\u001b[39m=\u001b[39;49mpair, add_special_tokens\u001b[39m=\u001b[39;49madd_special_tokens, \u001b[39m*\u001b[39;49m\u001b[39m*\u001b[39;49mkwargs)\u001b[39m.\u001b[39mtokens()\n",
      "File \u001b[0;32m~/mambaforge/envs/llm/lib/python3.11/site-packages/transformers/tokenization_utils_base.py:2781\u001b[0m, in \u001b[0;36mPreTrainedTokenizerBase.encode_plus\u001b[0;34m(self, text, text_pair, add_special_tokens, padding, truncation, max_length, stride, is_split_into_words, pad_to_multiple_of, return_tensors, return_token_type_ids, return_attention_mask, return_overflowing_tokens, return_special_tokens_mask, return_offsets_mapping, return_length, verbose, **kwargs)\u001b[0m\n\u001b[1;32m   2771\u001b[0m \u001b[39m# Backward compatibility for 'truncation_strategy', 'pad_to_max_length'\u001b[39;00m\n\u001b[1;32m   2772\u001b[0m padding_strategy, truncation_strategy, max_length, kwargs \u001b[39m=\u001b[39m \u001b[39mself\u001b[39m\u001b[39m.\u001b[39m_get_padding_truncation_strategies(\n\u001b[1;32m   2773\u001b[0m     padding\u001b[39m=\u001b[39mpadding,\n\u001b[1;32m   2774\u001b[0m     truncation\u001b[39m=\u001b[39mtruncation,\n\u001b[0;32m   (...)\u001b[0m\n\u001b[1;32m   2778\u001b[0m     \u001b[39m*\u001b[39m\u001b[39m*\u001b[39mkwargs,\n\u001b[1;32m   2779\u001b[0m )\n\u001b[0;32m-> 2781\u001b[0m \u001b[39mreturn\u001b[39;00m \u001b[39mself\u001b[39;49m\u001b[39m.\u001b[39;49m_encode_plus(\n\u001b[1;32m   2782\u001b[0m     text\u001b[39m=\u001b[39;49mtext,\n\u001b[1;32m   2783\u001b[0m     text_pair\u001b[39m=\u001b[39;49mtext_pair,\n\u001b[1;32m   2784\u001b[0m     add_special_tokens\u001b[39m=\u001b[39;49madd_special_tokens,\n\u001b[1;32m   2785\u001b[0m     padding_strategy\u001b[39m=\u001b[39;49mpadding_strategy,\n\u001b[1;32m   2786\u001b[0m     truncation_strategy\u001b[39m=\u001b[39;49mtruncation_strategy,\n\u001b[1;32m   2787\u001b[0m     max_length\u001b[39m=\u001b[39;49mmax_length,\n\u001b[1;32m   2788\u001b[0m     stride\u001b[39m=\u001b[39;49mstride,\n\u001b[1;32m   2789\u001b[0m     is_split_into_words\u001b[39m=\u001b[39;49mis_split_into_words,\n\u001b[1;32m   2790\u001b[0m     pad_to_multiple_of\u001b[39m=\u001b[39;49mpad_to_multiple_of,\n\u001b[1;32m   2791\u001b[0m     return_tensors\u001b[39m=\u001b[39;49mreturn_tensors,\n\u001b[1;32m   2792\u001b[0m     return_token_type_ids\u001b[39m=\u001b[39;49mreturn_token_type_ids,\n\u001b[1;32m   2793\u001b[0m     return_attention_mask\u001b[39m=\u001b[39;49mreturn_attention_mask,\n\u001b[1;32m   2794\u001b[0m     return_overflowing_tokens\u001b[39m=\u001b[39;49mreturn_overflowing_tokens,\n\u001b[1;32m   2795\u001b[0m     return_special_tokens_mask\u001b[39m=\u001b[39;49mreturn_special_tokens_mask,\n\u001b[1;32m   2796\u001b[0m     return_offsets_mapping\u001b[39m=\u001b[39;49mreturn_offsets_mapping,\n\u001b[1;32m   2797\u001b[0m     return_length\u001b[39m=\u001b[39;49mreturn_length,\n\u001b[1;32m   2798\u001b[0m     verbose\u001b[39m=\u001b[39;49mverbose,\n\u001b[1;32m   2799\u001b[0m     \u001b[39m*\u001b[39;49m\u001b[39m*\u001b[39;49mkwargs,\n\u001b[1;32m   2800\u001b[0m )\n",
      "File \u001b[0;32m~/mambaforge/envs/llm/lib/python3.11/site-packages/transformers/tokenization_utils_fast.py:524\u001b[0m, in \u001b[0;36mPreTrainedTokenizerFast._encode_plus\u001b[0;34m(self, text, text_pair, add_special_tokens, padding_strategy, truncation_strategy, max_length, stride, is_split_into_words, pad_to_multiple_of, return_tensors, return_token_type_ids, return_attention_mask, return_overflowing_tokens, return_special_tokens_mask, return_offsets_mapping, return_length, verbose, **kwargs)\u001b[0m\n\u001b[1;32m    502\u001b[0m \u001b[39mdef\u001b[39;00m \u001b[39m_encode_plus\u001b[39m(\n\u001b[1;32m    503\u001b[0m     \u001b[39mself\u001b[39m,\n\u001b[1;32m    504\u001b[0m     text: Union[TextInput, PreTokenizedInput],\n\u001b[0;32m   (...)\u001b[0m\n\u001b[1;32m    521\u001b[0m     \u001b[39m*\u001b[39m\u001b[39m*\u001b[39mkwargs,\n\u001b[1;32m    522\u001b[0m ) \u001b[39m-\u001b[39m\u001b[39m>\u001b[39m BatchEncoding:\n\u001b[1;32m    523\u001b[0m     batched_input \u001b[39m=\u001b[39m [(text, text_pair)] \u001b[39mif\u001b[39;00m text_pair \u001b[39melse\u001b[39;00m [text]\n\u001b[0;32m--> 524\u001b[0m     batched_output \u001b[39m=\u001b[39m \u001b[39mself\u001b[39;49m\u001b[39m.\u001b[39;49m_batch_encode_plus(\n\u001b[1;32m    525\u001b[0m         batched_input,\n\u001b[1;32m    526\u001b[0m         is_split_into_words\u001b[39m=\u001b[39;49mis_split_into_words,\n\u001b[1;32m    527\u001b[0m         add_special_tokens\u001b[39m=\u001b[39;49madd_special_tokens,\n\u001b[1;32m    528\u001b[0m         padding_strategy\u001b[39m=\u001b[39;49mpadding_strategy,\n\u001b[1;32m    529\u001b[0m         truncation_strategy\u001b[39m=\u001b[39;49mtruncation_strategy,\n\u001b[1;32m    530\u001b[0m         max_length\u001b[39m=\u001b[39;49mmax_length,\n\u001b[1;32m    531\u001b[0m         stride\u001b[39m=\u001b[39;49mstride,\n\u001b[1;32m    532\u001b[0m         pad_to_multiple_of\u001b[39m=\u001b[39;49mpad_to_multiple_of,\n\u001b[1;32m    533\u001b[0m         return_tensors\u001b[39m=\u001b[39;49mreturn_tensors,\n\u001b[1;32m    534\u001b[0m         return_token_type_ids\u001b[39m=\u001b[39;49mreturn_token_type_ids,\n\u001b[1;32m    535\u001b[0m         return_attention_mask\u001b[39m=\u001b[39;49mreturn_attention_mask,\n\u001b[1;32m    536\u001b[0m         return_overflowing_tokens\u001b[39m=\u001b[39;49mreturn_overflowing_tokens,\n\u001b[1;32m    537\u001b[0m         return_special_tokens_mask\u001b[39m=\u001b[39;49mreturn_special_tokens_mask,\n\u001b[1;32m    538\u001b[0m         return_offsets_mapping\u001b[39m=\u001b[39;49mreturn_offsets_mapping,\n\u001b[1;32m    539\u001b[0m         return_length\u001b[39m=\u001b[39;49mreturn_length,\n\u001b[1;32m    540\u001b[0m         verbose\u001b[39m=\u001b[39;49mverbose,\n\u001b[1;32m    541\u001b[0m         \u001b[39m*\u001b[39;49m\u001b[39m*\u001b[39;49mkwargs,\n\u001b[1;32m    542\u001b[0m     )\n\u001b[1;32m    544\u001b[0m     \u001b[39m# Return tensor is None, then we can remove the leading batch axis\u001b[39;00m\n\u001b[1;32m    545\u001b[0m     \u001b[39m# Overflowing tokens are returned as a batch of output so we keep them in this case\u001b[39;00m\n\u001b[1;32m    546\u001b[0m     \u001b[39mif\u001b[39;00m return_tensors \u001b[39mis\u001b[39;00m \u001b[39mNone\u001b[39;00m \u001b[39mand\u001b[39;00m \u001b[39mnot\u001b[39;00m return_overflowing_tokens:\n",
      "File \u001b[0;32m~/mambaforge/envs/llm/lib/python3.11/site-packages/transformers/tokenization_utils_fast.py:452\u001b[0m, in \u001b[0;36mPreTrainedTokenizerFast._batch_encode_plus\u001b[0;34m(self, batch_text_or_text_pairs, add_special_tokens, padding_strategy, truncation_strategy, max_length, stride, is_split_into_words, pad_to_multiple_of, return_tensors, return_token_type_ids, return_attention_mask, return_overflowing_tokens, return_special_tokens_mask, return_offsets_mapping, return_length, verbose)\u001b[0m\n\u001b[1;32m    443\u001b[0m \u001b[39m# Set the truncation and padding strategy and restore the initial configuration\u001b[39;00m\n\u001b[1;32m    444\u001b[0m \u001b[39mself\u001b[39m\u001b[39m.\u001b[39mset_truncation_and_padding(\n\u001b[1;32m    445\u001b[0m     padding_strategy\u001b[39m=\u001b[39mpadding_strategy,\n\u001b[1;32m    446\u001b[0m     truncation_strategy\u001b[39m=\u001b[39mtruncation_strategy,\n\u001b[0;32m   (...)\u001b[0m\n\u001b[1;32m    449\u001b[0m     pad_to_multiple_of\u001b[39m=\u001b[39mpad_to_multiple_of,\n\u001b[1;32m    450\u001b[0m )\n\u001b[0;32m--> 452\u001b[0m encodings \u001b[39m=\u001b[39m \u001b[39mself\u001b[39;49m\u001b[39m.\u001b[39;49m_tokenizer\u001b[39m.\u001b[39;49mencode_batch(\n\u001b[1;32m    453\u001b[0m     batch_text_or_text_pairs,\n\u001b[1;32m    454\u001b[0m     add_special_tokens\u001b[39m=\u001b[39;49madd_special_tokens,\n\u001b[1;32m    455\u001b[0m     is_pretokenized\u001b[39m=\u001b[39;49mis_split_into_words,\n\u001b[1;32m    456\u001b[0m )\n\u001b[1;32m    458\u001b[0m \u001b[39m# Convert encoding to dict\u001b[39;00m\n\u001b[1;32m    459\u001b[0m \u001b[39m# `Tokens` has type: Tuple[\u001b[39;00m\n\u001b[1;32m    460\u001b[0m \u001b[39m#                       List[Dict[str, List[List[int]]]] or List[Dict[str, 2D-Tensor]],\u001b[39;00m\n\u001b[1;32m    461\u001b[0m \u001b[39m#                       List[EncodingFast]\u001b[39;00m\n\u001b[1;32m    462\u001b[0m \u001b[39m#                    ]\u001b[39;00m\n\u001b[1;32m    463\u001b[0m \u001b[39m# with nested dimensions corresponding to batch, overflows, sequence length\u001b[39;00m\n\u001b[1;32m    464\u001b[0m tokens_and_encodings \u001b[39m=\u001b[39m [\n\u001b[1;32m    465\u001b[0m     \u001b[39mself\u001b[39m\u001b[39m.\u001b[39m_convert_encoding(\n\u001b[1;32m    466\u001b[0m         encoding\u001b[39m=\u001b[39mencoding,\n\u001b[0;32m   (...)\u001b[0m\n\u001b[1;32m    475\u001b[0m     \u001b[39mfor\u001b[39;00m encoding \u001b[39min\u001b[39;00m encodings\n\u001b[1;32m    476\u001b[0m ]\n",
      "\u001b[0;31mKeyboardInterrupt\u001b[0m: "
     ]
    }
   ],
   "source": [
    "#Print 10 of the shortest texts\n",
    "for i in range(10):\n",
    "    print(f'Example {i+1} of texts under 100 tokens:')\n",
    "    print([text for text in custom_split_texts if len(tokenizer.tokenize(text)) < 100][i])\n",
    "    print('\\n')"
   ]
  },
  {
   "cell_type": "markdown",
   "metadata": {},
   "source": [
    "## Random stuff"
   ]
  },
  {
   "cell_type": "code",
   "execution_count": 19,
   "metadata": {},
   "outputs": [
    {
     "data": {
      "application/vnd.jupyter.widget-view+json": {
       "model_id": "0758d1bb78ee4a79bfa234ad0436eea0",
       "version_major": 2,
       "version_minor": 0
      },
      "text/plain": [
       "Parsing nodes:   0%|          | 0/431 [00:00<?, ?it/s]"
      ]
     },
     "metadata": {},
     "output_type": "display_data"
    }
   ],
   "source": [
    "from llama_index.node_parser import SimpleNodeParser\n",
    "\n",
    "node_parser = SimpleNodeParser.from_defaults(chunk_size=512, chunk_overlap=20)\n",
    "nodes = node_parser.get_nodes_from_documents(documents, show_progress=True)"
   ]
  },
  {
   "cell_type": "code",
   "execution_count": null,
   "metadata": {},
   "outputs": [],
   "source": [
    "from llama_index.node_parser import SentenceWindowNodeParser \n",
    "\n",
    "window_node_parser = SentenceWindowNodeParser(sentence_splitter,\n",
    "                                              window_size=3,\n",
    "                                              include_prev_next_rel=True,\n",
    "                                              include_metadata=True)\n",
    "\n",
    "\n",
    "window_nodes_vejledninger = window_node_parser.get_nodes_from_documents(\n",
    "    documents_vejledninger, show_progress=True\n",
    ")"
   ]
  },
  {
   "cell_type": "code",
   "execution_count": null,
   "metadata": {},
   "outputs": [],
   "source": [
    "text_splitter = SentenceSplitter(chunk_size=512, chunk_overlap=10)\n",
    "service_context = ServiceContext.from_defaults(text_splitter=text_splitter)"
   ]
  }
 ],
 "metadata": {
  "kernelspec": {
   "display_name": "llm",
   "language": "python",
   "name": "python3"
  },
  "language_info": {
   "codemirror_mode": {
    "name": "ipython",
    "version": 3
   },
   "file_extension": ".py",
   "mimetype": "text/x-python",
   "name": "python",
   "nbconvert_exporter": "python",
   "pygments_lexer": "ipython3",
   "version": "3.11.4"
  }
 },
 "nbformat": 4,
 "nbformat_minor": 2
}
