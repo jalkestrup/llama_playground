{
 "cells": [
  {
   "cell_type": "code",
   "execution_count": 1,
   "metadata": {},
   "outputs": [],
   "source": [
    "import os\n",
    "from dotenv import load_dotenv\n",
    "\n",
    "load_dotenv(override=True)\n",
    "\n",
    "OPENAI_API_KEY = os.environ.get(\"OPENAI_API_KEY\")"
   ]
  },
  {
   "cell_type": "markdown",
   "metadata": {},
   "source": [
    "## Loading CSVs into dict"
   ]
  },
  {
   "cell_type": "code",
   "execution_count": 2,
   "metadata": {},
   "outputs": [],
   "source": [
    "# Reload vejledninger_html_2-11-2023.csv into vejledninger_html_dict as key,value pairs\n",
    "import csv\n",
    "import sys\n",
    "csv.field_size_limit(sys.maxsize)\n",
    "\n",
    "vejledninger_tekst_dict = {}\n",
    "csv_file_path = 'data/vejledninger_tekst_8-11-2023.csv'\n",
    "with open(csv_file_path, 'r', newline='', encoding='utf-8') as f:\n",
    "    reader = csv.reader(f)\n",
    "    #Skip first row\n",
    "    next(reader)\n",
    "\n",
    "    for row in reader:\n",
    "        key = row[0]\n",
    "        value = row[1]\n",
    "        vejledninger_tekst_dict[key] = value"
   ]
  },
  {
   "cell_type": "code",
   "execution_count": 3,
   "metadata": {},
   "outputs": [
    {
     "name": "stdout",
     "output_type": "stream",
     "text": [
      "A total of 431 vejledninger were loaded into vejledninger_html_dict.\n"
     ]
    }
   ],
   "source": [
    "print(f'A total of {len(vejledninger_tekst_dict)} vejledninger were loaded into vejledninger_html_dict.')"
   ]
  },
  {
   "cell_type": "code",
   "execution_count": 4,
   "metadata": {},
   "outputs": [
    {
     "data": {
      "text/plain": [
       "'bejdsfortjeneste ved pasning af et handicappet barn i hjemmet. Der kan dog kun udbetales ydelser efter det ene af de to regelsæt. Udbetaling Danmark skal vejlede forældre, der kan være omfattet af begge regelsæt om reglerne. Udbetaling Danmark skal blandt andet oplyse forældrene om, at de kan søge om tabt arbejdsfortjeneste fra kommunen, og at forældre, som både opfylder betingelserne for at få dagpenge efter barselsloven og tabt arbejdsfortjeneste efter serviceloven, har mulighed for at vælge mellem de to regelsæt. Der henvises til Ankestyrelsens principafgørelse 23-15.\\n\\n2.Personkreds\\n2.1.Forældre/adoptivforældre\\nAnkestyrelsen har i principmeddelelse 15-22 slået fast, at forældrebegrebet i barselsloven forstås som far, mor og medmor og fortolkes i overensstemmelse med børnelovens regler.\\nBørneloven anerkender alene far, mor og medmor som forældre til et barn. Andre personer, f.eks. stedforældre eller bedsteforældre, er derimod ikke omfattet af den berettigede personkreds.\\nDen personkreds, der er berettiget til dagpenge ved pasning af alvorligt syge børn, omfatter desuden adoptivforældre.\\nUdbetaling af dagpenge kompenserer forældrene for det indtægtstab, de har i forbindelse med, at de helt eller delvis opgiver deres arbejde som lønmodtager eller selvstændig erhvervsdrivende i forbindelse med barnets sygdom.\\nBegge forældre vil kunne modtage dagpenge til pasning af barnet, selvom kun en af forældrene har forældremyndigheden. Hvis begge forældre opgiver arbejdet eller arbejder på nedsat tid for at passe deres syge barn samtidig, sker der en fordeling af dagpengene, jf. nærmere afsnit 5.2.\\n\\n3.Betingelser for ret til dagpenge ved pasning af alvorligt syge børn\\n3.1.Alvorligt syge børn under 18 år\\nHovedbetingelsen for at have ret til dagpenge er, at barnet er under 18 år, og at barnet er alvorligt sygt. At barnet er alvorligt sygt betyder ikke, at barnet skal lide af en livstruende sygdom, men det betyder, at barnet har behov for ophold på hospital eller lignende institut'"
      ]
     },
     "execution_count": 4,
     "metadata": {},
     "output_type": "execute_result"
    }
   ],
   "source": [
    "vejledninger_tekst_dict['Vejledning om ret til dagpenge efter barselsloven ved pasning af alvorligt syge børn'][3000:5000]"
   ]
  },
  {
   "cell_type": "markdown",
   "metadata": {},
   "source": [
    "### Load into Llamaindex documents\n",
    "Esentially just dicts with text and metadata"
   ]
  },
  {
   "cell_type": "code",
   "execution_count": 5,
   "metadata": {},
   "outputs": [],
   "source": [
    "from llama_index import Document\n",
    "documents_vejledninger = [Document(text=content, metadata={\"file_name\": name}) for name, content in vejledninger_tekst_dict.items()]"
   ]
  },
  {
   "cell_type": "markdown",
   "metadata": {},
   "source": [
    "## Chunking text"
   ]
  },
  {
   "cell_type": "code",
   "execution_count": 58,
   "metadata": {},
   "outputs": [
    {
     "data": {
      "application/vnd.jupyter.widget-view+json": {
       "model_id": "52ff7ecda0c241148129940f08557982",
       "version_major": 2,
       "version_minor": 0
      },
      "text/plain": [
       "Parsing nodes:   0%|          | 0/431 [00:00<?, ?it/s]"
      ]
     },
     "metadata": {},
     "output_type": "display_data"
    },
    {
     "name": "stderr",
     "output_type": "stream",
     "text": [
      "Token indices sequence length is longer than the specified maximum sequence length for this model (16295 > 512). Running this sequence through the model will result in indexing errors\n"
     ]
    }
   ],
   "source": [
    "from llama_index.node_parser import SentenceSplitter\n",
    "from transformers import AutoTokenizer\n",
    "\n",
    "#Setting max length and defining tokenizer as intended embedding model (e5)\n",
    "node_parser = SentenceSplitter(chunk_size=512, \n",
    "                               chunk_overlap=0, \n",
    "                               paragraph_separator=\"\\n\\n\", \n",
    "                               tokenizer=AutoTokenizer.from_pretrained('intfloat/e5-base-v2').tokenize\n",
    "                               )\n",
    "\n",
    "\n",
    "nodes_vejledninger = node_parser.get_nodes_from_documents(\n",
    "    documents_vejledninger, show_progress=True\n",
    ")"
   ]
  },
  {
   "cell_type": "code",
   "execution_count": 59,
   "metadata": {},
   "outputs": [
    {
     "data": {
      "text/plain": [
       "'Det er det timetal, der er indberettet til indkomstregistret, der skal medregnes. Ved beskæftigelse, der i henhold til aftale eller gældende overenskomst anses som fuldtidsbeskæftigelse, selv om det udføres på kortere end normal arbejdstid, medregnes med 37 timer ugentligt, hvis der er indberettet 37 timer til indkomstregistret.\\n\\nLøntimerne kan medregnes til opfyldelse af beskæftigelseskravet, hvis timerne er indberettet til indkomstregisteret for 4 måneders perioden.\\n\\nTimer, der er indberettet for en periode, som går over flere kalendermåneder, skal fordeles forholdsmæssigt på kalendermånederne, jf. bekendtgørelsens § 2, stk. 4. I disse tilfælde håndteres indberetningen sådan, at både beløb og timetal fordeles efter antal kalenderdage på de måneder, der er berørt af indberetningen. En indberetning, der har startdato 17. januar 2022 og slutdato 10. februar 2022, vil således blive fordelt med 15 dage i januar og 10 dage i februar. 60 pct. af timerne og indkomsten vil således blive henført til januar, mens 40 pct. henføres til februar.'"
      ]
     },
     "execution_count": 59,
     "metadata": {},
     "output_type": "execute_result"
    }
   ],
   "source": [
    "nodes_vejledninger[9].text"
   ]
  },
  {
   "cell_type": "code",
   "execution_count": 61,
   "metadata": {},
   "outputs": [
    {
     "data": {
      "image/png": "[encoded data removed]",
      "text/plain": [
       "<Figure size 640x480 with 1 Axes>"
      ]
     },
     "metadata": {},
     "output_type": "display_data"
    }
   ],
   "source": [
    "### Use HF tokenizer to verify length\n",
    "from transformers import AutoTokenizer, AutoModel\n",
    "tokenizer = AutoTokenizer.from_pretrained('intfloat/e5-base-v2')\n",
    "token_counts = []\n",
    "for text in [node.text for node in nodes_vejledninger]:\n",
    "    token_counts.append(len(tokenizer.tokenize(text)))\n",
    "\n",
    "# batch_dict = tokenizer([node.text for node in nodes_vejledninger], max_length=512, padding=True, truncation=True, return_tensors='pt')\n",
    "\n",
    "#Plot a histogram of the length of the text in all nodes\n",
    "import matplotlib.pyplot as plt\n",
    "import numpy as np\n",
    "text_len = token_counts\n",
    "plt.hist(text_len, bins=100)\n",
    "plt.title('Histogram of text length in nodes')\n",
    "plt.xlabel('Text length')\n",
    "plt.ylabel('Number of nodes')\n",
    "plt.show()\n"
   ]
  },
  {
   "cell_type": "code",
   "execution_count": 62,
   "metadata": {},
   "outputs": [
    {
     "name": "stdout",
     "output_type": "stream",
     "text": [
      "Example 1 of texts under 100 tokens:\n",
      "Baggrund\n",
      "At-vejledningen knytter sig til bekendtgørelsen om arbejdsmiljøfaglige uddannelser.\n",
      "\n",
      "At-meddelelse 2.01.2 om gaffeltruckførercertifikat ophæves den 31. december 2017.\n",
      "\n",
      "Arbejdstilsynet, den 22. november 2017\n",
      "\n",
      "\n",
      "Example 2 of texts under 100 tokens:\n",
      "skadedatoen.\n",
      "Arbejdsskadestyrelsen, den 31. december  \n",
      "\n",
      " 2000\n",
      "Anne Lind Madsen\n",
      "/Bent Mathiesen\n",
      "\n",
      "\n",
      "Example 3 of texts under 100 tokens:\n",
      "Årlig erstatning fra 1. januar 2021: 85.209,71 kr. × 1,536 = 130.882,11 kr., som forhøjes til nærmeste med 12 delelige kronebeløb: 130.884 kr.\n",
      "Månedlig erstatning: 10.907 kr.\n",
      "\n",
      "\n",
      "Example 4 of texts under 100 tokens:\n",
      "A-kassens afgørelse skal indeholde klagevejledning, jf. § 3, stk. 1, i bekendtgørelse nr. 908 af 1. september 2004 om klage over a-kassernes afgørelser.\n",
      "A-kassernes afgørelser skal i øvrigt indeholde følgende elementer:\n",
      "\n",
      "\n",
      "Example 5 of texts under 100 tokens:\n",
      "Det gælder også i tilfælde, hvor forældrene tilsammen har modtaget dagpenge med et højere dagpengebeløb efter barselslovens § 26, stk. 4.\n",
      "\n",
      "Styrelsen for Arbejdsmarked og Rekruttering, den 24. juni 2022\n",
      "Mie Skovbæk Mortensen\n",
      "/ Yvonne Olesen\n",
      "\n",
      "\n"
     ]
    }
   ],
   "source": [
    "#Print first 5 examples of texts under 100 tokens\n",
    "for i in range(5):\n",
    "    print(f'Example {i+1} of texts under 100 tokens:')\n",
    "    print([node.text for node in nodes_vejledninger if len(tokenizer.tokenize(node.text)) < 100][i])\n",
    "    print('\\n')"
   ]
  },
  {
   "cell_type": "code",
   "execution_count": 6,
   "metadata": {},
   "outputs": [
    {
     "data": {
      "application/vnd.jupyter.widget-view+json": {
       "model_id": "93ee5469722442e39cb840634ec66950",
       "version_major": 2,
       "version_minor": 0
      },
      "text/plain": [
       "Parsing nodes:   0%|          | 0/431 [00:00<?, ?it/s]"
      ]
     },
     "metadata": {},
     "output_type": "display_data"
    }
   ],
   "source": [
    "from llama_index.node_parser import SentenceSplitter\n",
    "from transformers import AutoTokenizer\n",
    "from llama_index.callbacks import CallbackManager, TokenCountingHandler\n",
    "import tiktoken\n",
    "\n",
    "node_parser_not_token = SentenceSplitter(chunk_size=512, \n",
    "                               chunk_overlap=0, \n",
    "                               paragraph_separator=\"\\n\\n\",\n",
    "                               )\n",
    "\n",
    "\n",
    "nodes_vejledninger_not_token = node_parser_not_token.get_nodes_from_documents(\n",
    "    documents_vejledninger, show_progress=True\n",
    ")"
   ]
  },
  {
   "cell_type": "code",
   "execution_count": 8,
   "metadata": {},
   "outputs": [
    {
     "name": "stderr",
     "output_type": "stream",
     "text": [
      "Token indices sequence length is longer than the specified maximum sequence length for this model (538 > 512). Running this sequence through the model will result in indexing errors\n"
     ]
    },
    {
     "data": {
      "image/png": "[encoded data removed]",
      "text/plain": [
       "<Figure size 640x480 with 1 Axes>"
      ]
     },
     "metadata": {},
     "output_type": "display_data"
    }
   ],
   "source": [
    "### Use HF tokenizer to verify length\n",
    "from transformers import AutoTokenizer, AutoModel\n",
    "tokenizer = AutoTokenizer.from_pretrained('intfloat/e5-base-v2')\n",
    "token_counts = []\n",
    "for text in [node.text for node in nodes_vejledninger_not_token]:\n",
    "    token_counts.append(len(tokenizer.tokenize(text)))\n",
    "\n",
    "# batch_dict = tokenizer([node.text for node in nodes_vejledninger], max_length=512, padding=True, truncation=True, return_tensors='pt')\n",
    "\n",
    "#Plot a histogram of the length of the text in all nodes\n",
    "import matplotlib.pyplot as plt\n",
    "import numpy as np\n",
    "text_len = token_counts\n",
    "plt.hist(text_len, bins=100)\n",
    "plt.title('Histogram of text length in nodes')\n",
    "plt.xlabel('Text length')\n",
    "plt.xlim(0, 750)\n",
    "plt.ylabel('Number of nodes')\n",
    "plt.show()\n"
   ]
  },
  {
   "cell_type": "markdown",
   "metadata": {},
   "source": [
    "### Langchain"
   ]
  },
  {
   "cell_type": "code",
   "execution_count": 10,
   "metadata": {},
   "outputs": [],
   "source": [
    "from langchain.text_splitter import RecursiveCharacterTextSplitter\n",
    "\n",
    "def e5_len(text):\n",
    "    return len(tokenizer.tokenize(text))\n",
    "\n",
    "langchain_text_splitter = RecursiveCharacterTextSplitter(\n",
    "    chunk_size = 512,\n",
    "    chunk_overlap  = 0,\n",
    "    length_function = e5_len,\n",
    ")"
   ]
  },
  {
   "cell_type": "code",
   "execution_count": 30,
   "metadata": {},
   "outputs": [
    {
     "name": "stderr",
     "output_type": "stream",
     "text": [
      "Token indices sequence length is longer than the specified maximum sequence length for this model (785 > 512). Running this sequence through the model will result in indexing errors\n"
     ]
    }
   ],
   "source": [
    "langchain_texts = langchain_text_splitter.create_documents([document.text for document in documents_vejledninger])"
   ]
  },
  {
   "cell_type": "code",
   "execution_count": 14,
   "metadata": {},
   "outputs": [
    {
     "data": {
      "text/plain": [
       "18388"
      ]
     },
     "execution_count": 14,
     "metadata": {},
     "output_type": "execute_result"
    }
   ],
   "source": [
    "len(langchain_texts)"
   ]
  },
  {
   "cell_type": "code",
   "execution_count": 31,
   "metadata": {},
   "outputs": [
    {
     "data": {
      "text/plain": [
       "'Vejledning om beskæftigelseskravet for ret til barselsdagpenge\\n\\n1.Indledning\\nI denne vejledning beskrives hvilke beskæftigelseskrav, der gælder for at opnå ret til barselsdagpenge. Reglerne findes i §§ 27-29 i barselsloven (loven).\\n\\nI bekendtgørelse nr. 1090 af 1. juni 2021 om opgørelse af beskæftigelseskrav og beregning af barselsdagpenge m.v. (bekendtgørelsen) er fastsat nærmere regler om opgørelsen af beskæftigelseskravet.\\n\\nDenne vejledning erstatter vejledning nr. 10066 af 29. december 2020 om beskæftigelseskravet for ret til barselsdagpenge.\\n\\nEn lønmodtager har ret til barselsdagpenge, hvis pågældende opfylder ét af de fem krav om tilknytning til arbejdsmarkedet, der er nævnt i lovens § 27, stk. 1.\\n\\nKravet om aktuel beskæftigelse dagen før fraværet eller på første fraværsdag samt beskæftigelse i mindst 160 timer indberettet i indkomstregistret inden for de seneste 4 afsluttede kalendermåneder forud for fraværsperioden, jf. lovens § 27, stk. 1, nr. 1, er beskrevet i pkt. 2.1.\\n\\nKravet om at ville have været berettiget til arbejdsløshedsdagpenge eller en ydelse, der træder i stedet herfor, jf. lov om arbejdsløshedsforsikring m.v., jf. lovens § 27, stk. 1, nr. 2, er beskrevet i pkt. 2.2.'"
      ]
     },
     "execution_count": 31,
     "metadata": {},
     "output_type": "execute_result"
    }
   ],
   "source": [
    "langchain_texts[0].page_content"
   ]
  },
  {
   "cell_type": "code",
   "execution_count": 29,
   "metadata": {},
   "outputs": [
    {
     "data": {
      "text/plain": [
       "'Kravet om inden for den seneste måned at have afsluttet en erhvervsmæssig uddannelse af mindst 18 måneders varighed, jf. lovens § 27, stk. 1, nr. 4, er beskrevet i pkt. 2.3.\\n\\nKravet om at være elev i lønnet praktik i en uddannelse, der er reguleret ved eller i henhold til lov, jf. lovens § 27, stk. 1, nr. 5, er beskrevet i pkt. 2.4.\\n\\nKravet om at være ansat i fleksjob, jf. lovens § 27, stk. 1, nr. 6, er beskrevet i pkt. 2.5.'"
      ]
     },
     "execution_count": 29,
     "metadata": {},
     "output_type": "execute_result"
    }
   ],
   "source": [
    "langchain_texts[1].page_content"
   ]
  },
  {
   "cell_type": "code",
   "execution_count": 36,
   "metadata": {},
   "outputs": [
    {
     "data": {
      "image/png": "[encoded data removed]",
      "text/plain": [
       "<Figure size 640x480 with 1 Axes>"
      ]
     },
     "metadata": {},
     "output_type": "display_data"
    }
   ],
   "source": [
    "### Use HF tokenizer to verify length\n",
    "from transformers import AutoTokenizer, AutoModel\n",
    "tokenizer = AutoTokenizer.from_pretrained('intfloat/e5-base-v2')\n",
    "token_counts = []\n",
    "#Iterate over .page_content of each langchain_text\n",
    "for text in [str(text.page_content) for text in langchain_texts]:\n",
    "    token_counts.append(len(tokenizer.tokenize(text)))\n",
    "\n",
    "# batch_dict = tokenizer([node.text for node in nodes_vejledninger], max_length=512, padding=True, truncation=True, return_tensors='pt')\n",
    "\n",
    "#Plot a histogram of the length of the text in all nodes\n",
    "import matplotlib.pyplot as plt\n",
    "import numpy as np\n",
    "text_len = token_counts\n",
    "plt.hist(text_len, bins=100)\n",
    "plt.title('Histogram of text length in nodes')\n",
    "plt.xlabel('Text length')\n",
    "plt.xlim(0, 750)\n",
    "plt.ylabel('Number of nodes')\n",
    "plt.show()\n"
   ]
  },
  {
   "cell_type": "code",
   "execution_count": 37,
   "metadata": {},
   "outputs": [
    {
     "name": "stdout",
     "output_type": "stream",
     "text": [
      "Example 1 of texts under 100 tokens:\n",
      "Vejledning om lungesygdomme\n",
      "Kapitel 7 i Vejledning om erhvervssygdomme anmeldt fra 1. januar 2005\n",
      "Indhold\n",
      "\n",
      "\n",
      "Example 2 of texts under 100 tokens:\n",
      "2.Kronisk bronkitis/KOL (E.7)\n",
      "2.1.Punkt på fortegnelsen\n",
      "Sygdommen kronisk bronkitis/KOL er optaget på fortegnelsen over erhvervssygdomme (gruppe E, punkt 7).\n",
      "\n",
      "\n",
      "Example 3 of texts under 100 tokens:\n",
      "Sygdommen astma er optaget på fortegnelsen over erhvervssygdomme (gruppe E, punkt 8):\n",
      "\n",
      "\n",
      "Example 4 of texts under 100 tokens:\n",
      "4.Hvad må unge ikke arbejde med?\n",
      "Unge på 13-14 år samt ældre unge, der stadig er omfattet af undervisningspligten, må ikke arbejde med noget, der kan være farligt for deres sikkerhed og sundhed.\n",
      "\n",
      "\n",
      "Example 5 of texts under 100 tokens:\n",
      "Arbejde med nanomaterialer\n",
      "De vigtigste regler om forebyggelse af sundhedsfarlige påvirkninger ved arbejde med fremstillede nanomaterialer.\n",
      "At-vejledning 9.3.1-1\n",
      "November 2014 - Opdateret juli 2019\n",
      "\n",
      "\n"
     ]
    }
   ],
   "source": [
    "#Print first 5 examples of texts under 100 tokens\n",
    "\n",
    "for i in range(5):\n",
    "    print(f'Example {i+1} of texts under 100 tokens:')\n",
    "    print([str(text.page_content) for text in langchain_texts if len(tokenizer.tokenize(str(text.page_content))) < 100][i])\n",
    "    print('\\n')"
   ]
  },
  {
   "cell_type": "markdown",
   "metadata": {},
   "source": [
    "## Random stuff"
   ]
  },
  {
   "cell_type": "code",
   "execution_count": 19,
   "metadata": {},
   "outputs": [
    {
     "data": {
      "application/vnd.jupyter.widget-view+json": {
       "model_id": "0758d1bb78ee4a79bfa234ad0436eea0",
       "version_major": 2,
       "version_minor": 0
      },
      "text/plain": [
       "Parsing nodes:   0%|          | 0/431 [00:00<?, ?it/s]"
      ]
     },
     "metadata": {},
     "output_type": "display_data"
    }
   ],
   "source": [
    "from llama_index.node_parser import SimpleNodeParser\n",
    "\n",
    "node_parser = SimpleNodeParser.from_defaults(chunk_size=512, chunk_overlap=20)\n",
    "nodes = node_parser.get_nodes_from_documents(documents, show_progress=True)"
   ]
  },
  {
   "cell_type": "code",
   "execution_count": null,
   "metadata": {},
   "outputs": [],
   "source": [
    "from llama_index.node_parser import SentenceWindowNodeParser \n",
    "\n",
    "window_node_parser = SentenceWindowNodeParser(sentence_splitter,\n",
    "                                              window_size=3,\n",
    "                                              include_prev_next_rel=True,\n",
    "                                              include_metadata=True)\n",
    "\n",
    "\n",
    "window_nodes_vejledninger = window_node_parser.get_nodes_from_documents(\n",
    "    documents_vejledninger, show_progress=True\n",
    ")"
   ]
  },
  {
   "cell_type": "code",
   "execution_count": null,
   "metadata": {},
   "outputs": [],
   "source": [
    "text_splitter = SentenceSplitter(chunk_size=512, chunk_overlap=10)\n",
    "service_context = ServiceContext.from_defaults(text_splitter=text_splitter)"
   ]
  }
 ],
 "metadata": {
  "kernelspec": {
   "display_name": "llm",
   "language": "python",
   "name": "python3"
  },
  "language_info": {
   "codemirror_mode": {
    "name": "ipython",
    "version": 3
   },
   "file_extension": ".py",
   "mimetype": "text/x-python",
   "name": "python",
   "nbconvert_exporter": "python",
   "pygments_lexer": "ipython3",
   "version": "3.11.4"
  }
 },
 "nbformat": 4,
 "nbformat_minor": 2
}
